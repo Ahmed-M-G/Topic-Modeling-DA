{
  "cells": [
    {
      "cell_type": "markdown",
      "metadata": {
        "id": "aC0a2Vk1QVr_"
      },
      "source": [
        "# Lab 4: Basic text preprocessing and topic modeling\n",
        "\n",
        "The goal of this assignment is to get familiar with textual data analysis.\n",
        "\n",
        "\n",
        "**Submission: submit via onq.** \n"
      ]
    },
    {
      "cell_type": "markdown",
      "metadata": {
        "id": "Q7DmDszThiyj"
      },
      "source": [
        "#pip install"
      ]
    },
    {
      "cell_type": "code",
      "source": [
        "# # install kaggle package\n",
        "\n",
        "# # %%capture to hide a single code cell's output in Google Colab?\n",
        "# %%capture\n",
        "# !pip install kaggle\n",
        "\n",
        "# # Then move kaggle.json into the folder where the API expects to find it.\n",
        "# !mkdir -p ~/.kaggle/ && mv kaggle.json ~/.kaggle/ && chmod 600 ~/.kaggle/kaggle.json\n",
        "\n",
        "# # # download the data from kaggle\n",
        "# !kaggle datasets download ahmedsalamas/stackoverflow\n",
        "\n",
        "# # unzip the data \n",
        "# ! unzip stackoverflow"
      ],
      "metadata": {
        "id": "Fo1XYRgB_HKJ"
      },
      "execution_count": 1,
      "outputs": []
    },
    {
      "cell_type": "code",
      "source": [
        "%%capture\n",
        "!pip install pyLDAvis"
      ],
      "metadata": {
        "id": "1B8E9hLmx79m"
      },
      "execution_count": 2,
      "outputs": []
    },
    {
      "cell_type": "markdown",
      "source": [
        "#Import Libraries"
      ],
      "metadata": {
        "id": "0M7XdFmUz5Cg"
      }
    },
    {
      "cell_type": "code",
      "execution_count": 3,
      "metadata": {
        "colab": {
          "base_uri": "https://localhost:8080/"
        },
        "id": "4qkdDWMiQVsA",
        "outputId": "f9548dab-57bb-4c79-ba62-7b9093409152"
      },
      "outputs": [
        {
          "output_type": "stream",
          "name": "stderr",
          "text": [
            "/usr/local/lib/python3.7/dist-packages/past/types/oldstr.py:5: DeprecationWarning: Using or importing the ABCs from 'collections' instead of from 'collections.abc' is deprecated since Python 3.3,and in 3.9 it will stop working\n",
            "  from collections import Iterable\n"
          ]
        }
      ],
      "source": [
        "# Import needed libraries. E.g., pandas, sklearn, nltk, etc. \n",
        "import numpy as np\n",
        "import pandas as pd\n",
        "\n",
        "from bs4 import BeautifulSoup\n",
        "import lxml\n",
        "import re\n",
        "\n",
        "import nltk\n",
        "from nltk.corpus import stopwords\n",
        "from nltk.tokenize import ToktokTokenizer\n",
        "from nltk.stem.wordnet import WordNetLemmatizer\n",
        "from nltk.stem.snowball import SnowballStemmer\n",
        "from nltk.corpus import wordnet\n",
        "\n",
        "from sklearn.decomposition import PCA\n",
        "from matplotlib import pyplot\n",
        "\n",
        "import gensim\n",
        "from gensim.models import Word2Vec\n",
        "from gensim.corpora import Dictionary\n",
        "from gensim.models import KeyedVectors\n",
        "from gensim.models import LdaModel\n",
        "from gensim.models import CoherenceModel\n",
        "\n",
        "import matplotlib.pyplot as plt\n",
        "%matplotlib inline\n",
        "\n",
        "import pyLDAvis\n",
        "import pyLDAvis.gensim_models as gensimvis\n",
        "pyLDAvis.enable_notebook()"
      ]
    },
    {
      "cell_type": "markdown",
      "source": [
        "###download packages"
      ],
      "metadata": {
        "id": "C8STQ4R58nQY"
      }
    },
    {
      "cell_type": "code",
      "source": [
        "# nltk packages\n",
        "%%capture\n",
        "nltk.download(\"stopwords\")\n",
        "nltk.download('punkt')\n",
        "nltk.download('wordnet')\n",
        "nltk.download('averaged_perceptron_tagger')"
      ],
      "metadata": {
        "id": "1xcuZQyw8xpK"
      },
      "execution_count": 4,
      "outputs": []
    },
    {
      "cell_type": "markdown",
      "metadata": {
        "id": "FTVGzGOtQVsB"
      },
      "source": [
        "#Task 1: The given dataset is a table containing questions about R on StackOverflow site. Your first task is to perform standard text prepossessing steps introduced in lectures for future tasks. You can perform analysis on title or body of the questions."
      ]
    },
    {
      "cell_type": "markdown",
      "source": [
        "## Data Reading"
      ],
      "metadata": {
        "id": "nTLTtS2qCf5D"
      }
    },
    {
      "cell_type": "code",
      "execution_count": 5,
      "metadata": {
        "id": "fBkIE3SiQVsB"
      },
      "outputs": [],
      "source": [
        "# load the data.\n",
        "df = pd.read_csv('/content/Questions.csv')"
      ]
    },
    {
      "cell_type": "markdown",
      "source": [
        "##Data Exploration"
      ],
      "metadata": {
        "id": "02gtMxT71kbI"
      }
    },
    {
      "cell_type": "code",
      "source": [
        "#diplay the first 5 rows\n",
        "df.head()"
      ],
      "metadata": {
        "colab": {
          "base_uri": "https://localhost:8080/",
          "height": 0
        },
        "id": "LsoHgdD81mJv",
        "outputId": "51941a59-8e95-4146-8e2a-647ca670fc2e"
      },
      "execution_count": 6,
      "outputs": [
        {
          "output_type": "execute_result",
          "data": {
            "text/plain": [
              "       Id  OwnerUserId          CreationDate  Score  \\\n",
              "0   77434      14008.0  2008-09-16T21:40:29Z    171   \n",
              "1   79709          NaN  2008-09-17T03:39:16Z      3   \n",
              "2   95007      15842.0  2008-09-18T17:59:19Z     56   \n",
              "3  103312          NaN  2008-09-19T16:09:26Z      4   \n",
              "4  255697    1941213.0  2008-11-01T15:48:30Z      4   \n",
              "\n",
              "                                               Title  \\\n",
              "0          How to access the last value in a vector?   \n",
              "1  Worse sin: side effects or passing massive obj...   \n",
              "2               Explain the quantile() function in R   \n",
              "3                 How to test for the EOF flag in R?   \n",
              "4  Is there an R package for learning a Dirichlet...   \n",
              "\n",
              "                                                Body  \n",
              "0  <p>Suppose I have a vector that is nested in a...  \n",
              "1  <p>I have a function inside a loop inside a fu...  \n",
              "2  <p>I've been mystified by the R quantile funct...  \n",
              "3  <p>How can I test for the <code>EOF</code> fla...  \n",
              "4  <p>I'm looking for a an <code>R</code> package...  "
            ],
            "text/html": [
              "\n",
              "  <div id=\"df-bcd311f9-5dde-457d-b7d2-88325c4a6f72\">\n",
              "    <div class=\"colab-df-container\">\n",
              "      <div>\n",
              "<style scoped>\n",
              "    .dataframe tbody tr th:only-of-type {\n",
              "        vertical-align: middle;\n",
              "    }\n",
              "\n",
              "    .dataframe tbody tr th {\n",
              "        vertical-align: top;\n",
              "    }\n",
              "\n",
              "    .dataframe thead th {\n",
              "        text-align: right;\n",
              "    }\n",
              "</style>\n",
              "<table border=\"1\" class=\"dataframe\">\n",
              "  <thead>\n",
              "    <tr style=\"text-align: right;\">\n",
              "      <th></th>\n",
              "      <th>Id</th>\n",
              "      <th>OwnerUserId</th>\n",
              "      <th>CreationDate</th>\n",
              "      <th>Score</th>\n",
              "      <th>Title</th>\n",
              "      <th>Body</th>\n",
              "    </tr>\n",
              "  </thead>\n",
              "  <tbody>\n",
              "    <tr>\n",
              "      <th>0</th>\n",
              "      <td>77434</td>\n",
              "      <td>14008.0</td>\n",
              "      <td>2008-09-16T21:40:29Z</td>\n",
              "      <td>171</td>\n",
              "      <td>How to access the last value in a vector?</td>\n",
              "      <td>&lt;p&gt;Suppose I have a vector that is nested in a...</td>\n",
              "    </tr>\n",
              "    <tr>\n",
              "      <th>1</th>\n",
              "      <td>79709</td>\n",
              "      <td>NaN</td>\n",
              "      <td>2008-09-17T03:39:16Z</td>\n",
              "      <td>3</td>\n",
              "      <td>Worse sin: side effects or passing massive obj...</td>\n",
              "      <td>&lt;p&gt;I have a function inside a loop inside a fu...</td>\n",
              "    </tr>\n",
              "    <tr>\n",
              "      <th>2</th>\n",
              "      <td>95007</td>\n",
              "      <td>15842.0</td>\n",
              "      <td>2008-09-18T17:59:19Z</td>\n",
              "      <td>56</td>\n",
              "      <td>Explain the quantile() function in R</td>\n",
              "      <td>&lt;p&gt;I've been mystified by the R quantile funct...</td>\n",
              "    </tr>\n",
              "    <tr>\n",
              "      <th>3</th>\n",
              "      <td>103312</td>\n",
              "      <td>NaN</td>\n",
              "      <td>2008-09-19T16:09:26Z</td>\n",
              "      <td>4</td>\n",
              "      <td>How to test for the EOF flag in R?</td>\n",
              "      <td>&lt;p&gt;How can I test for the &lt;code&gt;EOF&lt;/code&gt; fla...</td>\n",
              "    </tr>\n",
              "    <tr>\n",
              "      <th>4</th>\n",
              "      <td>255697</td>\n",
              "      <td>1941213.0</td>\n",
              "      <td>2008-11-01T15:48:30Z</td>\n",
              "      <td>4</td>\n",
              "      <td>Is there an R package for learning a Dirichlet...</td>\n",
              "      <td>&lt;p&gt;I'm looking for a an &lt;code&gt;R&lt;/code&gt; package...</td>\n",
              "    </tr>\n",
              "  </tbody>\n",
              "</table>\n",
              "</div>\n",
              "      <button class=\"colab-df-convert\" onclick=\"convertToInteractive('df-bcd311f9-5dde-457d-b7d2-88325c4a6f72')\"\n",
              "              title=\"Convert this dataframe to an interactive table.\"\n",
              "              style=\"display:none;\">\n",
              "        \n",
              "  <svg xmlns=\"http://www.w3.org/2000/svg\" height=\"24px\"viewBox=\"0 0 24 24\"\n",
              "       width=\"24px\">\n",
              "    <path d=\"M0 0h24v24H0V0z\" fill=\"none\"/>\n",
              "    <path d=\"M18.56 5.44l.94 2.06.94-2.06 2.06-.94-2.06-.94-.94-2.06-.94 2.06-2.06.94zm-11 1L8.5 8.5l.94-2.06 2.06-.94-2.06-.94L8.5 2.5l-.94 2.06-2.06.94zm10 10l.94 2.06.94-2.06 2.06-.94-2.06-.94-.94-2.06-.94 2.06-2.06.94z\"/><path d=\"M17.41 7.96l-1.37-1.37c-.4-.4-.92-.59-1.43-.59-.52 0-1.04.2-1.43.59L10.3 9.45l-7.72 7.72c-.78.78-.78 2.05 0 2.83L4 21.41c.39.39.9.59 1.41.59.51 0 1.02-.2 1.41-.59l7.78-7.78 2.81-2.81c.8-.78.8-2.07 0-2.86zM5.41 20L4 18.59l7.72-7.72 1.47 1.35L5.41 20z\"/>\n",
              "  </svg>\n",
              "      </button>\n",
              "      \n",
              "  <style>\n",
              "    .colab-df-container {\n",
              "      display:flex;\n",
              "      flex-wrap:wrap;\n",
              "      gap: 12px;\n",
              "    }\n",
              "\n",
              "    .colab-df-convert {\n",
              "      background-color: #E8F0FE;\n",
              "      border: none;\n",
              "      border-radius: 50%;\n",
              "      cursor: pointer;\n",
              "      display: none;\n",
              "      fill: #1967D2;\n",
              "      height: 32px;\n",
              "      padding: 0 0 0 0;\n",
              "      width: 32px;\n",
              "    }\n",
              "\n",
              "    .colab-df-convert:hover {\n",
              "      background-color: #E2EBFA;\n",
              "      box-shadow: 0px 1px 2px rgba(60, 64, 67, 0.3), 0px 1px 3px 1px rgba(60, 64, 67, 0.15);\n",
              "      fill: #174EA6;\n",
              "    }\n",
              "\n",
              "    [theme=dark] .colab-df-convert {\n",
              "      background-color: #3B4455;\n",
              "      fill: #D2E3FC;\n",
              "    }\n",
              "\n",
              "    [theme=dark] .colab-df-convert:hover {\n",
              "      background-color: #434B5C;\n",
              "      box-shadow: 0px 1px 3px 1px rgba(0, 0, 0, 0.15);\n",
              "      filter: drop-shadow(0px 1px 2px rgba(0, 0, 0, 0.3));\n",
              "      fill: #FFFFFF;\n",
              "    }\n",
              "  </style>\n",
              "\n",
              "      <script>\n",
              "        const buttonEl =\n",
              "          document.querySelector('#df-bcd311f9-5dde-457d-b7d2-88325c4a6f72 button.colab-df-convert');\n",
              "        buttonEl.style.display =\n",
              "          google.colab.kernel.accessAllowed ? 'block' : 'none';\n",
              "\n",
              "        async function convertToInteractive(key) {\n",
              "          const element = document.querySelector('#df-bcd311f9-5dde-457d-b7d2-88325c4a6f72');\n",
              "          const dataTable =\n",
              "            await google.colab.kernel.invokeFunction('convertToInteractive',\n",
              "                                                     [key], {});\n",
              "          if (!dataTable) return;\n",
              "\n",
              "          const docLinkHtml = 'Like what you see? Visit the ' +\n",
              "            '<a target=\"_blank\" href=https://colab.research.google.com/notebooks/data_table.ipynb>data table notebook</a>'\n",
              "            + ' to learn more about interactive tables.';\n",
              "          element.innerHTML = '';\n",
              "          dataTable['output_type'] = 'display_data';\n",
              "          await google.colab.output.renderOutput(dataTable, element);\n",
              "          const docLink = document.createElement('div');\n",
              "          docLink.innerHTML = docLinkHtml;\n",
              "          element.appendChild(docLink);\n",
              "        }\n",
              "      </script>\n",
              "    </div>\n",
              "  </div>\n",
              "  "
            ]
          },
          "metadata": {},
          "execution_count": 6
        }
      ]
    },
    {
      "cell_type": "code",
      "source": [
        "#data shape\n",
        "df.shape"
      ],
      "metadata": {
        "colab": {
          "base_uri": "https://localhost:8080/"
        },
        "id": "soDSRRda3Y-U",
        "outputId": "44200e7c-9474-4783-bc48-f78d18a9e243"
      },
      "execution_count": 7,
      "outputs": [
        {
          "output_type": "execute_result",
          "data": {
            "text/plain": [
              "(189930, 6)"
            ]
          },
          "metadata": {},
          "execution_count": 7
        }
      ]
    },
    {
      "cell_type": "code",
      "source": [
        "#data information\n",
        "df.info()"
      ],
      "metadata": {
        "colab": {
          "base_uri": "https://localhost:8080/"
        },
        "id": "K-bsfF_A1vEd",
        "outputId": "c483a74b-48bb-46a9-ae41-683e70ac35a3"
      },
      "execution_count": 8,
      "outputs": [
        {
          "output_type": "stream",
          "name": "stdout",
          "text": [
            "<class 'pandas.core.frame.DataFrame'>\n",
            "RangeIndex: 189930 entries, 0 to 189929\n",
            "Data columns (total 6 columns):\n",
            " #   Column        Non-Null Count   Dtype  \n",
            "---  ------        --------------   -----  \n",
            " 0   Id            189930 non-null  int64  \n",
            " 1   OwnerUserId   188729 non-null  float64\n",
            " 2   CreationDate  189930 non-null  object \n",
            " 3   Score         189930 non-null  int64  \n",
            " 4   Title         189930 non-null  object \n",
            " 5   Body          189930 non-null  object \n",
            "dtypes: float64(1), int64(2), object(3)\n",
            "memory usage: 8.7+ MB\n"
          ]
        }
      ]
    },
    {
      "cell_type": "code",
      "source": [
        "#description of the all data\n",
        "df.describe(include='all').transpose()"
      ],
      "metadata": {
        "colab": {
          "base_uri": "https://localhost:8080/",
          "height": 0
        },
        "id": "4hO8CkuK2AYb",
        "outputId": "e28f4d5e-602b-40bc-f3e2-17a828bfc6f4"
      },
      "execution_count": 9,
      "outputs": [
        {
          "output_type": "execute_result",
          "data": {
            "text/plain": [
              "                 count  unique  \\\n",
              "Id            189930.0     NaN   \n",
              "OwnerUserId   188729.0     NaN   \n",
              "CreationDate    189930  189801   \n",
              "Score         189930.0     NaN   \n",
              "Title           189930  189875   \n",
              "Body            189930  189911   \n",
              "\n",
              "                                                            top freq  \\\n",
              "Id                                                          NaN  NaN   \n",
              "OwnerUserId                                                 NaN  NaN   \n",
              "CreationDate                               2017-04-13T10:05:24Z    2   \n",
              "Score                                                       NaN  NaN   \n",
              "Title                                         Scatter plot in R    3   \n",
              "Body          <p>I working on survival analysis and each tim...    2   \n",
              "\n",
              "                         mean              std      min          25%  \\\n",
              "Id            30481062.300663  11257817.142532  77434.0  22571590.75   \n",
              "OwnerUserId    3604743.082891   2256186.993384    277.0    1687633.0   \n",
              "CreationDate              NaN              NaN      NaN          NaN   \n",
              "Score                1.930032         9.405712    -18.0          0.0   \n",
              "Title                     NaN              NaN      NaN          NaN   \n",
              "Body                      NaN              NaN      NaN          NaN   \n",
              "\n",
              "                     50%         75%         max  \n",
              "Id            32159091.5  40093542.0  46395956.0  \n",
              "OwnerUserId    3376134.0   5281720.0   8666903.0  \n",
              "CreationDate         NaN         NaN         NaN  \n",
              "Score                1.0         2.0      1973.0  \n",
              "Title                NaN         NaN         NaN  \n",
              "Body                 NaN         NaN         NaN  "
            ],
            "text/html": [
              "\n",
              "  <div id=\"df-7c7d1862-be6d-424e-82b0-c28615318f66\">\n",
              "    <div class=\"colab-df-container\">\n",
              "      <div>\n",
              "<style scoped>\n",
              "    .dataframe tbody tr th:only-of-type {\n",
              "        vertical-align: middle;\n",
              "    }\n",
              "\n",
              "    .dataframe tbody tr th {\n",
              "        vertical-align: top;\n",
              "    }\n",
              "\n",
              "    .dataframe thead th {\n",
              "        text-align: right;\n",
              "    }\n",
              "</style>\n",
              "<table border=\"1\" class=\"dataframe\">\n",
              "  <thead>\n",
              "    <tr style=\"text-align: right;\">\n",
              "      <th></th>\n",
              "      <th>count</th>\n",
              "      <th>unique</th>\n",
              "      <th>top</th>\n",
              "      <th>freq</th>\n",
              "      <th>mean</th>\n",
              "      <th>std</th>\n",
              "      <th>min</th>\n",
              "      <th>25%</th>\n",
              "      <th>50%</th>\n",
              "      <th>75%</th>\n",
              "      <th>max</th>\n",
              "    </tr>\n",
              "  </thead>\n",
              "  <tbody>\n",
              "    <tr>\n",
              "      <th>Id</th>\n",
              "      <td>189930.0</td>\n",
              "      <td>NaN</td>\n",
              "      <td>NaN</td>\n",
              "      <td>NaN</td>\n",
              "      <td>30481062.300663</td>\n",
              "      <td>11257817.142532</td>\n",
              "      <td>77434.0</td>\n",
              "      <td>22571590.75</td>\n",
              "      <td>32159091.5</td>\n",
              "      <td>40093542.0</td>\n",
              "      <td>46395956.0</td>\n",
              "    </tr>\n",
              "    <tr>\n",
              "      <th>OwnerUserId</th>\n",
              "      <td>188729.0</td>\n",
              "      <td>NaN</td>\n",
              "      <td>NaN</td>\n",
              "      <td>NaN</td>\n",
              "      <td>3604743.082891</td>\n",
              "      <td>2256186.993384</td>\n",
              "      <td>277.0</td>\n",
              "      <td>1687633.0</td>\n",
              "      <td>3376134.0</td>\n",
              "      <td>5281720.0</td>\n",
              "      <td>8666903.0</td>\n",
              "    </tr>\n",
              "    <tr>\n",
              "      <th>CreationDate</th>\n",
              "      <td>189930</td>\n",
              "      <td>189801</td>\n",
              "      <td>2017-04-13T10:05:24Z</td>\n",
              "      <td>2</td>\n",
              "      <td>NaN</td>\n",
              "      <td>NaN</td>\n",
              "      <td>NaN</td>\n",
              "      <td>NaN</td>\n",
              "      <td>NaN</td>\n",
              "      <td>NaN</td>\n",
              "      <td>NaN</td>\n",
              "    </tr>\n",
              "    <tr>\n",
              "      <th>Score</th>\n",
              "      <td>189930.0</td>\n",
              "      <td>NaN</td>\n",
              "      <td>NaN</td>\n",
              "      <td>NaN</td>\n",
              "      <td>1.930032</td>\n",
              "      <td>9.405712</td>\n",
              "      <td>-18.0</td>\n",
              "      <td>0.0</td>\n",
              "      <td>1.0</td>\n",
              "      <td>2.0</td>\n",
              "      <td>1973.0</td>\n",
              "    </tr>\n",
              "    <tr>\n",
              "      <th>Title</th>\n",
              "      <td>189930</td>\n",
              "      <td>189875</td>\n",
              "      <td>Scatter plot in R</td>\n",
              "      <td>3</td>\n",
              "      <td>NaN</td>\n",
              "      <td>NaN</td>\n",
              "      <td>NaN</td>\n",
              "      <td>NaN</td>\n",
              "      <td>NaN</td>\n",
              "      <td>NaN</td>\n",
              "      <td>NaN</td>\n",
              "    </tr>\n",
              "    <tr>\n",
              "      <th>Body</th>\n",
              "      <td>189930</td>\n",
              "      <td>189911</td>\n",
              "      <td>&lt;p&gt;I working on survival analysis and each tim...</td>\n",
              "      <td>2</td>\n",
              "      <td>NaN</td>\n",
              "      <td>NaN</td>\n",
              "      <td>NaN</td>\n",
              "      <td>NaN</td>\n",
              "      <td>NaN</td>\n",
              "      <td>NaN</td>\n",
              "      <td>NaN</td>\n",
              "    </tr>\n",
              "  </tbody>\n",
              "</table>\n",
              "</div>\n",
              "      <button class=\"colab-df-convert\" onclick=\"convertToInteractive('df-7c7d1862-be6d-424e-82b0-c28615318f66')\"\n",
              "              title=\"Convert this dataframe to an interactive table.\"\n",
              "              style=\"display:none;\">\n",
              "        \n",
              "  <svg xmlns=\"http://www.w3.org/2000/svg\" height=\"24px\"viewBox=\"0 0 24 24\"\n",
              "       width=\"24px\">\n",
              "    <path d=\"M0 0h24v24H0V0z\" fill=\"none\"/>\n",
              "    <path d=\"M18.56 5.44l.94 2.06.94-2.06 2.06-.94-2.06-.94-.94-2.06-.94 2.06-2.06.94zm-11 1L8.5 8.5l.94-2.06 2.06-.94-2.06-.94L8.5 2.5l-.94 2.06-2.06.94zm10 10l.94 2.06.94-2.06 2.06-.94-2.06-.94-.94-2.06-.94 2.06-2.06.94z\"/><path d=\"M17.41 7.96l-1.37-1.37c-.4-.4-.92-.59-1.43-.59-.52 0-1.04.2-1.43.59L10.3 9.45l-7.72 7.72c-.78.78-.78 2.05 0 2.83L4 21.41c.39.39.9.59 1.41.59.51 0 1.02-.2 1.41-.59l7.78-7.78 2.81-2.81c.8-.78.8-2.07 0-2.86zM5.41 20L4 18.59l7.72-7.72 1.47 1.35L5.41 20z\"/>\n",
              "  </svg>\n",
              "      </button>\n",
              "      \n",
              "  <style>\n",
              "    .colab-df-container {\n",
              "      display:flex;\n",
              "      flex-wrap:wrap;\n",
              "      gap: 12px;\n",
              "    }\n",
              "\n",
              "    .colab-df-convert {\n",
              "      background-color: #E8F0FE;\n",
              "      border: none;\n",
              "      border-radius: 50%;\n",
              "      cursor: pointer;\n",
              "      display: none;\n",
              "      fill: #1967D2;\n",
              "      height: 32px;\n",
              "      padding: 0 0 0 0;\n",
              "      width: 32px;\n",
              "    }\n",
              "\n",
              "    .colab-df-convert:hover {\n",
              "      background-color: #E2EBFA;\n",
              "      box-shadow: 0px 1px 2px rgba(60, 64, 67, 0.3), 0px 1px 3px 1px rgba(60, 64, 67, 0.15);\n",
              "      fill: #174EA6;\n",
              "    }\n",
              "\n",
              "    [theme=dark] .colab-df-convert {\n",
              "      background-color: #3B4455;\n",
              "      fill: #D2E3FC;\n",
              "    }\n",
              "\n",
              "    [theme=dark] .colab-df-convert:hover {\n",
              "      background-color: #434B5C;\n",
              "      box-shadow: 0px 1px 3px 1px rgba(0, 0, 0, 0.15);\n",
              "      filter: drop-shadow(0px 1px 2px rgba(0, 0, 0, 0.3));\n",
              "      fill: #FFFFFF;\n",
              "    }\n",
              "  </style>\n",
              "\n",
              "      <script>\n",
              "        const buttonEl =\n",
              "          document.querySelector('#df-7c7d1862-be6d-424e-82b0-c28615318f66 button.colab-df-convert');\n",
              "        buttonEl.style.display =\n",
              "          google.colab.kernel.accessAllowed ? 'block' : 'none';\n",
              "\n",
              "        async function convertToInteractive(key) {\n",
              "          const element = document.querySelector('#df-7c7d1862-be6d-424e-82b0-c28615318f66');\n",
              "          const dataTable =\n",
              "            await google.colab.kernel.invokeFunction('convertToInteractive',\n",
              "                                                     [key], {});\n",
              "          if (!dataTable) return;\n",
              "\n",
              "          const docLinkHtml = 'Like what you see? Visit the ' +\n",
              "            '<a target=\"_blank\" href=https://colab.research.google.com/notebooks/data_table.ipynb>data table notebook</a>'\n",
              "            + ' to learn more about interactive tables.';\n",
              "          element.innerHTML = '';\n",
              "          dataTable['output_type'] = 'display_data';\n",
              "          await google.colab.output.renderOutput(dataTable, element);\n",
              "          const docLink = document.createElement('div');\n",
              "          docLink.innerHTML = docLinkHtml;\n",
              "          element.appendChild(docLink);\n",
              "        }\n",
              "      </script>\n",
              "    </div>\n",
              "  </div>\n",
              "  "
            ]
          },
          "metadata": {},
          "execution_count": 9
        }
      ]
    },
    {
      "cell_type": "code",
      "source": [
        "#Checking for nulls\n",
        "df.isnull().sum()"
      ],
      "metadata": {
        "colab": {
          "base_uri": "https://localhost:8080/"
        },
        "id": "Jy8D1Kzp3Sdb",
        "outputId": "b7195736-4860-4c4a-901f-8acea904e982"
      },
      "execution_count": 10,
      "outputs": [
        {
          "output_type": "execute_result",
          "data": {
            "text/plain": [
              "Id                 0\n",
              "OwnerUserId     1201\n",
              "CreationDate       0\n",
              "Score              0\n",
              "Title              0\n",
              "Body               0\n",
              "dtype: int64"
            ]
          },
          "metadata": {},
          "execution_count": 10
        }
      ]
    },
    {
      "cell_type": "markdown",
      "source": [
        "> As we can see, only one column has null values, but that's not important because we only focus on `Title` or `Body` column"
      ],
      "metadata": {
        "id": "Gf-HH-PX3ykB"
      }
    },
    {
      "cell_type": "code",
      "source": [
        "#checking for duplication\n",
        "df.duplicated(subset=None).sum()"
      ],
      "metadata": {
        "colab": {
          "base_uri": "https://localhost:8080/"
        },
        "id": "3bzcS1Hx3mcs",
        "outputId": "e2578b47-a6b6-45d1-9efd-60c89a9440f7"
      },
      "execution_count": 11,
      "outputs": [
        {
          "output_type": "execute_result",
          "data": {
            "text/plain": [
              "0"
            ]
          },
          "metadata": {},
          "execution_count": 11
        }
      ]
    },
    {
      "cell_type": "markdown",
      "source": [
        "> As we can see, we don't have any duplicates and that's a good thing"
      ],
      "metadata": {
        "id": "-Mdcm10e5LYz"
      }
    },
    {
      "cell_type": "markdown",
      "source": [
        "> As we can see, from all the previous data exploration steps, we can find that the data quality is good so far"
      ],
      "metadata": {
        "id": "vAaW6Kfi5we2"
      }
    },
    {
      "cell_type": "markdown",
      "source": [
        "## Data Preprocessing"
      ],
      "metadata": {
        "id": "GePlarQ78Bkt"
      }
    },
    {
      "cell_type": "markdown",
      "source": [
        ">* Remove HTML tags\n",
        ">* Convert to lower case\n",
        ">* Remove punctuation\n",
        ">* Remove stop words\n",
        ">* Remove special character\n"
      ],
      "metadata": {
        "id": "EnA9hVtY8LMG"
      }
    },
    {
      "cell_type": "markdown",
      "source": [
        "> ***In this Task I will work only on `Title` column***"
      ],
      "metadata": {
        "id": "QHD3hQo18-Rl"
      }
    },
    {
      "cell_type": "code",
      "source": [
        "#This method determines the part of speech type\n",
        "def get_wordnet_pos(word):\n",
        "  \"\"\"Map POS tag to first character lemmatize() accepts\"\"\"\n",
        "  tag = nltk.pos_tag([word])[0][1][0].upper()\n",
        "  tag_dict = {\"J\": wordnet.ADJ,\n",
        "              \"N\": wordnet.NOUN,\n",
        "              \"V\": wordnet.VERB,\n",
        "              \"R\": wordnet.ADV}\n",
        "\n",
        "  return tag_dict.get(tag, wordnet.NOUN)"
      ],
      "metadata": {
        "id": "flC_qT-qLJ2Q"
      },
      "execution_count": 12,
      "outputs": []
    },
    {
      "cell_type": "code",
      "source": [
        "#Text cleaning\n",
        "token = ToktokTokenizer()\n",
        "stemmer = WordNetLemmatizer()\n",
        "# stemmer = SnowballStemmer(language='english')\n",
        "stop_words = stopwords.words('english')\n",
        "def preprocess_text(text):\n",
        "  #Convert to lower case\n",
        "  text = text.lower()\n",
        "  # remove links\n",
        "  text = re.sub(r'(?:http|ftp|https)://(?:[\\w_-]+(?:(?:\\.[\\w_-]+)+))(?:[\\w.,@?^=%&:/~+#-]*[\\w@?^=%&/~+#-])?', \" \", text)\n",
        "  #remove any html tags (< /br> often found)\n",
        "  text = re.sub(r\"<[^>]+>\", \" \", text)\n",
        "  #Remove punctuation\n",
        "  text = re.sub(r'!\"$%&\\'()*,./:;<=>?@[\\\\]^_`{|}~', \" \", text)\n",
        "  #convert all whitespaces (tabs etc.) to single wspace\n",
        "  text = re.sub(r\"\\s+\", \" \", text)\n",
        "  #remove special chars and numbers\n",
        "  text = re.sub(r\"^\\d+\\s|\\s\\d+\\s|\\s\\d+$\", \" \", text)\n",
        "  text = ''.join(i for i in text if not i.isdigit())\n",
        "  text = re.sub(r\"[^\\w]\", \" \", text)\n",
        "  # text = text.split()\n",
        "  words = token.tokenize(text)\n",
        "  #remove stop words\n",
        "  no_stop_w = [stemmer.lemmatize(word, get_wordnet_pos(word)) for word in words if not word in set(stop_words)]\n",
        "  text = ' '.join(map(str, no_stop_w))\n",
        "  return text"
      ],
      "metadata": {
        "id": "KcoN2R0A9e3g"
      },
      "execution_count": 13,
      "outputs": []
    },
    {
      "cell_type": "code",
      "source": [
        "%%time\n",
        "#apply the preprocess_text Function on Tilte column and create a new column called clean_text column\n",
        "df['clean_text'] = df['Title']\n",
        "df['clean_text'] = df['clean_text'].apply(lambda x: str(x))\n",
        "df['clean_text'] = df['clean_text'].apply(lambda x: preprocess_text(x))"
      ],
      "metadata": {
        "colab": {
          "base_uri": "https://localhost:8080/"
        },
        "id": "uNpK953RAJNV",
        "outputId": "b9dd5460-0032-410c-c31b-b27f1215aeaf"
      },
      "execution_count": 14,
      "outputs": [
        {
          "output_type": "stream",
          "name": "stdout",
          "text": [
            "CPU times: user 3min 23s, sys: 9.45 s, total: 3min 33s\n",
            "Wall time: 3min 39s\n"
          ]
        }
      ]
    },
    {
      "cell_type": "code",
      "source": [
        "df['clean_text']"
      ],
      "metadata": {
        "colab": {
          "base_uri": "https://localhost:8080/"
        },
        "id": "1sl3AyQBARYO",
        "outputId": "6a1777a6-fa38-4536-aab6-435526870369"
      },
      "execution_count": 15,
      "outputs": [
        {
          "output_type": "execute_result",
          "data": {
            "text/plain": [
              "0                                  access last value vector\n",
              "1                bad sin side effect passing massive object\n",
              "2                               explain quantile function r\n",
              "3                                           test eof flag r\n",
              "4                r package learn dirichlet prior count data\n",
              "                                ...                        \n",
              "189925              get command httr return anything minute\n",
              "189926       r shiny discrete value supply continuous scale\n",
              "189927    confidence interval quantile regression use bo...\n",
              "189928               time lag analysis list impute datasets\n",
              "189929    conditionally format text shiny give lookup he...\n",
              "Name: clean_text, Length: 189930, dtype: object"
            ]
          },
          "metadata": {},
          "execution_count": 15
        }
      ]
    },
    {
      "cell_type": "code",
      "source": [
        "df['clean_text'][10]"
      ],
      "metadata": {
        "colab": {
          "base_uri": "https://localhost:8080/",
          "height": 0
        },
        "id": "OAcrk9eEQygw",
        "outputId": "1224c38b-81a4-47e0-d441-a7bff2993c69"
      },
      "execution_count": 16,
      "outputs": [
        {
          "output_type": "execute_result",
          "data": {
            "text/plain": [
              "'operating time interval like'"
            ],
            "application/vnd.google.colaboratory.intrinsic+json": {
              "type": "string"
            }
          },
          "metadata": {},
          "execution_count": 16
        }
      ]
    },
    {
      "cell_type": "code",
      "source": [
        "df.head()"
      ],
      "metadata": {
        "colab": {
          "base_uri": "https://localhost:8080/",
          "height": 0
        },
        "id": "rySJur3SVo7_",
        "outputId": "993f0182-7d8d-43d0-f64e-86a8a488d37b"
      },
      "execution_count": 17,
      "outputs": [
        {
          "output_type": "execute_result",
          "data": {
            "text/plain": [
              "       Id  OwnerUserId          CreationDate  Score  \\\n",
              "0   77434      14008.0  2008-09-16T21:40:29Z    171   \n",
              "1   79709          NaN  2008-09-17T03:39:16Z      3   \n",
              "2   95007      15842.0  2008-09-18T17:59:19Z     56   \n",
              "3  103312          NaN  2008-09-19T16:09:26Z      4   \n",
              "4  255697    1941213.0  2008-11-01T15:48:30Z      4   \n",
              "\n",
              "                                               Title  \\\n",
              "0          How to access the last value in a vector?   \n",
              "1  Worse sin: side effects or passing massive obj...   \n",
              "2               Explain the quantile() function in R   \n",
              "3                 How to test for the EOF flag in R?   \n",
              "4  Is there an R package for learning a Dirichlet...   \n",
              "\n",
              "                                                Body  \\\n",
              "0  <p>Suppose I have a vector that is nested in a...   \n",
              "1  <p>I have a function inside a loop inside a fu...   \n",
              "2  <p>I've been mystified by the R quantile funct...   \n",
              "3  <p>How can I test for the <code>EOF</code> fla...   \n",
              "4  <p>I'm looking for a an <code>R</code> package...   \n",
              "\n",
              "                                   clean_text  \n",
              "0                    access last value vector  \n",
              "1  bad sin side effect passing massive object  \n",
              "2                 explain quantile function r  \n",
              "3                             test eof flag r  \n",
              "4  r package learn dirichlet prior count data  "
            ],
            "text/html": [
              "\n",
              "  <div id=\"df-7313e61b-1c92-4b48-bee9-a7ae69c08d48\">\n",
              "    <div class=\"colab-df-container\">\n",
              "      <div>\n",
              "<style scoped>\n",
              "    .dataframe tbody tr th:only-of-type {\n",
              "        vertical-align: middle;\n",
              "    }\n",
              "\n",
              "    .dataframe tbody tr th {\n",
              "        vertical-align: top;\n",
              "    }\n",
              "\n",
              "    .dataframe thead th {\n",
              "        text-align: right;\n",
              "    }\n",
              "</style>\n",
              "<table border=\"1\" class=\"dataframe\">\n",
              "  <thead>\n",
              "    <tr style=\"text-align: right;\">\n",
              "      <th></th>\n",
              "      <th>Id</th>\n",
              "      <th>OwnerUserId</th>\n",
              "      <th>CreationDate</th>\n",
              "      <th>Score</th>\n",
              "      <th>Title</th>\n",
              "      <th>Body</th>\n",
              "      <th>clean_text</th>\n",
              "    </tr>\n",
              "  </thead>\n",
              "  <tbody>\n",
              "    <tr>\n",
              "      <th>0</th>\n",
              "      <td>77434</td>\n",
              "      <td>14008.0</td>\n",
              "      <td>2008-09-16T21:40:29Z</td>\n",
              "      <td>171</td>\n",
              "      <td>How to access the last value in a vector?</td>\n",
              "      <td>&lt;p&gt;Suppose I have a vector that is nested in a...</td>\n",
              "      <td>access last value vector</td>\n",
              "    </tr>\n",
              "    <tr>\n",
              "      <th>1</th>\n",
              "      <td>79709</td>\n",
              "      <td>NaN</td>\n",
              "      <td>2008-09-17T03:39:16Z</td>\n",
              "      <td>3</td>\n",
              "      <td>Worse sin: side effects or passing massive obj...</td>\n",
              "      <td>&lt;p&gt;I have a function inside a loop inside a fu...</td>\n",
              "      <td>bad sin side effect passing massive object</td>\n",
              "    </tr>\n",
              "    <tr>\n",
              "      <th>2</th>\n",
              "      <td>95007</td>\n",
              "      <td>15842.0</td>\n",
              "      <td>2008-09-18T17:59:19Z</td>\n",
              "      <td>56</td>\n",
              "      <td>Explain the quantile() function in R</td>\n",
              "      <td>&lt;p&gt;I've been mystified by the R quantile funct...</td>\n",
              "      <td>explain quantile function r</td>\n",
              "    </tr>\n",
              "    <tr>\n",
              "      <th>3</th>\n",
              "      <td>103312</td>\n",
              "      <td>NaN</td>\n",
              "      <td>2008-09-19T16:09:26Z</td>\n",
              "      <td>4</td>\n",
              "      <td>How to test for the EOF flag in R?</td>\n",
              "      <td>&lt;p&gt;How can I test for the &lt;code&gt;EOF&lt;/code&gt; fla...</td>\n",
              "      <td>test eof flag r</td>\n",
              "    </tr>\n",
              "    <tr>\n",
              "      <th>4</th>\n",
              "      <td>255697</td>\n",
              "      <td>1941213.0</td>\n",
              "      <td>2008-11-01T15:48:30Z</td>\n",
              "      <td>4</td>\n",
              "      <td>Is there an R package for learning a Dirichlet...</td>\n",
              "      <td>&lt;p&gt;I'm looking for a an &lt;code&gt;R&lt;/code&gt; package...</td>\n",
              "      <td>r package learn dirichlet prior count data</td>\n",
              "    </tr>\n",
              "  </tbody>\n",
              "</table>\n",
              "</div>\n",
              "      <button class=\"colab-df-convert\" onclick=\"convertToInteractive('df-7313e61b-1c92-4b48-bee9-a7ae69c08d48')\"\n",
              "              title=\"Convert this dataframe to an interactive table.\"\n",
              "              style=\"display:none;\">\n",
              "        \n",
              "  <svg xmlns=\"http://www.w3.org/2000/svg\" height=\"24px\"viewBox=\"0 0 24 24\"\n",
              "       width=\"24px\">\n",
              "    <path d=\"M0 0h24v24H0V0z\" fill=\"none\"/>\n",
              "    <path d=\"M18.56 5.44l.94 2.06.94-2.06 2.06-.94-2.06-.94-.94-2.06-.94 2.06-2.06.94zm-11 1L8.5 8.5l.94-2.06 2.06-.94-2.06-.94L8.5 2.5l-.94 2.06-2.06.94zm10 10l.94 2.06.94-2.06 2.06-.94-2.06-.94-.94-2.06-.94 2.06-2.06.94z\"/><path d=\"M17.41 7.96l-1.37-1.37c-.4-.4-.92-.59-1.43-.59-.52 0-1.04.2-1.43.59L10.3 9.45l-7.72 7.72c-.78.78-.78 2.05 0 2.83L4 21.41c.39.39.9.59 1.41.59.51 0 1.02-.2 1.41-.59l7.78-7.78 2.81-2.81c.8-.78.8-2.07 0-2.86zM5.41 20L4 18.59l7.72-7.72 1.47 1.35L5.41 20z\"/>\n",
              "  </svg>\n",
              "      </button>\n",
              "      \n",
              "  <style>\n",
              "    .colab-df-container {\n",
              "      display:flex;\n",
              "      flex-wrap:wrap;\n",
              "      gap: 12px;\n",
              "    }\n",
              "\n",
              "    .colab-df-convert {\n",
              "      background-color: #E8F0FE;\n",
              "      border: none;\n",
              "      border-radius: 50%;\n",
              "      cursor: pointer;\n",
              "      display: none;\n",
              "      fill: #1967D2;\n",
              "      height: 32px;\n",
              "      padding: 0 0 0 0;\n",
              "      width: 32px;\n",
              "    }\n",
              "\n",
              "    .colab-df-convert:hover {\n",
              "      background-color: #E2EBFA;\n",
              "      box-shadow: 0px 1px 2px rgba(60, 64, 67, 0.3), 0px 1px 3px 1px rgba(60, 64, 67, 0.15);\n",
              "      fill: #174EA6;\n",
              "    }\n",
              "\n",
              "    [theme=dark] .colab-df-convert {\n",
              "      background-color: #3B4455;\n",
              "      fill: #D2E3FC;\n",
              "    }\n",
              "\n",
              "    [theme=dark] .colab-df-convert:hover {\n",
              "      background-color: #434B5C;\n",
              "      box-shadow: 0px 1px 3px 1px rgba(0, 0, 0, 0.15);\n",
              "      filter: drop-shadow(0px 1px 2px rgba(0, 0, 0, 0.3));\n",
              "      fill: #FFFFFF;\n",
              "    }\n",
              "  </style>\n",
              "\n",
              "      <script>\n",
              "        const buttonEl =\n",
              "          document.querySelector('#df-7313e61b-1c92-4b48-bee9-a7ae69c08d48 button.colab-df-convert');\n",
              "        buttonEl.style.display =\n",
              "          google.colab.kernel.accessAllowed ? 'block' : 'none';\n",
              "\n",
              "        async function convertToInteractive(key) {\n",
              "          const element = document.querySelector('#df-7313e61b-1c92-4b48-bee9-a7ae69c08d48');\n",
              "          const dataTable =\n",
              "            await google.colab.kernel.invokeFunction('convertToInteractive',\n",
              "                                                     [key], {});\n",
              "          if (!dataTable) return;\n",
              "\n",
              "          const docLinkHtml = 'Like what you see? Visit the ' +\n",
              "            '<a target=\"_blank\" href=https://colab.research.google.com/notebooks/data_table.ipynb>data table notebook</a>'\n",
              "            + ' to learn more about interactive tables.';\n",
              "          element.innerHTML = '';\n",
              "          dataTable['output_type'] = 'display_data';\n",
              "          await google.colab.output.renderOutput(dataTable, element);\n",
              "          const docLink = document.createElement('div');\n",
              "          docLink.innerHTML = docLinkHtml;\n",
              "          element.appendChild(docLink);\n",
              "        }\n",
              "      </script>\n",
              "    </div>\n",
              "  </div>\n",
              "  "
            ]
          },
          "metadata": {},
          "execution_count": 17
        }
      ]
    },
    {
      "cell_type": "code",
      "source": [
        "#checking for null values after update to see if there is any missing values happend\n",
        "df.isnull().sum()"
      ],
      "metadata": {
        "colab": {
          "base_uri": "https://localhost:8080/"
        },
        "id": "0nHtxIyOWDHE",
        "outputId": "1a5764b0-994f-4853-ecb2-2aee546cb9cf"
      },
      "execution_count": 18,
      "outputs": [
        {
          "output_type": "execute_result",
          "data": {
            "text/plain": [
              "Id                 0\n",
              "OwnerUserId     1201\n",
              "CreationDate       0\n",
              "Score              0\n",
              "Title              0\n",
              "Body               0\n",
              "clean_text         0\n",
              "dtype: int64"
            ]
          },
          "metadata": {},
          "execution_count": 18
        }
      ]
    },
    {
      "cell_type": "code",
      "source": [
        "#checking for duplication\n",
        "df.duplicated(subset=None).sum()"
      ],
      "metadata": {
        "colab": {
          "base_uri": "https://localhost:8080/"
        },
        "id": "oWYH_lw3XVwm",
        "outputId": "79d73522-29de-4ba2-95ff-7617f044c2f2"
      },
      "execution_count": 19,
      "outputs": [
        {
          "output_type": "execute_result",
          "data": {
            "text/plain": [
              "0"
            ]
          },
          "metadata": {},
          "execution_count": 19
        }
      ]
    },
    {
      "cell_type": "markdown",
      "source": [
        "> As we can see, there is no any missing values related to `clean_text` column and there is no duplicates which is good"
      ],
      "metadata": {
        "id": "6ltmURZhodMi"
      }
    },
    {
      "cell_type": "markdown",
      "metadata": {
        "id": "unAbDdG2QVsB"
      },
      "source": [
        "#Task 2: Using existing libraries, such as gensim https://radimrehurek.com/gensim/ to learn word embeddings from the prepossessed text from previous step. At the end of this step, you should save the learned word embeddings in a file."
      ]
    },
    {
      "cell_type": "markdown",
      "source": [
        "> In this task, I will use Word2vec approach for word embedding.\n",
        "\n",
        "> `Word2vec` : is an algorithm for learning a word embedding from a text corpus."
      ],
      "metadata": {
        "id": "Zl4-d8VdpiOJ"
      }
    },
    {
      "cell_type": "markdown",
      "source": [
        "## Word Embeddings"
      ],
      "metadata": {
        "id": "29oZOoc_wIti"
      }
    },
    {
      "cell_type": "code",
      "execution_count": 20,
      "metadata": {
        "id": "RKtN1YrJQVsC"
      },
      "outputs": [],
      "source": [
        "#I will create a list from the clean_text column to give a results to a dictionary to make a text embeddings\n",
        "corpusTxt = '\\n'.join(df['clean_text'])\n",
        "sentences = corpusTxt.split('\\n')\n",
        "sentences = [line.lower().split(' ') for line in sentences]"
      ]
    },
    {
      "cell_type": "code",
      "source": [
        "sentences[100]"
      ],
      "metadata": {
        "colab": {
          "base_uri": "https://localhost:8080/"
        },
        "id": "vkB5k-BIsIF7",
        "outputId": "e8789d91-faff-44a1-81a8-5e53275654e7"
      },
      "execution_count": 21,
      "outputs": [
        {
          "output_type": "execute_result",
          "data": {
            "text/plain": [
              "['export', 'definition', 'r', 'object', 'plain', 'text', 'others', 'recreate']"
            ]
          },
          "metadata": {},
          "execution_count": 21
        }
      ]
    },
    {
      "cell_type": "code",
      "source": [
        "# Create a dictionary representation of the documents.\n",
        "dictionary = Dictionary(sentences)\n",
        "\n",
        "# Filter out words that occur less than 3 documents, or more than 80% of the documents.\n",
        "model = dictionary.filter_extremes(no_below=3, no_above=0.8)"
      ],
      "metadata": {
        "id": "8SpCNc_-rEmc"
      },
      "execution_count": 22,
      "outputs": []
    },
    {
      "cell_type": "markdown",
      "source": [
        "> Finally, we transform the documents to a vectorized form. We simply compute the frequency of each word, including the bigrams."
      ],
      "metadata": {
        "id": "p01vBxQAr3QP"
      }
    },
    {
      "cell_type": "code",
      "source": [
        "# Bag-of-words representation of the documents.\n",
        "corpus = [dictionary.doc2bow(doc) for doc in sentences]"
      ],
      "metadata": {
        "id": "ACWhamsGr4p9"
      },
      "execution_count": 23,
      "outputs": []
    },
    {
      "cell_type": "code",
      "source": [
        "corpus[100]"
      ],
      "metadata": {
        "colab": {
          "base_uri": "https://localhost:8080/"
        },
        "id": "NKfa2XwWsicC",
        "outputId": "b7aac670-42e7-4390-bbbd-443c48011f75"
      },
      "execution_count": 24,
      "outputs": [
        {
          "output_type": "execute_result",
          "data": {
            "text/plain": [
              "[(7, 1), (14, 1), (286, 1), (287, 1), (288, 1), (289, 1), (290, 1), (291, 1)]"
            ]
          },
          "metadata": {},
          "execution_count": 24
        }
      ]
    },
    {
      "cell_type": "code",
      "source": [
        "print('Number of unique tokens: %d' % len(dictionary))\n",
        "print('Number of documents: %d' % len(corpus))"
      ],
      "metadata": {
        "colab": {
          "base_uri": "https://localhost:8080/"
        },
        "id": "lHuXWapJspqI",
        "outputId": "9abc7b12-6be3-4cde-e925-abdcecd9f1a1"
      },
      "execution_count": 25,
      "outputs": [
        {
          "output_type": "stream",
          "name": "stdout",
          "text": [
            "Number of unique tokens: 8954\n",
            "Number of documents: 189930\n"
          ]
        }
      ]
    },
    {
      "cell_type": "markdown",
      "source": [
        "## Model Save"
      ],
      "metadata": {
        "id": "Zfk__pMxwOhE"
      }
    },
    {
      "cell_type": "code",
      "source": [
        "# min_count : Ignore words that appear less than this\n",
        "# size : Dimensionality of word embeddings\n",
        "# workers: parallel\n",
        "# window=5: Context window for words during training\n",
        "\n",
        "model_save = Word2Vec(sentences, size=50, window=5, min_count=2, workers=4)"
      ],
      "metadata": {
        "id": "bIl5JcnUctB1",
        "colab": {
          "base_uri": "https://localhost:8080/"
        },
        "outputId": "49d8393f-f913-4caa-ed5d-a1ca292636d4"
      },
      "execution_count": 49,
      "outputs": [
        {
          "output_type": "execute_result",
          "data": {
            "text/plain": [
              "<gensim.models.word2vec.Word2Vec at 0x7fe645916ad0>"
            ]
          },
          "metadata": {},
          "execution_count": 49
        }
      ]
    },
    {
      "cell_type": "code",
      "source": [
        "# Store just the words + their trained embeddings.\n",
        "%%capture\n",
        "word_vectors = model_save.wv\n",
        "word_vectors.save(\"word2vec.wordvectors\")"
      ],
      "metadata": {
        "id": "tIt0A6iyc88M"
      },
      "execution_count": 52,
      "outputs": []
    },
    {
      "cell_type": "code",
      "source": [
        "%%capture\n",
        "model_save.save(\"word2vec.wordvectors\")"
      ],
      "metadata": {
        "id": "Y7IxCweBuiDJ"
      },
      "execution_count": 53,
      "outputs": []
    },
    {
      "cell_type": "markdown",
      "source": [
        "## virtualization "
      ],
      "metadata": {
        "id": "CDXHpfuIwT1D"
      }
    },
    {
      "cell_type": "code",
      "source": [
        "# fit a 2d PCA model to the vectors\n",
        "%%capture\n",
        "X = model_save[model_save.wv.vocab]\n",
        "pca = PCA(n_components=2)\n",
        "result = pca.fit_transform(X)"
      ],
      "metadata": {
        "id": "Y34d1KTXvKq5"
      },
      "execution_count": 45,
      "outputs": []
    },
    {
      "cell_type": "code",
      "source": [
        "# create a scatter plot of the projection\n",
        "plt.figure(figsize=(10,8))\n",
        "pyplot.scatter(result[:10, 0], result[:10, 1])\n",
        "words = list(model_save.wv.vocab)\n",
        "words = words[:10]\n",
        "for i, word in enumerate(words):\n",
        "\tpyplot.annotate(word, xy=(result[i, 0], result[i, 1]))\n",
        "pyplot.show()"
      ],
      "metadata": {
        "colab": {
          "base_uri": "https://localhost:8080/",
          "height": 483
        },
        "id": "EYSNeLv0q3LY",
        "outputId": "27352ef9-7eae-4a77-fa6a-1b704e7ce23c"
      },
      "execution_count": 46,
      "outputs": [
        {
          "output_type": "display_data",
          "data": {
            "text/plain": [
              "<Figure size 720x576 with 1 Axes>"
            ],
            "image/png": "[encoded data removed]"
          },
          "metadata": {
            "needs_background": "light"
          }
        }
      ]
    },
    {
      "cell_type": "markdown",
      "metadata": {
        "id": "khsHfx1CQVsC"
      },
      "source": [
        "#Task 3: Perform topic analysis on the prepossessed textual data. Briefly specify how you pick the number of topics. Present your findings (the final set of topics you extracted, the popularity of each topic). "
      ]
    },
    {
      "cell_type": "markdown",
      "source": [
        "> to pick the number of topics, I will use two approaches\n",
        "* `log_perplexity` : ( like elbow method)\n",
        "* `coherence` : i will select the number which has high coherence score or around that"
      ],
      "metadata": {
        "id": "QyywcPNmrHU7"
      }
    },
    {
      "cell_type": "markdown",
      "source": [
        "## Select Topic Number"
      ],
      "metadata": {
        "id": "2s0fHz8avCcC"
      }
    },
    {
      "cell_type": "code",
      "source": [
        "# TODO code for task 3, hint, popularity of each topic is the ratio of documents discussing one topic, you need to read the topic assignment for each document and then calculate this value.\n",
        "%%time\n",
        "%%capture\n",
        "# Set training parameters.\n",
        "# I use passes = 2 because it's take long time (around 4 hours) when i use passes = 10 or more than 10\n",
        "passes = 2\n",
        "iterations = 500\n",
        "\n",
        "# Make an index to word dictionary.\n",
        "temp = dictionary[0]  # This is only to \"load\" the dictionary.\n",
        "id2word = dictionary.id2token\n",
        "distortions = []\n",
        "coherence_vals = []\n",
        "for i in range(2, 20):\n",
        "  model = LdaModel(\n",
        "      corpus=corpus,\n",
        "      id2word=id2word,\n",
        "      iterations=iterations,\n",
        "      num_topics=i,\n",
        "      passes=passes,\n",
        "  )\n",
        "  distortions.append(model.log_perplexity(corpus))\n",
        "  coherencemodel = CoherenceModel(model=model, texts=sentences, dictionary=dictionary, coherence='c_v')\n",
        "  coherence_vals.append(coherencemodel.get_coherence())"
      ],
      "metadata": {
        "id": "7i0B8pkuNDyM",
        "colab": {
          "base_uri": "https://localhost:8080/"
        },
        "outputId": "5552c07f-0705-4691-cbf5-8cdc8263e8c9"
      },
      "execution_count": 28,
      "outputs": [
        {
          "output_type": "stream",
          "name": "stdout",
          "text": [
            "CPU times: user 34min 52s, sys: 1min 2s, total: 35min 54s\n",
            "Wall time: 34min 52s\n"
          ]
        }
      ]
    },
    {
      "cell_type": "markdown",
      "source": [
        "> **perplexity distribution**"
      ],
      "metadata": {
        "id": "bz6hiv_xi8E4"
      }
    },
    {
      "cell_type": "code",
      "source": [
        "# plot\n",
        "plt.figure(figsize=(10,8))\n",
        "plt.plot(range(2, 20), distortions, marker='o')\n",
        "plt.xlabel('Number of Topics')\n",
        "plt.ylabel('log_perplexity')\n",
        "plt.grid()\n",
        "plt.show()"
      ],
      "metadata": {
        "id": "md8QZNGTOlww",
        "colab": {
          "base_uri": "https://localhost:8080/",
          "height": 497
        },
        "outputId": "7fcf6315-05ea-43a5-cf6c-ade3b2e5ef08"
      },
      "execution_count": 29,
      "outputs": [
        {
          "output_type": "display_data",
          "data": {
            "text/plain": [
              "<Figure size 720x576 with 1 Axes>"
            ],
            "image/png": "[encoded data removed]"
          },
          "metadata": {
            "needs_background": "light"
          }
        }
      ]
    },
    {
      "cell_type": "markdown",
      "source": [
        "> **coherence distribution**"
      ],
      "metadata": {
        "id": "hIJJYPiGjAu2"
      }
    },
    {
      "cell_type": "code",
      "source": [
        "# plot\n",
        "plt.figure(figsize=(10,8))\n",
        "plt.plot(range(2, 20), coherence_vals, marker='o')\n",
        "plt.xlabel('Number of Topics')\n",
        "plt.ylabel('coherence values')\n",
        "plt.grid()\n",
        "plt.show()"
      ],
      "metadata": {
        "colab": {
          "base_uri": "https://localhost:8080/",
          "height": 497
        },
        "id": "HlUKMGO_XDmu",
        "outputId": "2acb4ef5-57ac-46d9-e8a0-ea9ef8f1ae3d"
      },
      "execution_count": 30,
      "outputs": [
        {
          "output_type": "display_data",
          "data": {
            "text/plain": [
              "<Figure size 720x576 with 1 Axes>"
            ],
            "image/png": "[encoded data removed]"
          },
          "metadata": {
            "needs_background": "light"
          }
        }
      ]
    },
    {
      "cell_type": "markdown",
      "source": [
        "> As we can see from the previous results we we can choose number of topic from this set `[10, 11, 12]` and see which number is good"
      ],
      "metadata": {
        "id": "2vd84ouhjGfW"
      }
    },
    {
      "cell_type": "markdown",
      "source": [
        "## Train the models"
      ],
      "metadata": {
        "id": "jt31kDJnvV_L"
      }
    },
    {
      "cell_type": "markdown",
      "source": [
        "> ### 10 Topics"
      ],
      "metadata": {
        "id": "i4Yic4_E19jZ"
      }
    },
    {
      "cell_type": "code",
      "execution_count": 33,
      "metadata": {
        "id": "3GVg23Z1QVsC",
        "colab": {
          "base_uri": "https://localhost:8080/"
        },
        "outputId": "fd84fe75-9a0b-4f00-a6cc-1d7ad602d123"
      },
      "outputs": [
        {
          "output_type": "stream",
          "name": "stdout",
          "text": [
            "CPU times: user 1min 11s, sys: 1.14 s, total: 1min 12s\n",
            "Wall time: 1min 13s\n"
          ]
        }
      ],
      "source": [
        "# TODO code for task 3, hint, popularity of each topic is the ratio of documents discussing one topic, you need to read the topic assignment for each document and then calculate this value.\n",
        "%%time\n",
        "%%capture\n",
        "# Set training parameters.\n",
        "num_topics = 10\n",
        "passes = 2\n",
        "iterations = 500\n",
        "\n",
        "# Make an index to word dictionary.\n",
        "temp = dictionary[0]  # This is only to \"load\" the dictionary. \n",
        "id2word = dictionary.id2token\n",
        "\n",
        "model = LdaModel(\n",
        "    corpus=corpus,\n",
        "    id2word=id2word,\n",
        "    # iterations=iterations,\n",
        "    num_topics=num_topics,\n",
        "    passes=passes,\n",
        ")"
      ]
    },
    {
      "cell_type": "code",
      "source": [
        "# feed the LDA model into the pyLDAvis instance\n",
        "lda_viz = gensimvis.prepare(model, corpus, dictionary)\n",
        "lda_viz"
      ],
      "metadata": {
        "id": "ZmobORhK0sZP",
        "colab": {
          "base_uri": "https://localhost:8080/",
          "height": 897
        },
        "outputId": "5e3f23c1-bf87-40d6-aab3-6a58338d6b05"
      },
      "execution_count": 34,
      "outputs": [
        {
          "output_type": "stream",
          "name": "stderr",
          "text": [
            "/usr/local/lib/python3.7/dist-packages/pyLDAvis/_prepare.py:247: FutureWarning: In a future version of pandas all arguments of DataFrame.drop except for the argument 'labels' will be keyword-only\n",
            "  by='saliency', ascending=False).head(R).drop('saliency', 1)\n"
          ]
        },
        {
          "output_type": "execute_result",
          "data": {
            "text/plain": [
              "PreparedData(topic_coordinates=              x         y  topics  cluster       Freq\n",
              "topic                                                \n",
              "1      0.175034  0.148860       1        1  20.144871\n",
              "3      0.194170 -0.181520       2        1  11.648214\n",
              "7     -0.142882  0.077956       3        1  10.476612\n",
              "5     -0.189055 -0.107905       4        1  10.419977\n",
              "8      0.127838  0.172818       5        1   9.834650\n",
              "9     -0.213603  0.030416       6        1   8.260458\n",
              "0      0.130502  0.056270       7        1   8.109621\n",
              "6     -0.172950  0.005382       8        1   7.748970\n",
              "2      0.076445 -0.309089       9        1   6.934051\n",
              "4      0.014501  0.106812      10        1   6.422576, topic_info=         Term          Freq         Total Category  logprob  loglift\n",
              "19       data  26708.000000  26708.000000  Default  30.0000  30.0000\n",
              "73     column  19981.000000  19981.000000  Default  29.0000  29.0000\n",
              "12   function  14585.000000  14585.000000  Default  28.0000  28.0000\n",
              "71       plot  12878.000000  12878.000000  Default  27.0000  27.0000\n",
              "269    ggplot  10225.000000  10225.000000  Default  26.0000  26.0000\n",
              "..        ...           ...           ...      ...      ...      ...\n",
              "22    package   1146.405391   8881.946600  Topic10  -4.1511   0.6980\n",
              "99        use   1298.406996  24715.832161  Topic10  -4.0266  -0.2010\n",
              "17       test    549.963453   2221.902289  Topic10  -4.8856   1.3491\n",
              "7      object    564.583889   4144.319906  Topic10  -4.8594   0.7519\n",
              "321       two    524.546727   5276.129293  Topic10  -4.9330   0.4369\n",
              "\n",
              "[484 rows x 6 columns], token_table=      Topic      Freq    Term\n",
              "term                         \n",
              "0         3  0.998905  access\n",
              "1306      5  0.998018  accord\n",
              "530       5  0.998151  across\n",
              "147       1  0.347628     add\n",
              "147       2  0.548197     add\n",
              "...     ...       ...     ...\n",
              "441       4  0.999173     xml\n",
              "1320      7  0.998487      xt\n",
              "804       9  0.999441    year\n",
              "1543      1  0.260532    zero\n",
              "1543      7  0.738770    zero\n",
              "\n",
              "[584 rows x 3 columns], R=30, lambda_step=0.01, plot_opts={'xlab': 'PC1', 'ylab': 'PC2'}, topic_order=[2, 4, 8, 6, 9, 10, 1, 7, 3, 5])"
            ],
            "text/html": [
              "\n",
              "<link rel=\"stylesheet\" type=\"text/css\" href=\"https://cdn.jsdelivr.net/gh/bmabey/pyLDAvis@3.3.1/pyLDAvis/js/ldavis.v1.0.0.css\">\n",
              "\n",
              "\n",
              "<div id=\"ldavis_el19201406269530780969466278014\"></div>\n",
              "<script type=\"text/javascript\">\n",
              "\n",
              "var ldavis_el19201406269530780969466278014_data = {\"mdsDat\": {\"x\": [0.17503438210604927, 0.1941697979639303, -0.14288204109007008, -0.18905474349795165, 0.12783784504950269, -0.21360257570015379, 0.13050220387056385, -0.17295030355164984, 0.07644468574653414, 0.014500749103245747], \"y\": [0.14885963345618505, -0.18152048983064334, 0.07795625984710365, -0.1079047291099659, 0.17281763812203557, 0.030415954712651745, 0.05627023115334132, 0.005382196285889022, -0.30908900528173266, 0.10681231064513552], \"topics\": [1, 2, 3, 4, 5, 6, 7, 8, 9, 10], \"cluster\": [1, 1, 1, 1, 1, 1, 1, 1, 1, 1], \"Freq\": [20.144871255823674, 11.648213522489161, 10.476612293650884, 10.419977397245445, 9.834650055958512, 8.26045769835709, 8.109621143480208, 7.748970283459499, 6.9340508085256465, 6.422575541009879]}, \"tinfo\": {\"Term\": [\"data\", \"column\", \"function\", \"plot\", \"ggplot\", \"shiny\", \"file\", \"loop\", \"frame\", \"time\", \"error\", \"package\", \"row\", \"value\", \"date\", \"matrix\", \"dataframe\", \"group\", \"different\", \"x\", \"calculate\", \"list\", \"string\", \"table\", \"dplyr\", \"base\", \"line\", \"convert\", \"variable\", \"code\", \"data\", \"column\", \"frame\", \"another\", \"dataframe\", \"merge\", \"unique\", \"duplicate\", \"compare\", \"mutate\", \"repeat\", \"join\", \"category\", \"previous\", \"new\", \"subsetting\", \"prediction\", \"datatable\", \"item\", \"entry\", \"dt\", \"counting\", \"drop\", \"criterion\", \"unexpected\", \"divide\", \"iterate\", \"ui\", \"choose\", \"partial\", \"base\", \"row\", \"table\", \"subset\", \"name\", \"select\", \"one\", \"element\", \"condition\", \"list\", \"replace\", \"value\", \"match\", \"remove\", \"two\", \"combine\", \"na\", \"vector\", \"create\", \"multiple\", \"r\", \"variable\", \"extract\", \"add\", \"use\", \"string\", \"label\", \"specific\", \"graph\", \"bar\", \"order\", \"legend\", \"filter\", \"ggplot\", \"show\", \"chart\", \"scale\", \"stack\", \"histogram\", \"scrap\", \"curve\", \"barplot\", \"colour\", \"network\", \"facet\", \"true\", \"title\", \"break\", \"percentage\", \"dynamically\", \"url\", \"density\", \"maximum\", \"trouble\", \"probability\", \"top\", \"line\", \"axis\", \"color\", \"plot\", \"map\", \"add\", \"point\", \"factor\", \"change\", \"level\", \"r\", \"use\", \"multiple\", \"value\", \"variable\", \"create\", \"make\", \"apply\", \"argument\", \"call\", \"type\", \"nest\", \"dataframes\", \"store\", \"excel\", \"access\", \"define\", \"pattern\", \"caret\", \"method\", \"space\", \"regex\", \"expression\", \"query\", \"directory\", \"api\", \"transform\", \"environment\", \"passing\", \"insert\", \"invalid\", \"roll\", \"handle\", \"fails\", \"purrr\", \"local\", \"regular\", \"function\", \"character\", \"string\", \"inside\", \"parameter\", \"work\", \"return\", \"r\", \"use\", \"list\", \"within\", \"error\", \"object\", \"vector\", \"variable\", \"name\", \"get\", \"file\", \"input\", \"rstudio\", \"read\", \"issue\", \"script\", \"import\", \"install\", \"aggregate\", \"instal\", \"pdf\", \"download\", \"combination\", \"command\", \"reading\", \"json\", \"fail\", \"parse\", \"xml\", \"export\", \"web\", \"binary\", \"studio\", \"open\", \"version\", \"path\", \"source\", \"memory\", \"append\", \"automatically\", \"package\", \"run\", \"text\", \"r\", \"write\", \"unable\", \"error\", \"window\", \"output\", \"use\", \"shiny\", \"work\", \"multiple\", \"dataset\", \"id\", \"certain\", \"every\", \"n\", \"observation\", \"separate\", \"cell\", \"statement\", \"calculation\", \"across\", \"count\", \"render\", \"perform\", \"max\", \"accord\", \"null\", \"summary\", \"estimate\", \"chunk\", \"operation\", \"efficient\", \"case\", \"best\", \"mixed\", \"rename\", \"build\", \"group_by\", \"lag\", \"conditionally\", \"matrix\", \"way\", \"single\", \"dplyr\", \"distance\", \"analysis\", \"check\", \"variable\", \"first\", \"group\", \"r\", \"large\", \"value\", \"sum\", \"vector\", \"use\", \"multiple\", \"number\", \"row\", \"create\", \"get\", \"loop\", \"result\", \"code\", \"app\", \"load\", \"difference\", \"assign\", \"library\", \"predict\", \"array\", \"lapply\", \"default\", \"c\", \"part\", \"pas\", \"knitr\", \"tree\", \"button\", \"print\", \"instead\", \"df\", \"wrong\", \"coefficient\", \"avoid\", \"forecast\", \"paste\", \"letter\", \"next\", \"java\", \"depend\", \"test\", \"r\", \"use\", \"function\", \"error\", \"package\", \"model\", \"variable\", \"output\", \"run\", \"time\", \"date\", \"x\", \"series\", \"class\", \"range\", \"start\", \"reference\", \"igraph\", \"second\", \"need\", \"draw\", \"must\", \"connection\", \"xt\", \"end\", \"symbol\", \"appear\", \"negative\", \"replacement\", \"event\", \"identify\", \"classification\", \"hour\", \"period\", \"forest\", \"tab\", \"click\", \"spatial\", \"low\", \"attribute\", \"convert\", \"numeric\", \"format\", \"miss\", \"object\", \"zero\", \"r\", \"value\", \"interval\", \"find\", \"change\", \"regression\", \"rmarkdown\", \"word\", \"cluster\", \"display\", \"cannot\", \"html\", \"linear\", \"message\", \"connect\", \"sort\", \"sequence\", \"fix\", \"heatmap\", \"information\", \"ho\", \"warn\", \"database\", \"integer\", \"effect\", \"ifelse\", \"overlap\", \"glm\", \"double\", \"term\", \"rcpp\", \"option\", \"encode\", \"v\", \"rselenium\", \"produce\", \"model\", \"error\", \"extract\", \"program\", \"page\", \"r\", \"number\", \"use\", \"interval\", \"table\", \"output\", \"plotly\", \"save\", \"conditional\", \"image\", \"long\", \"raster\", \"reactive\", \"year\", \"position\", \"day\", \"document\", \"grid\", \"delete\", \"coordinate\", \"boxplot\", \"panel\", \"box\", \"month\", \"log\", \"side\", \"feature\", \"multi\", \"width\", \"move\", \"follow\", \"selection\", \"increase\", \"datasets\", \"layer\", \"control\", \"shiny\", \"size\", \"average\", \"python\", \"node\", \"plot\", \"r\", \"point\", \"fill\", \"possible\", \"use\", \"change\", \"multiple\", \"calculate\", \"mean\", \"server\", \"update\", \"keep\", \"sample\", \"leaflet\", \"correlation\", \"found\", \"weight\", \"parallel\", \"modify\", \"link\", \"pair\", \"operator\", \"key\", \"installation\", \"individual\", \"similar\", \"foreach\", \"continuous\", \"stop\", \"e\", \"consecutive\", \"high\", \"arrange\", \"tidyr\", \"anova\", \"fast\", \"survival\", \"dimension\", \"different\", \"group\", \"give\", \"random\", \"distribution\", \"r\", \"csv\", \"package\", \"use\", \"test\", \"object\", \"two\"], \"Freq\": [26708.0, 19981.0, 14585.0, 12878.0, 10225.0, 8989.0, 7902.0, 7065.0, 10258.0, 6123.0, 12700.0, 8881.0, 10330.0, 16832.0, 4857.0, 5798.0, 6585.0, 5128.0, 4694.0, 3662.0, 3215.0, 8368.0, 5091.0, 7889.0, 4328.0, 5914.0, 3596.0, 4122.0, 9671.0, 2894.0, 26707.14391172968, 19980.62162190909, 10257.127562862099, 2756.606887066347, 6582.546181045666, 1699.8732669129479, 1122.966649552141, 1119.7394631728268, 1009.7112284615819, 808.2404284447174, 796.8081605706229, 706.8285155354024, 701.1386191021145, 649.9473087025351, 3027.2686162218733, 638.6177046982671, 595.1824343410843, 520.2969833125449, 477.68695821038216, 472.732881538045, 437.45040374971086, 403.82548757172066, 385.8360767368364, 385.08999590551986, 377.9487428433077, 368.0400844200402, 328.6479416178443, 315.6178709058994, 311.97694540955365, 308.78660318445475, 5487.930496751218, 9074.559725337622, 6412.1775359664025, 1996.6086416989594, 4410.443250371942, 1941.7875175320835, 3489.6075651409806, 2431.254609851813, 2089.442512447087, 5922.171764035549, 1761.1608857246874, 10247.66653698777, 2035.764886215076, 2049.2006147865623, 3173.8536951781075, 1250.7938538855735, 1881.7561089307299, 3042.630661381421, 3564.2756197097997, 3559.9449163537306, 13888.428706866358, 2602.3307902908114, 1619.36193151703, 1831.5421521919566, 2465.573158436685, 1732.2441261103438, 2934.9052538341944, 2716.0347477805644, 2379.817139855295, 2162.230168068187, 2042.6953522536762, 1998.6464433806755, 1953.7081109255948, 10220.784102117974, 1787.5828949351064, 1403.0160833644147, 1213.3587090054637, 1084.9387569616176, 946.0333702649342, 854.0677342760533, 829.8871070481823, 798.7256790401514, 744.801684463526, 716.1982868807987, 709.0297148010623, 693.8474153423169, 672.9434403306631, 611.566880343344, 582.6030651580897, 563.4877747067757, 545.4472812717993, 520.6199067288516, 505.0897016058452, 492.37102431094337, 490.79989991548615, 489.6440366062566, 3582.106564744667, 2947.3392307352888, 2536.0357289906583, 10505.47834755305, 1522.4541237940098, 2889.4218066633166, 1590.69810857052, 1720.7945988582594, 2092.8435697254263, 1173.724331668019, 7045.4536234612215, 3201.829718680409, 1510.7158967377115, 1455.3394720989074, 1227.6621600830217, 953.0444210383463, 889.7939600462823, 2603.9137031402884, 2372.778988880406, 1938.643546730903, 1500.5979828171976, 1416.3890191942935, 1372.1004809949195, 1122.7344949770222, 1088.0485053416958, 1027.2451939355437, 980.7305163779682, 903.0637126972512, 891.9280389452373, 851.9898070612204, 828.6948092774909, 823.8129635267445, 793.7209300977785, 662.0162193039776, 646.8598246543054, 644.6124502624801, 632.5390064578932, 627.0973078935928, 605.8632143626817, 595.4693842983237, 571.7372434396094, 541.2819471568072, 487.76109099262993, 442.7168012645681, 442.2296950310447, 436.2852404558368, 409.0679550032249, 12234.386778799098, 2525.2328160049137, 3358.342908588667, 1124.8316757456143, 966.6175139533196, 1963.343430007357, 1519.1173653178653, 10117.977687260956, 4397.521970222376, 2188.9240769833477, 1242.083236479823, 2504.505653602198, 1330.434580047187, 1451.4369997934214, 1273.6370586556766, 956.4974720438319, 851.2829679993033, 7901.700586666445, 2017.5169058056747, 1862.6228226147916, 1709.2911972096836, 1509.727145531455, 1363.9127856969117, 1294.6080367868453, 1197.246478500406, 1109.996785319386, 1051.9867449792866, 1039.7096152262193, 1000.4605084456463, 896.8995545902251, 872.115447467688, 858.7094848648865, 798.7423022462383, 760.9878374794796, 747.3094017750612, 745.7358338628173, 718.7600067914859, 707.4322428452427, 704.0577894331526, 647.8572146905688, 644.1439574218053, 641.3926611032392, 638.018867698662, 635.0450938475889, 505.36417766331886, 491.17099109938664, 483.4385630795843, 6070.4419810769205, 1883.5347206591844, 1996.8265502831455, 14137.321328006821, 1166.6890106585286, 872.9632271181364, 3070.358910520557, 974.5258432260722, 1457.6488127131904, 3603.416398422464, 2186.872853618907, 789.2116837572678, 751.4461638646663, 1511.9852727395878, 1352.848228220598, 1147.90145190327, 1034.8950532597355, 1057.5403120253454, 1010.8284700956351, 997.3745808697172, 991.0089371264987, 946.6805388940968, 758.6051635064938, 732.4779714308488, 1966.5348861195484, 714.8208449315272, 611.2447104544872, 584.6615317639282, 583.2792963819483, 567.4344363572691, 566.6668796532485, 550.3403889576709, 523.262498012999, 520.8224712771824, 506.2869635280011, 477.2560233559947, 475.7907822138545, 472.7712205772071, 471.40980152407275, 448.8774492802569, 441.4772703311392, 430.3885780703868, 418.93108379396324, 4753.395091217815, 1947.5285915735951, 1241.609919752834, 3161.6893006804276, 794.6357370082331, 877.7930255073503, 769.9005915019792, 3727.0219626678613, 963.6579421766968, 2008.58656976214, 8173.516051765759, 907.410975770596, 2524.559095973501, 869.2386044837095, 1272.0243930829329, 2036.6455275368733, 1371.6819704546235, 1135.4521452105732, 1254.731370649755, 969.7673530042487, 857.3258503469951, 7064.444427314455, 2850.083398349689, 2893.5307285253707, 1891.414292567065, 1606.1327609484663, 1265.1206461323645, 1264.3302317021994, 1108.8075593998647, 1081.2748191503447, 915.677589400684, 880.0860926711485, 866.7313676608629, 863.3782977960919, 814.2216535033153, 803.9204536129179, 775.4905615918248, 742.6068272708354, 695.1994894066902, 704.2110336254509, 687.826502904479, 639.2540798688616, 634.3037432443684, 615.959352736244, 564.9580447576222, 544.5810665679546, 533.2213444400726, 435.8896208176637, 423.0636555047862, 394.4447930434716, 391.43595982511243, 1131.8697142371102, 8565.504914499385, 3542.3647027948778, 2349.98616525805, 2038.0482034747424, 1664.4171048021242, 882.134420622401, 840.5549067176494, 714.6964513538585, 699.9694451564264, 6122.235770540896, 4856.859398436298, 3661.635717757685, 2164.6574903020946, 1508.6403787157694, 1173.0777329757234, 891.61967159985, 881.379353877052, 817.3374304081443, 796.583009819693, 793.5328481343731, 704.7326317940052, 683.4528142631824, 595.3749010029494, 548.9579603138824, 542.7164209979206, 537.3566359280001, 510.5591231659067, 479.30087307551133, 456.2320348660614, 447.00912259595066, 444.4329482287731, 432.0902722342114, 426.6112733395796, 425.72335507531284, 399.4579169420021, 399.27222589295474, 393.31388896991535, 377.68454989630703, 376.8742811394105, 708.557576325742, 2593.91852097642, 1189.6358269343432, 1562.8842527695685, 1061.9186534695891, 1652.8566599091787, 620.9796762383818, 6474.616255118681, 2544.0733588175276, 580.2922332957273, 553.7762106992716, 529.6604739221519, 2605.4423920564436, 1543.3366251461093, 1511.2890674284038, 1279.6801832797873, 1269.628836883187, 1244.1162781338207, 1240.654657620286, 1152.7591423670776, 1004.5786992826488, 988.9649223619243, 918.058064830343, 874.7926348505722, 856.2454462180874, 692.259804717479, 675.2050084150509, 633.2133085186055, 610.7511412837775, 612.7933795889197, 607.037155251662, 582.5824456768581, 550.6662243740897, 548.9582374494727, 530.1161042862773, 512.4317848563818, 509.3342742045007, 507.23767710289275, 502.98415240698534, 469.1350239224403, 739.7451788273947, 447.2605779414996, 830.1218929603652, 2747.7966683341215, 5086.366573792485, 1786.0492648960387, 688.489210277306, 703.506062987631, 6282.5064898609535, 1507.047199810745, 2649.8232203654998, 704.9705192319193, 780.2610926175347, 705.8621834628847, 1772.343769086114, 1601.9480480633265, 1312.451429638114, 1120.0994645184085, 997.6182846635676, 953.8759159296351, 894.9213245449514, 869.6074903504239, 862.157517066345, 810.4376143996577, 792.4139553906853, 787.1458154206675, 721.0703630977422, 619.3062783651018, 616.9831668420849, 601.8840399596429, 596.4312867031036, 591.3791633106138, 546.3967671882294, 527.0166177698474, 509.2339369286898, 503.48061977268276, 477.314321649453, 458.32298011027757, 454.32147614475076, 438.7139673135014, 433.94494934750725, 412.3427425861411, 399.13853713174865, 513.1171478446453, 6801.362537923581, 1578.8096054821408, 638.587825841793, 770.8909156671356, 671.2550810107555, 2371.863338876077, 4929.601659200962, 934.9709151404406, 693.603536840101, 598.297000874483, 1022.1629944324479, 662.3279086299259, 660.3981800576493, 3214.689616792514, 1916.2225481236708, 1557.443900637353, 1331.4541842127858, 1236.5612060090289, 1219.3753936931837, 1196.0774009051413, 1054.6112184697404, 922.2643539727359, 775.0232363248074, 759.3571973293277, 679.0042766117349, 611.0400001646685, 569.73633786739, 540.4232226266954, 522.1966893391373, 517.7626667724659, 497.28193301280464, 489.428030615994, 465.8149297973293, 452.61225927276274, 449.86737847411564, 430.48187818893683, 420.8757107155469, 419.14605747935764, 417.93823941426774, 352.76179609234646, 301.62161031650555, 299.27347069939395, 292.6881027187054, 544.5811230944514, 3044.4657838912162, 3119.456545661032, 1208.159107240299, 972.0179966122183, 699.5933912615413, 4629.483789909465, 875.1945706735765, 1146.405391416572, 1298.4069964332043, 549.9634530242854, 564.583889331386, 524.5467274016189], \"Total\": [26708.0, 19981.0, 14585.0, 12878.0, 10225.0, 8989.0, 7902.0, 7065.0, 10258.0, 6123.0, 12700.0, 8881.0, 10330.0, 16832.0, 4857.0, 5798.0, 6585.0, 5128.0, 4694.0, 3662.0, 3215.0, 8368.0, 5091.0, 7889.0, 4328.0, 5914.0, 3596.0, 4122.0, 9671.0, 2894.0, 26708.032268256316, 19981.528833865912, 10258.010351735173, 2757.4897101246806, 6585.849442886728, 1700.756067900975, 1123.8494829605436, 1120.6222742756343, 1010.59410617484, 809.1232991936347, 797.6910399288822, 707.7113417853124, 702.0215423711185, 650.8302079394809, 3031.4394260598083, 639.5005273110688, 596.0654554995614, 521.1798813615562, 478.56984205351347, 473.6157765195378, 438.3332793980559, 404.7083282639723, 386.71896581084167, 385.9727934394819, 378.8317633467803, 368.922950602583, 329.53081381896715, 316.50095893932485, 312.86001186243885, 309.6694780264751, 5914.032224583969, 10330.07598872842, 7889.504520932251, 2276.1277165228307, 5566.5869065273755, 2268.551730186111, 4368.754565922368, 3014.1212677170142, 2556.5726149445836, 8368.162900408166, 2116.561741660247, 16832.101542340533, 2722.896772199834, 2926.6826011152402, 5276.129292986924, 1590.350081016754, 2864.4084688530675, 5766.81270690518, 7313.279256058445, 8697.020009348775, 84244.41050595058, 9671.70135559882, 3406.1978255813747, 5270.004600428495, 24715.832160975948, 5091.373947493804, 2935.8235473328027, 2716.9132408528694, 2380.6966137467844, 2163.108549222568, 2043.5738009734475, 1999.529403795684, 1954.5866037475819, 10225.757839274029, 1788.4613851171487, 1403.894477040517, 1214.2450316448976, 1085.8171772158348, 946.9117668142284, 854.9462449377321, 830.7655381843749, 799.6040696307424, 745.6800852892667, 717.0767834910251, 709.908099458669, 694.7259474404253, 673.8218520622609, 612.4635220859834, 583.5109232741983, 564.3662405893533, 546.3257812027447, 521.4983059126905, 505.9681958927828, 493.2495243224584, 491.6783787338966, 490.52249201841164, 3596.1172950370797, 2958.8862574278387, 2684.1352780147936, 12878.12680982732, 2035.216868527865, 5270.004600428495, 2526.4513143896734, 2947.463070214633, 4496.479350973729, 1990.4595643708492, 84244.41050595058, 24715.832160975948, 8697.020009348775, 16832.101542340533, 9671.70135559882, 7313.279256058445, 2606.3517170665928, 2604.794522009634, 2373.659060309848, 1939.523622844058, 1501.4803304067707, 1417.2691181134442, 1372.9805591420916, 1123.6146041467262, 1088.9286197078372, 1028.125283307402, 981.6109648793855, 903.9437880216982, 892.8081307235198, 852.8699717457905, 829.5749140046678, 824.6930198384059, 794.6009793923433, 662.8962930054037, 647.7399329841153, 645.4925369834715, 633.4191387995953, 627.977366026732, 606.7432749334149, 596.3494695470896, 572.617336049817, 542.1620736456235, 488.64117322377876, 443.59691382698577, 443.1097990525988, 437.1653689469459, 409.9480069213081, 14585.156412259481, 3527.4306291862654, 5091.373947493804, 1428.7663370049793, 1185.1839172231462, 3394.611176926302, 2692.8068389151026, 84244.41050595058, 24715.832160975948, 8368.162900408166, 2684.016888172333, 12700.050079259892, 4144.319906096905, 5766.81270690518, 9671.70135559882, 5566.5869065273755, 5272.494281511796, 7902.582295897278, 2018.3986617111116, 1863.5045419860219, 1710.1729074606512, 1510.6100656960446, 1364.7945030560481, 1295.4897561882226, 1198.1281616297838, 1110.8785455977204, 1052.8684306290713, 1040.591362145522, 1001.3422231599501, 897.7813324274949, 873.0008998353693, 859.591188517476, 799.6240050951408, 761.869615069453, 748.1911268130816, 746.6175306833139, 719.641731759574, 708.3150249729783, 704.9395641720564, 648.7389475292812, 645.0256750238219, 642.2743703954011, 638.9006258356709, 635.9268132973912, 506.245902994541, 492.0527867788887, 484.3203647913433, 8881.9466002235, 2584.292718964834, 3041.77037553881, 84244.41050595058, 1662.5577614358356, 1081.2961387574892, 12700.050079259892, 1412.8902435749935, 3376.504229683852, 24715.832160975948, 8989.020439990798, 3394.611176926302, 8697.020009348775, 1512.8634846910513, 1353.7264522628204, 1148.779666025722, 1035.7732885121434, 1058.4424049078336, 1011.7066717162436, 998.2530068458975, 991.8871456652206, 947.5587545791345, 759.4833758936672, 733.3561876339515, 1968.9299124470942, 715.6991287242549, 612.1228997266342, 585.5397544930316, 584.1575307262437, 568.3126747517924, 567.5450820172522, 551.2195983561433, 524.1407817022574, 521.7006530515268, 507.1675994004721, 478.1350361472508, 476.6690099648846, 473.64949783710784, 472.28800414865424, 449.7557033402358, 442.35545157499695, 431.2668528655046, 419.80929142329336, 5798.480881956916, 2331.0262532813103, 1413.4425496788178, 4328.80341881154, 955.0879005386274, 1110.9715181272895, 938.8989775493227, 9671.70135559882, 1409.164361678492, 5128.818873012714, 84244.41050595058, 1507.6630770247757, 16832.101542340533, 1746.941177235022, 5766.81270690518, 24715.832160975948, 8697.020009348775, 4796.417365118014, 10330.07598872842, 7313.279256058445, 5272.494281511796, 7065.322676801996, 2850.9618361882644, 2894.7572086493283, 1892.2926005855848, 1607.0110232162426, 1265.9989291955328, 1265.2085017551594, 1109.6858255041614, 1082.253599057321, 916.5558565067734, 880.9643439743246, 867.6096706037653, 864.2573032106724, 815.09994167847, 804.7987350982664, 776.3688135465753, 743.4851118286089, 696.0777920008144, 705.1054850453115, 688.7050548938746, 640.1323694623275, 635.1820152524481, 616.8376592566649, 565.8363991912123, 545.4593275956922, 534.0996207537128, 436.7679058592785, 423.9419412935356, 395.32303957270534, 392.314249946031, 2221.902289417462, 84244.41050595058, 24715.832160975948, 14585.156412259481, 12700.050079259892, 8881.9466002235, 3898.064321747881, 9671.70135559882, 3376.504229683852, 2584.292718964834, 6123.108807814402, 4857.732471334841, 3662.508808263032, 2165.530506793098, 1509.5134399998053, 1173.9507751075555, 892.4927303596874, 882.252436839358, 818.210477809517, 797.4560897593059, 794.4066313636514, 705.6056987217574, 684.3308657556231, 596.2480165283201, 549.8317572698168, 543.5894680420294, 538.2297093483626, 511.43221257312837, 480.17391840984027, 457.1051045515106, 447.8821690959008, 445.3060018947451, 432.9633409475319, 427.48430077032174, 426.5965802476938, 400.3309602079797, 400.14530796494216, 394.1869812549293, 378.5578535287851, 377.747366545889, 727.9383099222499, 4122.695874995781, 1712.3793018273047, 2560.7256870872698, 1656.835618854357, 4144.319906096905, 840.5862293784319, 84244.41050595058, 16832.101542340533, 1286.039139044432, 3691.201085165311, 4496.479350973729, 2606.3221752138797, 1544.2160871615893, 1512.1685209310347, 1280.5596335199793, 1270.5083188143085, 1244.9957599978184, 1241.5341046604537, 1153.638578856717, 1005.4581409672734, 989.844389613125, 918.9375286028385, 875.6721249609085, 857.1249336118007, 693.1392811283397, 676.0844800084548, 634.0927648144434, 611.6306187173487, 613.6777991352826, 607.9166098962523, 583.4618914952367, 551.5457063273118, 549.8376987567136, 530.9955460937454, 513.3112482477007, 510.2137300839492, 508.1171460061951, 503.8636060509784, 470.0144918935985, 741.1801811753387, 448.1400291304978, 832.7270060371468, 3898.064321747881, 12700.050079259892, 3406.1978255813747, 879.5901062216657, 953.7273374565198, 84244.41050595058, 4796.417365118014, 24715.832160975948, 1286.039139044432, 7889.504520932251, 3376.504229683852, 1773.2234810293926, 1602.8274851171846, 1313.330848800054, 1120.9788761174605, 998.4977024815211, 954.7553377442777, 895.8007229038196, 870.4869091533674, 863.0369411935964, 811.3170400592976, 793.2933971723941, 788.0252362966394, 721.9497927023265, 620.1856947716469, 617.8740417515459, 602.763464495173, 597.3106988452955, 592.2585852816006, 547.2762117296811, 527.8960267439817, 510.11337441856585, 504.3600817562649, 478.203481364534, 459.2024018057168, 455.200958997126, 439.5933742146769, 434.8243871517739, 413.2221769556967, 400.0179551709938, 514.3069093259041, 8989.020439990798, 1831.612731292223, 842.3877532623748, 1196.4748501482436, 938.577098879325, 12878.12680982732, 84244.41050595058, 2526.4513143896734, 1236.1241435546513, 974.4837824234519, 24715.832160975948, 4496.479350973729, 8697.020009348775, 3215.563276306552, 1917.0963522387563, 1558.3180182055598, 1332.32785715741, 1237.4348844129536, 1220.2490311544711, 1196.95105410745, 1055.4848828241368, 923.1380228898037, 775.8970494864027, 760.2308574579123, 679.8779476060619, 611.9136828317756, 570.6099843758333, 541.2968843890171, 523.0703460516537, 518.6363343148645, 498.1556057812487, 490.3016941764965, 466.68858452640575, 453.485945133946, 450.74105958781183, 431.35555639575074, 421.74935903717386, 420.01972804389845, 418.81191296124433, 353.6354589600834, 302.4952648526991, 300.14711392928405, 293.5617752050358, 547.6101106943688, 4694.389779746234, 5128.818873012714, 1915.2753634327091, 1442.3090653644272, 1021.2515189751082, 84244.41050595058, 2192.0101432476895, 8881.9466002235, 24715.832160975948, 2221.902289417462, 4144.319906096905, 5276.129292986924], \"Category\": [\"Default\", \"Default\", \"Default\", \"Default\", \"Default\", \"Default\", \"Default\", \"Default\", \"Default\", \"Default\", \"Default\", \"Default\", \"Default\", \"Default\", \"Default\", \"Default\", \"Default\", \"Default\", \"Default\", \"Default\", \"Default\", \"Default\", \"Default\", \"Default\", \"Default\", \"Default\", \"Default\", \"Default\", \"Default\", \"Default\", \"Topic1\", \"Topic1\", \"Topic1\", \"Topic1\", \"Topic1\", \"Topic1\", \"Topic1\", \"Topic1\", \"Topic1\", \"Topic1\", \"Topic1\", \"Topic1\", \"Topic1\", \"Topic1\", \"Topic1\", \"Topic1\", \"Topic1\", \"Topic1\", \"Topic1\", \"Topic1\", \"Topic1\", \"Topic1\", \"Topic1\", \"Topic1\", \"Topic1\", \"Topic1\", \"Topic1\", \"Topic1\", \"Topic1\", \"Topic1\", \"Topic1\", \"Topic1\", \"Topic1\", \"Topic1\", \"Topic1\", \"Topic1\", \"Topic1\", \"Topic1\", \"Topic1\", \"Topic1\", \"Topic1\", \"Topic1\", \"Topic1\", \"Topic1\", \"Topic1\", \"Topic1\", \"Topic1\", \"Topic1\", \"Topic1\", \"Topic1\", \"Topic1\", \"Topic1\", \"Topic1\", \"Topic1\", \"Topic1\", \"Topic1\", \"Topic2\", \"Topic2\", \"Topic2\", \"Topic2\", \"Topic2\", \"Topic2\", \"Topic2\", \"Topic2\", \"Topic2\", \"Topic2\", \"Topic2\", \"Topic2\", \"Topic2\", \"Topic2\", \"Topic2\", \"Topic2\", \"Topic2\", \"Topic2\", \"Topic2\", \"Topic2\", \"Topic2\", \"Topic2\", \"Topic2\", \"Topic2\", \"Topic2\", \"Topic2\", \"Topic2\", \"Topic2\", \"Topic2\", \"Topic2\", \"Topic2\", \"Topic2\", \"Topic2\", \"Topic2\", \"Topic2\", \"Topic2\", \"Topic2\", \"Topic2\", \"Topic2\", \"Topic2\", \"Topic2\", \"Topic2\", \"Topic2\", \"Topic2\", \"Topic2\", \"Topic2\", \"Topic2\", \"Topic3\", \"Topic3\", \"Topic3\", \"Topic3\", \"Topic3\", \"Topic3\", \"Topic3\", \"Topic3\", \"Topic3\", \"Topic3\", \"Topic3\", \"Topic3\", \"Topic3\", \"Topic3\", \"Topic3\", \"Topic3\", \"Topic3\", \"Topic3\", \"Topic3\", \"Topic3\", \"Topic3\", \"Topic3\", \"Topic3\", \"Topic3\", \"Topic3\", \"Topic3\", \"Topic3\", \"Topic3\", \"Topic3\", \"Topic3\", \"Topic3\", \"Topic3\", \"Topic3\", \"Topic3\", \"Topic3\", \"Topic3\", \"Topic3\", \"Topic3\", \"Topic3\", \"Topic3\", \"Topic3\", \"Topic3\", \"Topic3\", \"Topic3\", \"Topic3\", \"Topic3\", \"Topic3\", \"Topic4\", \"Topic4\", \"Topic4\", \"Topic4\", \"Topic4\", \"Topic4\", \"Topic4\", \"Topic4\", \"Topic4\", \"Topic4\", \"Topic4\", \"Topic4\", \"Topic4\", \"Topic4\", \"Topic4\", \"Topic4\", \"Topic4\", \"Topic4\", \"Topic4\", \"Topic4\", \"Topic4\", \"Topic4\", \"Topic4\", \"Topic4\", \"Topic4\", \"Topic4\", \"Topic4\", \"Topic4\", \"Topic4\", \"Topic4\", \"Topic4\", \"Topic4\", \"Topic4\", \"Topic4\", \"Topic4\", \"Topic4\", \"Topic4\", \"Topic4\", \"Topic4\", \"Topic4\", \"Topic4\", \"Topic4\", \"Topic4\", \"Topic5\", \"Topic5\", \"Topic5\", \"Topic5\", \"Topic5\", \"Topic5\", \"Topic5\", \"Topic5\", \"Topic5\", \"Topic5\", \"Topic5\", \"Topic5\", \"Topic5\", \"Topic5\", \"Topic5\", \"Topic5\", \"Topic5\", \"Topic5\", \"Topic5\", \"Topic5\", \"Topic5\", \"Topic5\", \"Topic5\", \"Topic5\", \"Topic5\", \"Topic5\", \"Topic5\", \"Topic5\", \"Topic5\", \"Topic5\", \"Topic5\", \"Topic5\", \"Topic5\", \"Topic5\", \"Topic5\", \"Topic5\", \"Topic5\", \"Topic5\", \"Topic5\", \"Topic5\", \"Topic5\", \"Topic5\", \"Topic5\", \"Topic5\", \"Topic5\", \"Topic5\", \"Topic5\", \"Topic5\", \"Topic5\", \"Topic5\", \"Topic5\", \"Topic6\", \"Topic6\", \"Topic6\", \"Topic6\", \"Topic6\", \"Topic6\", \"Topic6\", \"Topic6\", \"Topic6\", \"Topic6\", \"Topic6\", \"Topic6\", \"Topic6\", \"Topic6\", \"Topic6\", \"Topic6\", \"Topic6\", \"Topic6\", \"Topic6\", \"Topic6\", \"Topic6\", \"Topic6\", \"Topic6\", \"Topic6\", \"Topic6\", \"Topic6\", \"Topic6\", \"Topic6\", \"Topic6\", \"Topic6\", \"Topic6\", \"Topic6\", \"Topic6\", \"Topic6\", \"Topic6\", \"Topic6\", \"Topic6\", \"Topic6\", \"Topic6\", \"Topic6\", \"Topic7\", \"Topic7\", \"Topic7\", \"Topic7\", \"Topic7\", \"Topic7\", \"Topic7\", \"Topic7\", \"Topic7\", \"Topic7\", \"Topic7\", \"Topic7\", \"Topic7\", \"Topic7\", \"Topic7\", \"Topic7\", \"Topic7\", \"Topic7\", \"Topic7\", \"Topic7\", \"Topic7\", \"Topic7\", \"Topic7\", \"Topic7\", \"Topic7\", \"Topic7\", \"Topic7\", \"Topic7\", \"Topic7\", \"Topic7\", \"Topic7\", \"Topic7\", \"Topic7\", \"Topic7\", \"Topic7\", \"Topic7\", \"Topic7\", \"Topic7\", \"Topic7\", \"Topic7\", \"Topic7\", \"Topic7\", \"Topic8\", \"Topic8\", \"Topic8\", \"Topic8\", \"Topic8\", \"Topic8\", \"Topic8\", \"Topic8\", \"Topic8\", \"Topic8\", \"Topic8\", \"Topic8\", \"Topic8\", \"Topic8\", \"Topic8\", \"Topic8\", \"Topic8\", \"Topic8\", \"Topic8\", \"Topic8\", \"Topic8\", \"Topic8\", \"Topic8\", \"Topic8\", \"Topic8\", \"Topic8\", \"Topic8\", \"Topic8\", \"Topic8\", \"Topic8\", \"Topic8\", \"Topic8\", \"Topic8\", \"Topic8\", \"Topic8\", \"Topic8\", \"Topic8\", \"Topic8\", \"Topic8\", \"Topic8\", \"Topic8\", \"Topic8\", \"Topic9\", \"Topic9\", \"Topic9\", \"Topic9\", \"Topic9\", \"Topic9\", \"Topic9\", \"Topic9\", \"Topic9\", \"Topic9\", \"Topic9\", \"Topic9\", \"Topic9\", \"Topic9\", \"Topic9\", \"Topic9\", \"Topic9\", \"Topic9\", \"Topic9\", \"Topic9\", \"Topic9\", \"Topic9\", \"Topic9\", \"Topic9\", \"Topic9\", \"Topic9\", \"Topic9\", \"Topic9\", \"Topic9\", \"Topic9\", \"Topic9\", \"Topic9\", \"Topic9\", \"Topic9\", \"Topic9\", \"Topic9\", \"Topic9\", \"Topic9\", \"Topic9\", \"Topic9\", \"Topic9\", \"Topic9\", \"Topic9\", \"Topic10\", \"Topic10\", \"Topic10\", \"Topic10\", \"Topic10\", \"Topic10\", \"Topic10\", \"Topic10\", \"Topic10\", \"Topic10\", \"Topic10\", \"Topic10\", \"Topic10\", \"Topic10\", \"Topic10\", \"Topic10\", \"Topic10\", \"Topic10\", \"Topic10\", \"Topic10\", \"Topic10\", \"Topic10\", \"Topic10\", \"Topic10\", \"Topic10\", \"Topic10\", \"Topic10\", \"Topic10\", \"Topic10\", \"Topic10\", \"Topic10\", \"Topic10\", \"Topic10\", \"Topic10\", \"Topic10\", \"Topic10\", \"Topic10\", \"Topic10\", \"Topic10\", \"Topic10\", \"Topic10\", \"Topic10\", \"Topic10\"], \"logprob\": [30.0, 29.0, 28.0, 27.0, 26.0, 25.0, 24.0, 23.0, 22.0, 21.0, 20.0, 19.0, 18.0, 17.0, 16.0, 15.0, 14.0, 13.0, 12.0, 11.0, 10.0, 9.0, 8.0, 7.0, 6.0, 5.0, 4.0, 3.0, 2.0, 1.0, -2.1459, -2.4361, -3.1029, -4.4169, -3.5464, -4.9003, -5.3149, -5.3178, -5.4212, -5.6438, -5.658, -5.7778, -5.7859, -5.8617, -4.3232, -5.8793, -5.9498, -6.0842, -6.1697, -6.1801, -6.2577, -6.3376, -6.3832, -6.3851, -6.4039, -6.4304, -6.5436, -6.5841, -6.5957, -6.606, -3.7283, -3.2254, -3.5727, -4.7394, -3.9469, -4.7673, -4.1811, -4.5425, -4.694, -3.6522, -4.8649, -3.1038, -4.72, -4.7134, -4.2759, -5.2071, -4.7987, -4.3181, -4.1599, -4.1611, -2.7998, -4.4745, -4.9488, -4.8257, -4.5284, -4.8814, -3.8064, -3.8839, -4.016, -4.1119, -4.1688, -4.1906, -4.2133, -2.5586, -4.3022, -4.5444, -4.6897, -4.8015, -4.9385, -5.0408, -5.0695, -5.1078, -5.1777, -5.2169, -5.2269, -5.2486, -5.2792, -5.3748, -5.4233, -5.4567, -5.4892, -5.5358, -5.5661, -5.5916, -5.5948, -5.5971, -3.6071, -3.8022, -3.9525, -2.5312, -4.4627, -3.822, -4.4189, -4.3403, -4.1445, -4.7229, -2.9307, -3.7193, -4.4705, -4.5078, -4.678, -4.9312, -4.9998, -3.82, -3.913, -4.1151, -4.3712, -4.429, -4.4607, -4.6613, -4.6927, -4.7502, -4.7965, -4.879, -4.8914, -4.9372, -4.965, -4.9709, -5.0081, -5.1895, -5.2127, -5.2162, -5.2351, -5.2437, -5.2782, -5.2955, -5.3361, -5.3909, -5.495, -5.5919, -5.593, -5.6065, -5.6709, -2.2728, -3.8507, -3.5656, -4.6594, -4.811, -4.1024, -4.3589, -2.4627, -3.296, -3.9937, -4.5603, -3.859, -4.4916, -4.4045, -4.5352, -4.8215, -4.9381, -2.7046, -4.0698, -4.1497, -4.2356, -4.3597, -4.4613, -4.5134, -4.5916, -4.6673, -4.721, -4.7327, -4.7712, -4.8805, -4.9085, -4.924, -4.9964, -5.0448, -5.0629, -5.065, -5.1019, -5.1178, -5.1225, -5.2057, -5.2115, -5.2158, -5.221, -5.2257, -5.4541, -5.4826, -5.4985, -2.9682, -4.1385, -4.0801, -2.1228, -4.6175, -4.9075, -3.6498, -4.7974, -4.3948, -3.4898, -3.9892, -5.0084, -5.0574, -4.3004, -4.4116, -4.5759, -4.6795, -4.6579, -4.7031, -4.7165, -4.7229, -4.7686, -4.9901, -5.0252, -4.0376, -5.0496, -5.2061, -5.2506, -5.2529, -5.2805, -5.2818, -5.311, -5.3615, -5.3662, -5.3945, -5.4535, -5.4566, -5.463, -5.4659, -5.5148, -5.5315, -5.5569, -5.5839, -3.155, -4.0473, -4.4974, -3.5627, -4.9437, -4.8442, -4.9753, -3.3982, -4.7508, -4.0164, -2.6129, -4.811, -3.7878, -4.854, -4.4732, -4.0025, -4.3978, -4.5868, -4.4869, -4.7445, -4.8678, -2.5843, -3.492, -3.4769, -3.9021, -4.0656, -4.3042, -4.3049, -4.4361, -4.4613, -4.6275, -4.6671, -4.6824, -4.6863, -4.7449, -4.7577, -4.7937, -4.837, -4.903, -4.8901, -4.9136, -4.9868, -4.9946, -5.024, -5.1104, -5.1471, -5.1682, -5.3698, -5.3996, -5.4697, -5.4773, -4.4155, -2.3917, -3.2746, -3.685, -3.8274, -4.0299, -4.6648, -4.7131, -4.8753, -4.8961, -2.709, -2.9406, -3.2231, -3.7487, -4.1098, -4.3613, -4.6357, -4.6472, -4.7227, -4.7484, -4.7522, -4.8709, -4.9016, -5.0395, -5.1207, -5.1321, -5.1421, -5.1932, -5.2564, -5.3057, -5.3261, -5.3319, -5.3601, -5.3728, -5.3749, -5.4386, -5.4391, -5.4541, -5.4947, -5.4968, -4.8655, -3.5678, -4.3473, -4.0744, -4.4609, -4.0185, -4.9974, -2.6531, -3.5872, -5.0652, -5.112, -5.1565, -3.5179, -4.0415, -4.0625, -4.2289, -4.2368, -4.2571, -4.2598, -4.3333, -4.4709, -4.4866, -4.561, -4.6092, -4.6307, -4.8433, -4.8682, -4.9324, -4.9685, -4.9652, -4.9746, -5.0158, -5.0721, -5.0752, -5.1101, -5.1441, -5.1501, -5.1543, -5.1627, -5.2323, -4.7769, -5.2801, -4.6617, -3.4647, -2.8489, -3.8955, -4.8487, -4.8272, -2.6377, -4.0653, -3.501, -4.8251, -4.7236, -4.8238, -3.7921, -3.8931, -4.0925, -4.2509, -4.3667, -4.4116, -4.4754, -4.5041, -4.5127, -4.5745, -4.597, -4.6037, -4.6914, -4.8435, -4.8473, -4.8721, -4.8812, -4.8897, -4.9688, -5.0049, -5.0392, -5.0506, -5.1039, -5.1445, -5.1533, -5.1883, -5.1992, -5.2503, -5.2828, -5.0316, -2.4472, -3.9077, -4.8129, -4.6246, -4.763, -3.5007, -2.7691, -4.4316, -4.7302, -4.878, -4.3424, -4.7764, -4.7793, -3.12, -3.6374, -3.8447, -4.0015, -4.0754, -4.0894, -4.1087, -4.2346, -4.3687, -4.5426, -4.563, -4.6749, -4.7803, -4.8503, -4.9031, -4.9374, -4.946, -4.9863, -5.0023, -5.0517, -5.0805, -5.0865, -5.1306, -5.1532, -5.1573, -5.1602, -5.3297, -5.4863, -5.4941, -5.5164, -4.8955, -3.1744, -3.1501, -4.0986, -4.3161, -4.645, -2.7553, -4.421, -4.1511, -4.0266, -4.8856, -4.8594, -4.933], \"loglift\": [30.0, 29.0, 28.0, 27.0, 26.0, 25.0, 24.0, 23.0, 22.0, 21.0, 20.0, 19.0, 18.0, 17.0, 16.0, 15.0, 14.0, 13.0, 12.0, 11.0, 10.0, 9.0, 8.0, 7.0, 6.0, 5.0, 4.0, 3.0, 2.0, 1.0, 1.6022, 1.6022, 1.6021, 1.6019, 1.6017, 1.6017, 1.6014, 1.6014, 1.6013, 1.6011, 1.6011, 1.601, 1.601, 1.6009, 1.6008, 1.6008, 1.6007, 1.6005, 1.6004, 1.6004, 1.6002, 1.6, 1.5999, 1.5999, 1.5999, 1.5998, 1.5995, 1.5994, 1.5994, 1.5994, 1.5274, 1.4726, 1.3949, 1.4712, 1.3694, 1.4467, 1.3775, 1.3873, 1.4005, 1.2565, 1.4184, 1.106, 1.3114, 1.2458, 1.094, 1.362, 1.1821, 0.9628, 0.8835, 0.709, -0.2004, 0.2894, 0.8587, 0.5453, -0.7028, 0.5241, 2.1497, 2.1497, 2.1496, 2.1496, 2.1496, 2.1496, 2.1496, 2.1495, 2.1495, 2.1494, 2.1493, 2.1492, 2.1491, 2.149, 2.149, 2.1489, 2.1488, 2.1488, 2.1488, 2.1488, 2.1487, 2.1486, 2.1485, 2.1485, 2.1484, 2.1483, 2.1483, 2.1482, 2.1482, 2.1482, 2.1461, 2.1461, 2.0933, 1.9464, 1.8597, 1.549, 1.6874, 1.6119, 1.3852, 1.6218, -0.3313, 0.1063, 0.3996, -0.298, 0.0859, 0.1122, 1.0753, 2.2557, 2.2557, 2.2556, 2.2554, 2.2554, 2.2554, 2.2552, 2.2552, 2.2552, 2.2551, 2.2551, 2.255, 2.255, 2.255, 2.255, 2.2549, 2.2547, 2.2547, 2.2547, 2.2546, 2.2546, 2.2546, 2.2545, 2.2545, 2.2544, 2.2542, 2.254, 2.254, 2.254, 2.2539, 2.0803, 1.9218, 1.8399, 2.0168, 2.0522, 1.7085, 1.6836, 0.1366, 0.5296, 0.915, 1.4855, 0.6325, 1.1198, 0.8765, 0.2287, 0.4948, 0.4325, 2.2613, 2.261, 2.261, 2.2609, 2.2609, 2.2608, 2.2608, 2.2607, 2.2607, 2.2606, 2.2606, 2.2606, 2.2605, 2.2604, 2.2604, 2.2603, 2.2603, 2.2603, 2.2603, 2.2602, 2.2602, 2.2602, 2.2601, 2.2601, 2.2601, 2.2601, 2.2601, 2.2597, 2.2597, 2.2596, 1.8809, 1.9451, 1.8406, 0.4765, 1.9073, 2.0474, 0.8416, 1.89, 1.4214, 0.3359, 0.8479, 0.8025, -0.1873, 2.3187, 2.3186, 2.3185, 2.3184, 2.3184, 2.3184, 2.3184, 2.3184, 2.3183, 2.3181, 2.3181, 2.318, 2.318, 2.3178, 2.3178, 2.3178, 2.3177, 2.3177, 2.3177, 2.3176, 2.3176, 2.3175, 2.3174, 2.3174, 2.3174, 2.3174, 2.3173, 2.3173, 2.3172, 2.3172, 2.1205, 2.1395, 2.1896, 2.0051, 2.1353, 2.0837, 2.1208, 1.3657, 1.9392, 1.3818, -0.0136, 1.8115, 0.422, 1.6213, 0.8077, -0.1769, 0.4723, 0.8784, 0.2111, 0.2989, 0.5028, 2.4936, 2.4934, 2.4933, 2.4932, 2.4931, 2.493, 2.493, 2.4929, 2.4928, 2.4927, 2.4927, 2.4927, 2.4927, 2.4926, 2.4926, 2.4926, 2.4925, 2.4924, 2.4924, 2.4924, 2.4923, 2.4923, 2.4923, 2.4921, 2.4921, 2.492, 2.4917, 2.4916, 2.4915, 2.4914, 1.8192, 0.2077, 0.551, 0.6681, 0.6641, 0.8191, 1.0078, 0.0508, 0.941, 1.1875, 2.512, 2.5119, 2.5119, 2.5117, 2.5115, 2.5114, 2.5111, 2.5111, 2.5111, 2.511, 2.511, 2.5109, 2.5108, 2.5107, 2.5105, 2.5105, 2.5105, 2.5104, 2.5103, 2.5102, 2.5102, 2.5102, 2.5101, 2.5101, 2.5101, 2.5099, 2.5099, 2.5099, 2.5098, 2.5098, 2.4851, 2.0488, 2.1479, 2.0184, 2.0673, 1.5929, 2.2093, -0.0537, 0.6226, 1.7163, 0.6152, 0.3733, 2.5573, 2.557, 2.557, 2.5569, 2.5569, 2.5569, 2.5569, 2.5568, 2.5567, 2.5567, 2.5567, 2.5566, 2.5566, 2.5563, 2.5563, 2.5562, 2.5562, 2.5562, 2.5562, 2.5561, 2.556, 2.556, 2.556, 2.5559, 2.5559, 2.5559, 2.5559, 2.5557, 2.5557, 2.5556, 2.5545, 2.2079, 1.6426, 1.912, 2.3127, 2.2533, -0.0383, 1.3999, 0.3247, 1.9564, 0.244, 0.9924, 2.6682, 2.6682, 2.6681, 2.6679, 2.6678, 2.6678, 2.6677, 2.6677, 2.6677, 2.6676, 2.6676, 2.6676, 2.6675, 2.6673, 2.6673, 2.6673, 2.6673, 2.6672, 2.6671, 2.6671, 2.667, 2.667, 2.6669, 2.6668, 2.6668, 2.6667, 2.6667, 2.6666, 2.6665, 2.6664, 2.3898, 2.5202, 2.3917, 2.2291, 2.3335, 0.9769, -0.1697, 1.6747, 2.0909, 2.1809, -0.5168, 0.7534, 0.0908, 2.7451, 2.7449, 2.7448, 2.7447, 2.7446, 2.7446, 2.7446, 2.7445, 2.7444, 2.7442, 2.7442, 2.7441, 2.7439, 2.7438, 2.7437, 2.7437, 2.7437, 2.7436, 2.7436, 2.7435, 2.7434, 2.7434, 2.7433, 2.7433, 2.7433, 2.7433, 2.7429, 2.7425, 2.7424, 2.7424, 2.7398, 2.3123, 2.2481, 2.2846, 2.3507, 2.3671, -0.1559, 1.8272, 0.698, -0.201, 1.3491, 0.7519, 0.4369]}, \"token.table\": {\"Topic\": [3, 5, 5, 1, 2, 7, 9, 4, 5, 8, 1, 10, 3, 6, 7, 4, 3, 3, 10, 6, 6, 6, 7, 4, 5, 9, 6, 2, 7, 2, 2, 1, 2, 5, 4, 9, 9, 2, 5, 6, 6, 10, 5, 3, 8, 3, 5, 1, 5, 5, 1, 2, 6, 7, 9, 1, 3, 2, 4, 5, 1, 5, 7, 7, 7, 8, 6, 6, 2, 9, 2, 1, 4, 1, 5, 9, 10, 4, 1, 1, 5, 9, 5, 8, 7, 10, 10, 9, 1, 4, 7, 9, 10, 2, 5, 1, 1, 2, 5, 6, 7, 8, 9, 10, 1, 1, 3, 10, 2, 1, 8, 1, 5, 3, 5, 9, 1, 7, 9, 6, 3, 9, 2, 6, 6, 6, 1, 10, 6, 10, 3, 8, 5, 7, 2, 10, 1, 9, 8, 4, 1, 5, 7, 1, 1, 1, 2, 10, 8, 5, 1, 5, 8, 7, 1, 3, 3, 4, 6, 8, 5, 7, 5, 3, 4, 3, 1, 8, 2, 1, 2, 4, 3, 10, 9, 4, 1, 9, 2, 1, 2, 4, 5, 6, 7, 8, 10, 3, 5, 8, 9, 10, 6, 7, 4, 7, 9, 10, 1, 3, 6, 1, 2, 3, 4, 5, 6, 7, 8, 9, 10, 2, 9, 1, 7, 10, 8, 2, 9, 5, 10, 5, 3, 8, 10, 2, 8, 7, 8, 5, 7, 8, 7, 9, 4, 9, 10, 8, 4, 3, 3, 6, 4, 4, 10, 6, 8, 7, 8, 3, 4, 1, 1, 6, 1, 4, 10, 10, 6, 2, 5, 6, 1, 5, 8, 9, 10, 2, 6, 1, 2, 6, 2, 9, 8, 10, 1, 3, 6, 6, 3, 9, 9, 6, 7, 1, 2, 3, 4, 5, 7, 9, 2, 10, 1, 3, 1, 5, 5, 2, 10, 4, 1, 8, 3, 1, 7, 5, 5, 6, 8, 10, 9, 9, 9, 1, 2, 3, 4, 5, 7, 9, 7, 1, 5, 1, 5, 7, 1, 3, 6, 7, 7, 3, 2, 1, 6, 6, 8, 9, 5, 1, 5, 8, 10, 1, 7, 3, 6, 7, 8, 10, 5, 1, 2, 9, 4, 5, 10, 8, 2, 3, 4, 6, 8, 8, 4, 6, 10, 8, 9, 10, 9, 10, 3, 5, 4, 6, 1, 6, 3, 6, 4, 3, 4, 2, 5, 7, 2, 9, 9, 2, 9, 9, 4, 8, 9, 6, 1, 1, 6, 2, 8, 9, 4, 8, 3, 3, 9, 3, 1, 2, 3, 4, 5, 6, 7, 8, 9, 10, 7, 10, 7, 9, 8, 9, 4, 4, 7, 3, 8, 3, 1, 2, 7, 5, 5, 1, 1, 3, 7, 6, 1, 3, 5, 6, 8, 3, 1, 5, 8, 4, 4, 6, 10, 9, 2, 2, 4, 7, 1, 5, 9, 5, 8, 7, 10, 4, 9, 2, 9, 10, 4, 5, 9, 10, 8, 4, 3, 7, 2, 2, 7, 5, 10, 3, 1, 3, 4, 1, 5, 1, 1, 5, 5, 10, 7, 7, 1, 4, 8, 8, 5, 6, 10, 2, 4, 9, 10, 7, 2, 2, 3, 6, 2, 2, 1, 2, 5, 9, 10, 3, 1, 4, 6, 1, 1, 10, 2, 1, 2, 3, 4, 5, 6, 7, 8, 9, 10, 4, 8, 1, 2, 5, 6, 7, 10, 1, 2, 3, 5, 6, 1, 3, 5, 4, 8, 5, 10, 4, 10, 9, 4, 7, 9, 1, 2, 3, 6, 7, 9, 8, 3, 4, 6, 3, 4, 6, 7, 4, 7, 9, 1, 7], \"Freq\": [0.9989054998202339, 0.9980184613475672, 0.9981507108594433, 0.3476277800309782, 0.5481968649069301, 0.0003795063100774871, 0.10379497580619272, 0.9992091434286836, 0.7902992882121782, 0.20882623560959607, 0.9998224072703218, 0.9983627351887961, 0.9992369594453048, 0.9993169129419072, 0.999154897633542, 0.9978604190298759, 0.9996949770882423, 0.9997223441559623, 0.998061390003203, 0.9993935377720548, 0.9990448200802611, 0.026101112884180204, 0.973983633414935, 0.9972737780871301, 0.24098166101516494, 0.7585580363974896, 0.9985218356535426, 0.9959828609842639, 0.00371761502233692, 0.9994875202989852, 0.9992445390741679, 0.9279624783218122, 0.0718629834706214, 0.9985964894908232, 0.9986671706060931, 0.9978056665520485, 0.9985854046415866, 0.9992431841746188, 0.998319747065744, 0.9984516213371549, 0.9985452211904932, 0.9998248281068818, 0.9993635464461635, 0.9997300250237271, 0.9992001900489845, 0.9990948439023905, 0.9976261180180462, 0.9985448560913556, 0.9991055981831223, 0.9993213093434885, 0.21906027429808939, 0.4654752833562447, 0.050261545168901724, 0.1178699953076014, 0.147226296025721, 0.28377595627753516, 0.7158184711296467, 0.9993628602041355, 0.1789329885505968, 0.820109530856902, 0.9972511288441138, 0.9978235204317579, 0.9996598639096547, 0.997775005742002, 0.9969887862578555, 0.9995629773847853, 0.9997384206706297, 0.9986420101884274, 0.944810800249846, 0.05476624118167483, 0.9990879664045167, 0.9999735338636844, 0.9991297074251007, 0.7866192575663603, 0.09872040242839214, 0.08928851684606168, 0.025151694886214555, 0.9988534950702135, 0.9994121218685029, 0.8171095895296059, 0.1822752842129231, 0.9989866614332026, 0.9980722403247685, 0.9991469471141267, 0.9979068835556272, 0.9982232123864169, 0.998928422944172, 0.997458892147459, 0.35146904936359946, 0.019162218702363256, 0.6291999406826618, 0.9980881616882771, 0.9995406065666811, 0.0010157801897144679, 0.9990198165841792, 0.998249780855732, 0.4873326828108638, 0.13031089975273658, 0.1326354383632261, 0.0798547381485815, 0.057566515000946596, 0.0024612761758124433, 0.07192395935985252, 0.037876305594447046, 0.9974796320983841, 0.42153089612578093, 0.17883128926548283, 0.39917698496759557, 0.9990785147563439, 0.9999613498948201, 0.9988955130261553, 0.9995673385929273, 0.00045552210478182924, 0.9992858171693966, 0.9994292381964472, 0.9970423248706042, 0.9977361340992791, 0.9998492153820403, 0.9983766641223247, 0.999297298515194, 0.9993775895937954, 0.9986844061568724, 0.9990444726146935, 0.9966500071149295, 0.9982310385845999, 0.9992109557342457, 0.35127036257503536, 0.648433586220987, 0.003652233516039364, 0.9952336331207268, 0.9988576696503696, 0.9995999091019074, 0.8323841183116811, 0.16752384771052703, 0.314320217924517, 0.685433497031657, 0.9974982564758428, 0.9983695853551735, 0.9974455103951512, 0.9986595759882027, 0.26935850099659225, 0.730455900644275, 0.9991415903770977, 0.9981408571226027, 0.9969582975769332, 0.9994447064903859, 0.9975791596110948, 0.9968574500185479, 0.9992083604739753, 0.9976978036415332, 0.8065368922071646, 0.19309110294716983, 0.9978415731619011, 0.9989156006937504, 0.9986998395111266, 0.9984436285770681, 0.197243316708715, 0.24173133025778645, 0.16047180816461523, 0.40047086178863256, 0.9977874546554942, 0.9980303545066741, 0.9992534191403466, 0.9991472170985033, 0.9991082621653904, 0.9992436714679072, 0.47531003274117434, 0.5243383066557983, 0.9987208211043634, 0.41595092823698154, 0.5838919636997106, 0.9988585775672736, 0.9986543778633713, 0.9961781610548676, 0.9978173981032454, 0.9999263157439587, 0.4384672873077308, 0.5614322830102679, 0.9996998834707773, 0.2635998358123651, 0.006501948673686294, 0.057975709007036115, 0.19478754568251855, 0.06718680296142503, 0.15008664855092527, 0.12136970857547748, 0.138437323843904, 0.3157899902250927, 0.6840933720831222, 0.998687550008538, 0.9973616949319002, 0.9985245310272491, 0.9991579067907467, 0.9966753502969438, 0.1710452635394183, 0.6103738513975132, 0.21829749387793337, 0.9987672234686626, 0.9999015060717888, 0.8387979980603274, 0.16112271501077075, 0.14433396403453216, 0.02825986943645899, 0.16140368382836645, 0.12707458068743305, 0.1625416651479554, 0.11569476749154352, 0.05784738374577176, 0.10621158982830224, 0.06296829968392205, 0.03338078537460928, 0.999534720130399, 0.0003911690520028956, 0.16603356680266332, 0.20258183622463324, 0.6307187065962808, 0.998125132873394, 0.9997073907936181, 0.998698980375987, 0.3917081202791424, 0.6081322185916602, 0.9969358316481217, 0.9986878444574192, 0.9983563460341115, 0.997572190123908, 0.9990371153404336, 0.9982766483469289, 0.998867091096798, 0.9995698026671609, 0.9994633684954548, 0.9970671810189214, 0.999010587298475, 0.9985205789435041, 0.999126766669457, 0.99962195286695, 0.9981040917295971, 0.99768023130155, 0.9983959400925144, 0.9998024861397928, 0.9977371162112134, 0.7873925713831256, 0.2120710658925218, 0.9991751764951747, 0.9990583965339324, 0.99877306260136, 0.9989762600276206, 0.9984922111333514, 0.45099716049929744, 0.5481948244000081, 0.9989219047155021, 0.9995961461465812, 0.9988092813139493, 0.9983891830544904, 0.9966532697559561, 0.998994870163423, 0.9992196268606687, 0.9996485597598456, 0.9979537244660626, 0.9982369029735721, 0.9997194833682866, 0.9970624849624146, 0.9989053541372922, 0.35286398407384856, 0.6015932961559787, 0.044439637092007246, 0.9974552263021328, 0.9992054360918214, 0.9997352358036451, 0.9982418445838693, 0.4099555773984908, 0.5898135390512601, 0.99938196425655, 0.9960742951692475, 0.0036150100048018474, 0.9994464654109003, 0.9985068435999872, 0.707682208207389, 0.26158668587740197, 0.03059213868643897, 0.999370867279915, 0.9973342606031373, 0.997668066504028, 0.9995015486963224, 0.9998127931500795, 0.9980215175218218, 0.00767356142650988, 0.3414734834796897, 0.14311192060440928, 0.1097319283990913, 0.19260639180539801, 0.0640742379113575, 0.1415772083191073, 0.7478318519936942, 0.2515702419321757, 0.7477330836729119, 0.25193757141435047, 0.18004715739403504, 0.8196974512393186, 0.9990781932586303, 0.9980864491075879, 0.9994281183428908, 0.9975389371308069, 0.9995554518868139, 0.9995443460561843, 0.9989799479702519, 0.35851474536184214, 0.6409809083742026, 0.9986287374101023, 0.06849553469663577, 0.2262661483237182, 0.7049652784507683, 0.9987086687998143, 0.9978749395738987, 0.9973815428643478, 0.9973033517015684, 0.4093356110682985, 0.17373767087758402, 0.0922154944035886, 0.08635141682929556, 0.15775518493980495, 0.004599276528857286, 0.07588806272614523, 0.9980552305584616, 0.998611708259107, 0.9995820226912846, 0.6570291983369146, 0.18817148666503558, 0.1546567135298901, 0.7922269200232619, 0.17173898765130122, 0.03574901521193404, 0.9994881319621497, 0.9975552224624614, 0.9991045327261956, 0.9984983707242857, 0.9985355385888154, 0.0009896288786806892, 0.9977781361035865, 0.2844731672217466, 0.7149119670628912, 0.9976902243956361, 0.35714156413030423, 0.23663495346637206, 0.3141928412985222, 0.09173513614555392, 0.3048390035098919, 0.6949394907600984, 0.3209211716603668, 0.14356999784805885, 0.3988591704921702, 0.000241294114030351, 0.13633117442714832, 0.9993015053315357, 0.7988546729594461, 0.1771671968110634, 0.0240343096449117, 0.9984098694617326, 0.9986569826059665, 0.9976041162873476, 0.9982860320916074, 0.9997192169065907, 0.14748981968449323, 0.4318075443774922, 0.2117574720369732, 0.20909199336797632, 0.9984764617657031, 0.6834087473400547, 0.1873463188754285, 0.12902577009089006, 0.7381564650096812, 0.2610809087889356, 0.9989309959647823, 0.9987333928810492, 0.9983809425178714, 0.8159071228924999, 0.1839376967844519, 0.9984079912599937, 0.9986505437895076, 0.9978380884330555, 0.9990075343518415, 0.9987749762310979, 0.9979411691920675, 0.9985903506754389, 0.9989559217794243, 0.9994317056944402, 0.9991243980981, 0.9981655649100276, 0.9986015353256057, 0.8157242241149246, 0.18418827792485495, 0.999310024346913, 0.6297370509133857, 0.3700843133903304, 0.9987984973248512, 0.38379294427034616, 0.00102618434296884, 0.6136582370953663, 0.9988416771647487, 0.9982125192967802, 0.9987243862848509, 0.9984321706911123, 0.9986202795094561, 0.9967252100419749, 0.002401747494077048, 0.21600970572094869, 0.7821825133474353, 0.9974954310309281, 0.3552101408126902, 0.6443929848625509, 0.9986479136859552, 0.1648536670455902, 0.08362572611867677, 0.12010292361515566, 0.1678093527522688, 0.09702720870036395, 0.10168033639923141, 0.0768596985973644, 0.07458061564281707, 0.05852020294749134, 0.05494726560728954, 0.3258663564464565, 0.6739193584382037, 0.9991901064953355, 0.999208867744, 0.9978014006908134, 0.9991061372430868, 0.9993141585534805, 0.9993122445583748, 0.9985804098837688, 0.9991596632665307, 0.9994927046140137, 0.9976874947424977, 0.7001100834163599, 0.17630883506239226, 0.12334784778589845, 0.9972728417039175, 0.9990231527520494, 0.9991336997731054, 0.8320097473833473, 0.16772484969965265, 0.9975823841376813, 0.999662627476785, 0.18159490422157865, 0.5640954182261307, 0.11549287364603468, 0.1385171764307747, 0.9992124889957438, 0.9978565936237305, 0.8785027341427221, 0.12148990979053621, 0.9974560872575705, 0.9997292510027992, 0.7290195828724295, 0.2708671486256373, 0.9989764129103308, 0.9994837341355398, 0.998974645469036, 0.9988932111892005, 0.9994178588393571, 0.9994280691248548, 0.856052773299853, 0.14370401858689602, 0.9986501747990698, 0.99874480032887, 0.9992324467780238, 0.9997550222490822, 0.9991542046038346, 0.24329681021419935, 0.7565896690748833, 0.9997420212027007, 0.9983026454101042, 0.9973451158909765, 0.12098121712754226, 0.8787056822947806, 0.8620817998387672, 0.13758366913196285, 0.9989797689465747, 0.9985425786772766, 0.9993069775918217, 0.9985263717986962, 0.9996638682313673, 0.999247408096886, 0.9994479166687568, 0.9994103219706068, 0.9983559084045072, 0.9994530116069532, 0.3401832232049201, 0.65954691889268, 0.9988609477940311, 0.8773672872147766, 0.12257660146866432, 0.9992173152488656, 0.5020203378502276, 0.49744090489378306, 0.9990395793488074, 0.9980863475680938, 0.9977152704003438, 0.9971377698497405, 0.8127253090466999, 0.08821846773183144, 0.09886552418222488, 0.9976211340221097, 0.24258492489393627, 0.5094733487568383, 0.24753563764687372, 0.26826482582711597, 0.6565255602656257, 0.07528510430687445, 0.9982030677524476, 0.9998189142396119, 0.9987803125414447, 0.998934825564753, 0.9993382915451692, 0.9993475164184314, 0.9974667500710218, 0.998955059267471, 0.6015773730600021, 0.16167154984882853, 0.13551601188969803, 0.0017057959538563387, 0.09950476397495309, 0.9996800954384527, 0.9984171961405625, 0.8073643923330375, 0.1923617337975622, 0.9978043991363551, 0.9992441310216152, 0.9990033555552587, 0.9975732772489229, 0.09977410365707168, 0.12955258714920662, 0.17794262282392587, 0.14577700546489425, 0.08241680825200932, 0.1433089518058994, 0.020149028232449996, 0.1072187245301054, 0.0413500137621765, 0.0525169450717271, 0.0013491995946440898, 0.9984077000366265, 0.6088366312561466, 0.08644196901616835, 0.15001097715864267, 0.0026734629592629388, 0.1511397726303315, 0.000891154319754313, 0.2690322937332775, 0.12696835384491345, 0.13172449739284994, 0.38535102180781144, 0.08695471138727379, 0.5276744979694438, 0.2516121250587128, 0.220572448707569, 0.998015847347892, 0.9989689549573708, 0.8356834236670923, 0.16387631819344417, 0.9981434461692684, 0.9988438550101505, 0.9974833278898348, 0.6900748337910431, 0.15075480984358172, 0.1592480385671638, 0.31817981614174073, 0.0007451517942429525, 0.46273926422487355, 0.11512595221053616, 0.00037257589712147627, 0.10320352350264893, 0.9992272548232156, 0.5782694681920613, 0.2324272085601306, 0.1888286954208412, 0.2977340165147122, 0.7019304995407457, 0.9981390920648496, 0.9998610765762845, 0.9991728955483422, 0.9984872513112978, 0.9994406473569591, 0.2605324621626727, 0.73877013243388], \"Term\": [\"access\", \"accord\", \"across\", \"add\", \"add\", \"add\", \"add\", \"aggregate\", \"analysis\", \"analysis\", \"another\", \"anova\", \"api\", \"app\", \"appear\", \"append\", \"apply\", \"argument\", \"arrange\", \"array\", \"assign\", \"attribute\", \"attribute\", \"automatically\", \"average\", \"average\", \"avoid\", \"axis\", \"axis\", \"bar\", \"barplot\", \"base\", \"base\", \"best\", \"binary\", \"box\", \"boxplot\", \"break\", \"build\", \"button\", \"c\", \"calculate\", \"calculation\", \"call\", \"cannot\", \"caret\", \"case\", \"category\", \"cell\", \"certain\", \"change\", \"change\", \"change\", \"change\", \"change\", \"character\", \"character\", \"chart\", \"check\", \"check\", \"choose\", \"chunk\", \"class\", \"classification\", \"click\", \"cluster\", \"code\", \"coefficient\", \"color\", \"color\", \"colour\", \"column\", \"combination\", \"combine\", \"combine\", \"combine\", \"combine\", \"command\", \"compare\", \"condition\", \"condition\", \"conditional\", \"conditionally\", \"connect\", \"connection\", \"consecutive\", \"continuous\", \"control\", \"convert\", \"convert\", \"convert\", \"coordinate\", \"correlation\", \"count\", \"count\", \"counting\", \"create\", \"create\", \"create\", \"create\", \"create\", \"create\", \"create\", \"create\", \"criterion\", \"csv\", \"csv\", \"csv\", \"curve\", \"data\", \"database\", \"dataframe\", \"dataframe\", \"dataframes\", \"dataset\", \"datasets\", \"datatable\", \"date\", \"day\", \"default\", \"define\", \"delete\", \"density\", \"depend\", \"df\", \"difference\", \"different\", \"different\", \"dimension\", \"dimension\", \"directory\", \"display\", \"distance\", \"distance\", \"distribution\", \"distribution\", \"divide\", \"document\", \"double\", \"download\", \"dplyr\", \"dplyr\", \"draw\", \"drop\", \"dt\", \"duplicate\", \"dynamically\", \"e\", \"effect\", \"efficient\", \"element\", \"element\", \"encode\", \"end\", \"entry\", \"environment\", \"error\", \"error\", \"error\", \"error\", \"estimate\", \"event\", \"every\", \"excel\", \"export\", \"expression\", \"extract\", \"extract\", \"facet\", \"factor\", \"factor\", \"fail\", \"fails\", \"fast\", \"feature\", \"file\", \"fill\", \"fill\", \"filter\", \"find\", \"find\", \"find\", \"find\", \"find\", \"find\", \"find\", \"find\", \"first\", \"first\", \"fix\", \"follow\", \"foreach\", \"forecast\", \"forest\", \"format\", \"format\", \"format\", \"found\", \"frame\", \"function\", \"function\", \"get\", \"get\", \"get\", \"get\", \"get\", \"get\", \"get\", \"get\", \"get\", \"get\", \"ggplot\", \"ggplot\", \"give\", \"give\", \"give\", \"glm\", \"graph\", \"grid\", \"group\", \"group\", \"group_by\", \"handle\", \"heatmap\", \"high\", \"histogram\", \"ho\", \"hour\", \"html\", \"id\", \"identify\", \"ifelse\", \"igraph\", \"image\", \"import\", \"increase\", \"individual\", \"information\", \"input\", \"insert\", \"inside\", \"inside\", \"instal\", \"install\", \"installation\", \"instead\", \"integer\", \"interval\", \"interval\", \"invalid\", \"issue\", \"item\", \"iterate\", \"java\", \"join\", \"json\", \"keep\", \"key\", \"knitr\", \"label\", \"lag\", \"lapply\", \"large\", \"large\", \"large\", \"layer\", \"leaflet\", \"legend\", \"letter\", \"level\", \"level\", \"library\", \"line\", \"line\", \"linear\", \"link\", \"list\", \"list\", \"list\", \"load\", \"local\", \"log\", \"long\", \"loop\", \"low\", \"make\", \"make\", \"make\", \"make\", \"make\", \"make\", \"make\", \"map\", \"map\", \"match\", \"match\", \"matrix\", \"matrix\", \"max\", \"maximum\", \"mean\", \"memory\", \"merge\", \"message\", \"method\", \"miss\", \"miss\", \"mixed\", \"model\", \"model\", \"model\", \"modify\", \"month\", \"move\", \"multi\", \"multiple\", \"multiple\", \"multiple\", \"multiple\", \"multiple\", \"multiple\", \"multiple\", \"must\", \"mutate\", \"n\", \"na\", \"na\", \"na\", \"name\", \"name\", \"name\", \"need\", \"negative\", \"nest\", \"network\", \"new\", \"new\", \"next\", \"node\", \"node\", \"null\", \"number\", \"number\", \"number\", \"number\", \"numeric\", \"numeric\", \"object\", \"object\", \"object\", \"object\", \"object\", \"observation\", \"one\", \"one\", \"one\", \"open\", \"operation\", \"operator\", \"option\", \"order\", \"output\", \"output\", \"output\", \"output\", \"overlap\", \"package\", \"package\", \"package\", \"page\", \"page\", \"pair\", \"panel\", \"parallel\", \"parameter\", \"parameter\", \"parse\", \"part\", \"partial\", \"pas\", \"passing\", \"paste\", \"path\", \"pattern\", \"pdf\", \"percentage\", \"perform\", \"period\", \"plot\", \"plot\", \"plotly\", \"point\", \"point\", \"position\", \"possible\", \"possible\", \"possible\", \"predict\", \"prediction\", \"previous\", \"print\", \"probability\", \"produce\", \"produce\", \"program\", \"program\", \"purrr\", \"python\", \"python\", \"query\", \"r\", \"r\", \"r\", \"r\", \"r\", \"r\", \"r\", \"r\", \"r\", \"r\", \"random\", \"random\", \"range\", \"raster\", \"rcpp\", \"reactive\", \"read\", \"reading\", \"reference\", \"regex\", \"regression\", \"regular\", \"remove\", \"remove\", \"remove\", \"rename\", \"render\", \"repeat\", \"replace\", \"replace\", \"replacement\", \"result\", \"return\", \"return\", \"return\", \"return\", \"rmarkdown\", \"roll\", \"row\", \"row\", \"rselenium\", \"rstudio\", \"run\", \"run\", \"sample\", \"save\", \"scale\", \"scrap\", \"script\", \"second\", \"select\", \"select\", \"selection\", \"separate\", \"sequence\", \"series\", \"server\", \"shiny\", \"shiny\", \"show\", \"side\", \"similar\", \"single\", \"single\", \"size\", \"size\", \"sort\", \"source\", \"space\", \"spatial\", \"specific\", \"stack\", \"start\", \"statement\", \"stop\", \"store\", \"string\", \"string\", \"studio\", \"subset\", \"subset\", \"subsetting\", \"sum\", \"sum\", \"summary\", \"survival\", \"symbol\", \"tab\", \"table\", \"table\", \"table\", \"term\", \"test\", \"test\", \"test\", \"text\", \"text\", \"text\", \"tidyr\", \"time\", \"title\", \"top\", \"transform\", \"tree\", \"trouble\", \"true\", \"two\", \"two\", \"two\", \"two\", \"two\", \"type\", \"ui\", \"unable\", \"unable\", \"unexpected\", \"unique\", \"update\", \"url\", \"use\", \"use\", \"use\", \"use\", \"use\", \"use\", \"use\", \"use\", \"use\", \"use\", \"v\", \"v\", \"value\", \"value\", \"value\", \"value\", \"value\", \"value\", \"variable\", \"variable\", \"variable\", \"variable\", \"variable\", \"vector\", \"vector\", \"vector\", \"version\", \"warn\", \"way\", \"way\", \"web\", \"weight\", \"width\", \"window\", \"window\", \"window\", \"within\", \"within\", \"within\", \"within\", \"within\", \"within\", \"word\", \"work\", \"work\", \"work\", \"write\", \"write\", \"wrong\", \"x\", \"xml\", \"xt\", \"year\", \"zero\", \"zero\"]}, \"R\": 30, \"lambda.step\": 0.01, \"plot.opts\": {\"xlab\": \"PC1\", \"ylab\": \"PC2\"}, \"topic.order\": [2, 4, 8, 6, 9, 10, 1, 7, 3, 5]};\n",
              "\n",
              "function LDAvis_load_lib(url, callback){\n",
              "  var s = document.createElement('script');\n",
              "  s.src = url;\n",
              "  s.async = true;\n",
              "  s.onreadystatechange = s.onload = callback;\n",
              "  s.onerror = function(){console.warn(\"failed to load library \" + url);};\n",
              "  document.getElementsByTagName(\"head\")[0].appendChild(s);\n",
              "}\n",
              "\n",
              "if(typeof(LDAvis) !== \"undefined\"){\n",
              "   // already loaded: just create the visualization\n",
              "   !function(LDAvis){\n",
              "       new LDAvis(\"#\" + \"ldavis_el19201406269530780969466278014\", ldavis_el19201406269530780969466278014_data);\n",
              "   }(LDAvis);\n",
              "}else if(typeof define === \"function\" && define.amd){\n",
              "   // require.js is available: use it to load d3/LDAvis\n",
              "   require.config({paths: {d3: \"https://d3js.org/d3.v5\"}});\n",
              "   require([\"d3\"], function(d3){\n",
              "      window.d3 = d3;\n",
              "      LDAvis_load_lib(\"https://cdn.jsdelivr.net/gh/bmabey/pyLDAvis@3.3.1/pyLDAvis/js/ldavis.v3.0.0.js\", function(){\n",
              "        new LDAvis(\"#\" + \"ldavis_el19201406269530780969466278014\", ldavis_el19201406269530780969466278014_data);\n",
              "      });\n",
              "    });\n",
              "}else{\n",
              "    // require.js not available: dynamically load d3 & LDAvis\n",
              "    LDAvis_load_lib(\"https://d3js.org/d3.v5.js\", function(){\n",
              "         LDAvis_load_lib(\"https://cdn.jsdelivr.net/gh/bmabey/pyLDAvis@3.3.1/pyLDAvis/js/ldavis.v3.0.0.js\", function(){\n",
              "                 new LDAvis(\"#\" + \"ldavis_el19201406269530780969466278014\", ldavis_el19201406269530780969466278014_data);\n",
              "            })\n",
              "         });\n",
              "}\n",
              "</script>"
            ]
          },
          "metadata": {},
          "execution_count": 34
        }
      ]
    },
    {
      "cell_type": "markdown",
      "source": [
        "> As we can see from the LDA virtualization, These results have a lot of overlap"
      ],
      "metadata": {
        "id": "JS_dDVFZja_8"
      }
    },
    {
      "cell_type": "markdown",
      "source": [
        "> ### 11 Topics"
      ],
      "metadata": {
        "id": "lR1ZL_5O2QS0"
      }
    },
    {
      "cell_type": "code",
      "execution_count": 35,
      "metadata": {
        "colab": {
          "base_uri": "https://localhost:8080/"
        },
        "id": "rRRaa3JphNuc",
        "outputId": "97ffc4f3-bf0d-4589-ec4f-052f7d1397bd"
      },
      "outputs": [
        {
          "output_type": "stream",
          "name": "stdout",
          "text": [
            "CPU times: user 1min 2s, sys: 1.3 s, total: 1min 3s\n",
            "Wall time: 1min 2s\n"
          ]
        }
      ],
      "source": [
        "# TODO code for task 3, hint, popularity of each topic is the ratio of documents discussing one topic, you need to read the topic assignment for each document and then calculate this value.\n",
        "%%time\n",
        "%%capture\n",
        "# Set training parameters.\n",
        "num_topics = 11\n",
        "passes = 2\n",
        "iterations = 500\n",
        "\n",
        "# Make an index to word dictionary.\n",
        "temp = dictionary[0]  # This is only to \"load\" the dictionary. \n",
        "id2word = dictionary.id2token\n",
        "\n",
        "model_2 = LdaModel(\n",
        "    corpus=corpus,\n",
        "    id2word=id2word,\n",
        "    # iterations=iterations,\n",
        "    num_topics=num_topics,\n",
        "    passes=passes,\n",
        ")"
      ]
    },
    {
      "cell_type": "code",
      "source": [
        "# feed the LDA model into the pyLDAvis instance\n",
        "lda_viz = gensimvis.prepare(model_2, corpus, dictionary)\n",
        "lda_viz"
      ],
      "metadata": {
        "colab": {
          "base_uri": "https://localhost:8080/",
          "height": 897
        },
        "id": "-sAq8nMZhNuc",
        "outputId": "bb26ef42-5334-484a-ae9e-885c26ef7165"
      },
      "execution_count": 36,
      "outputs": [
        {
          "output_type": "stream",
          "name": "stderr",
          "text": [
            "/usr/local/lib/python3.7/dist-packages/pyLDAvis/_prepare.py:247: FutureWarning: In a future version of pandas all arguments of DataFrame.drop except for the argument 'labels' will be keyword-only\n",
            "  by='saliency', ascending=False).head(R).drop('saliency', 1)\n"
          ]
        },
        {
          "output_type": "execute_result",
          "data": {
            "text/plain": [
              "PreparedData(topic_coordinates=              x         y  topics  cluster       Freq\n",
              "topic                                                \n",
              "3      0.234779  0.097884       1        1  13.549210\n",
              "6      0.155337  0.099109       2        1  10.892923\n",
              "1     -0.038745  0.007765       3        1   9.923720\n",
              "8      0.100309 -0.251832       4        1   9.907727\n",
              "4      0.070085  0.169976       5        1   9.355457\n",
              "9      0.038703  0.030395       6        1   8.427709\n",
              "0     -0.223807  0.013730       7        1   8.321631\n",
              "7     -0.268733  0.078057       8        1   8.144208\n",
              "5     -0.054183  0.118963       9        1   7.455597\n",
              "10    -0.099203 -0.193339      10        1   7.117234\n",
              "2      0.085458 -0.170708      11        1   6.904584, topic_info=         Term          Freq         Total Category  logprob  loglift\n",
              "19       data  28592.000000  28592.000000  Default  30.0000  30.0000\n",
              "12   function  14585.000000  14585.000000  Default  29.0000  29.0000\n",
              "73     column  20398.000000  20398.000000  Default  28.0000  28.0000\n",
              "71       plot  13042.000000  13042.000000  Default  27.0000  27.0000\n",
              "2       value  16751.000000  16751.000000  Default  26.0000  26.0000\n",
              "..        ...           ...           ...      ...      ...      ...\n",
              "2       value   2156.757560  16751.840750  Topic11  -3.5915   0.6231\n",
              "714     order    889.985415   2069.486745  Topic11  -4.4767   1.8291\n",
              "204    number    662.825900   4809.632076  Topic11  -4.7713   0.6911\n",
              "99        use    683.341687  24666.909054  Topic11  -4.7409  -0.9132\n",
              "713       bar    594.063262   2208.895443  Topic11  -4.8809   1.3597\n",
              "\n",
              "[502 rows x 6 columns], token_table=      Topic      Freq    Term\n",
              "term                         \n",
              "0         5  0.293424  access\n",
              "0         6  0.705384  access\n",
              "1306      3  0.998691  accord\n",
              "530       7  0.999350  across\n",
              "147       1  0.335330     add\n",
              "...     ...       ...     ...\n",
              "1115     11  0.998383   wrong\n",
              "59        4  0.999640       x\n",
              "441       2  0.998712     xml\n",
              "1320      7  0.998530      xt\n",
              "804       5  0.999136    year\n",
              "\n",
              "[607 rows x 3 columns], R=30, lambda_step=0.01, plot_opts={'xlab': 'PC1', 'ylab': 'PC2'}, topic_order=[4, 7, 2, 9, 5, 10, 1, 8, 6, 11, 3])"
            ],
            "text/html": [
              "\n",
              "<link rel=\"stylesheet\" type=\"text/css\" href=\"https://cdn.jsdelivr.net/gh/bmabey/pyLDAvis@3.3.1/pyLDAvis/js/ldavis.v1.0.0.css\">\n",
              "\n",
              "\n",
              "<div id=\"ldavis_el19201406269738518566687922197\"></div>\n",
              "<script type=\"text/javascript\">\n",
              "\n",
              "var ldavis_el19201406269738518566687922197_data = {\"mdsDat\": {\"x\": [0.23477930513983059, 0.15533667905640614, -0.038745488267059376, 0.10030913874502882, 0.0700845273336441, 0.038703129700476964, -0.22380676899497767, -0.2687327003829077, -0.05418308983407456, -0.09920309849650061, 0.08545836600013318], \"y\": [0.09788441972729138, 0.09910915549563468, 0.007765379265960916, -0.25183207019575915, 0.1699762611305931, 0.03039460010703336, 0.013730032709826864, 0.07805658377489033, 0.11896272064717703, -0.19333867947577887, -0.17070840318686928], \"topics\": [1, 2, 3, 4, 5, 6, 7, 8, 9, 10, 11], \"cluster\": [1, 1, 1, 1, 1, 1, 1, 1, 1, 1, 1], \"Freq\": [13.54921044120527, 10.89292282375108, 9.923720486320564, 9.907726833251104, 9.355456815482391, 8.427708823196859, 8.321630886686645, 8.144207622545046, 7.455596557899794, 7.11723427969484, 6.904584429966408]}, \"tinfo\": {\"Term\": [\"data\", \"function\", \"column\", \"plot\", \"value\", \"frame\", \"error\", \"package\", \"ggplot\", \"shiny\", \"list\", \"dataframe\", \"row\", \"loop\", \"table\", \"vector\", \"time\", \"string\", \"change\", \"base\", \"file\", \"date\", \"output\", \"matrix\", \"character\", \"add\", \"name\", \"line\", \"dplyr\", \"x\", \"base\", \"new\", \"another\", \"condition\", \"sum\", \"index\", \"class\", \"conditional\", \"unique\", \"duplicate\", \"certain\", \"range\", \"correlation\", \"array\", \"contain\", \"exist\", \"df\", \"effect\", \"keep\", \"feature\", \"append\", \"entry\", \"equal\", \"negative\", \"continuous\", \"identify\", \"correspond\", \"language\", \"hour\", \"blank\", \"field\", \"value\", \"one\", \"column\", \"row\", \"matrix\", \"na\", \"group\", \"name\", \"subset\", \"select\", \"replace\", \"variable\", \"two\", \"calculate\", \"r\", \"create\", \"multiple\", \"add\", \"find\", \"number\", \"data\", \"frame\", \"specific\", \"combine\", \"type\", \"cannot\", \"aggregate\", \"sort\", \"scrap\", \"categorical\", \"reference\", \"xml\", \"web\", \"perform\", \"link\", \"dynamically\", \"operation\", \"dt\", \"structure\", \"sub\", \"incorrect\", \"wise\", \"java\", \"interactive\", \"together\", \"summarise\", \"record\", \"ignore\", \"dummy\", \"tidyr\", \"table\", \"single\", \"frequency\", \"several\", \"repeat\", \"column\", \"r\", \"set\", \"use\", \"row\", \"list\", \"merge\", \"two\", \"multiple\", \"create\", \"variable\", \"dplyr\", \"convert\", \"different\", \"function\", \"loop\", \"apply\", \"regression\", \"argument\", \"level\", \"inside\", \"nest\", \"linear\", \"define\", \"fit\", \"lapply\", \"mutate\", \"curve\", \"pas\", \"weight\", \"render\", \"prediction\", \"passing\", \"accord\", \"avoid\", \"pair\", \"glm\", \"lm\", \"density\", \"square\", \"simple\", \"factor\", \"logistic\", \"unexpected\", \"model\", \"result\", \"call\", \"work\", \"variable\", \"use\", \"r\", \"within\", \"multiple\", \"different\", \"create\", \"test\", \"line\", \"x\", \"axis\", \"label\", \"color\", \"point\", \"graph\", \"map\", \"legend\", \"plot\", \"plotly\", \"node\", \"igraph\", \"delete\", \"facet\", \"title\", \"draw\", \"api\", \"modify\", \"break\", \"operator\", \"symbol\", \"key\", \"probability\", \"top\", \"individual\", \"letter\", \"adjust\", \"regular\", \"retrieve\", \"ggplot\", \"add\", \"show\", \"bar\", \"size\", \"space\", \"distribution\", \"r\", \"use\", \"multiple\", \"different\", \"two\", \"create\", \"group\", \"vector\", \"string\", \"character\", \"element\", \"return\", \"length\", \"word\", \"n\", \"combination\", \"pattern\", \"year\", \"fix\", \"day\", \"expression\", \"last\", \"studio\", \"coordinate\", \"month\", \"end\", \"efficient\", \"width\", \"follow\", \"expect\", \"click\", \"console\", \"latex\", \"expand\", \"embed\", \"left\", \"gsub\", \"list\", \"match\", \"object\", \"extract\", \"remove\", \"r\", \"find\", \"instead\", \"number\", \"name\", \"way\", \"first\", \"convert\", \"use\", \"get\", \"variable\", \"dataframe\", \"time\", \"format\", \"date\", \"series\", \"dataframes\", \"id\", \"import\", \"parameter\", \"sample\", \"excel\", \"predict\", \"compare\", \"download\", \"long\", \"cell\", \"sql\", \"regex\", \"many\", \"json\", \"like\", \"information\", \"previous\", \"transform\", \"coefficient\", \"formula\", \"estimate\", \"appear\", \"mixed\", \"rename\", \"average\", \"convert\", \"store\", \"r\", \"difference\", \"merge\", \"use\", \"file\", \"two\", \"access\", \"split\", \"multiple\", \"package\", \"non\", \"load\", \"interval\", \"install\", \"analysis\", \"library\", \"instal\", \"observation\", \"include\", \"program\", \"reading\", \"part\", \"need\", \"join\", \"across\", \"rvest\", \"path\", \"source\", \"search\", \"problem\", \"integer\", \"log\", \"url\", \"datatable\", \"maximum\", \"handle\", \"xt\", \"confidence\", \"scatter\", \"memory\", \"c\", \"method\", \"r\", \"error\", \"update\", \"use\", \"file\", \"write\", \"object\", \"input\", \"rstudio\", \"mean\", \"script\", \"cluster\", \"python\", \"try\", \"message\", \"caret\", \"command\", \"found\", \"fail\", \"parallel\", \"directory\", \"ho\", \"boxplot\", \"warn\", \"invalid\", \"summary\", \"forecast\", \"p\", \"double\", \"item\", \"installation\", \"execute\", \"area\", \"foreach\", \"selection\", \"replacement\", \"group_by\", \"run\", \"error\", \"dplyr\", \"issue\", \"code\", \"r\", \"get\", \"use\", \"work\", \"object\", \"model\", \"shiny\", \"count\", \"filter\", \"app\", \"random\", \"assign\", \"leaflet\", \"unable\", \"custom\", \"every\", \"connect\", \"statement\", \"distance\", \"reactive\", \"dynamic\", \"sequence\", \"binary\", \"attribute\", \"max\", \"dimension\", \"rcpp\", \"equivalent\", \"rselenium\", \"fails\", \"build\", \"sparklyr\", \"twitter\", \"form\", \"event\", \"counting\", \"server\", \"window\", \"user\", \"number\", \"r\", \"use\", \"generate\", \"matrix\", \"start\", \"find\", \"output\", \"make\", \"rmarkdown\", \"save\", \"display\", \"html\", \"pdf\", \"markdown\", \"possible\", \"page\", \"produce\", \"document\", \"barplot\", \"grid\", \"knitr\", \"tree\", \"print\", \"heatmap\", \"header\", \"insert\", \"box\", \"null\", \"limit\", \"paste\", \"chunk\", \"option\", \"trouble\", \"font\", \"put\", \"local\", \"text\", \"test\", \"r\", \"use\", \"table\", \"file\", \"code\", \"result\", \"change\", \"read\", \"miss\", \"dataset\", \"chart\", \"fill\", \"scale\", \"image\", \"stack\", \"raster\", \"histogram\", \"default\", \"per\", \"colour\", \"button\", \"true\", \"open\", \"must\", \"wrong\", \"percentage\", \"connection\", \"ifelse\", \"overlap\", \"roll\", \"side\", \"automatically\", \"encode\", \"similar\", \"increase\", \"folder\", \"csv\", \"file\", \"large\", \"r\", \"value\", \"order\", \"number\", \"use\", \"bar\"], \"Freq\": [28592.0, 14585.0, 20398.0, 13042.0, 16751.0, 10981.0, 12206.0, 9134.0, 10345.0, 8571.0, 8964.0, 6651.0, 10477.0, 6955.0, 8398.0, 6136.0, 5599.0, 5410.0, 4749.0, 5957.0, 8364.0, 4442.0, 3493.0, 5610.0, 3742.0, 5335.0, 5689.0, 3635.0, 4145.0, 3509.0, 5956.237989447731, 3062.374250832884, 2785.6865980262482, 2560.4695307035163, 1723.1277649279075, 1600.8199715827243, 1380.2175262319627, 1279.8178159050935, 1134.8082337167107, 1131.5470882933041, 1105.3977068213028, 1073.1866098775347, 970.5754225712893, 882.3059373899143, 821.251879727193, 682.1463875250795, 615.9540537139765, 568.2681963119749, 1137.0970930805279, 496.5667302022878, 490.6265236687516, 477.7130343140171, 442.30133186221167, 438.4945762623722, 416.54136543945356, 406.59454649154895, 403.0168985336289, 394.77896441476844, 390.289820625332, 374.8983427795583, 394.08409634893763, 14594.26277981615, 3916.0409820447626, 16722.663404400428, 8725.837919731755, 4815.844778683176, 2361.1114821163437, 3649.415041717089, 4183.388109031126, 1819.3013385991496, 1622.5684266139103, 1518.019962015855, 3437.416773729848, 2271.9149101978996, 1589.8963251876037, 8952.101723263988, 2316.9121230891105, 2223.4404962609196, 1789.1845722893656, 1219.8835142434748, 1227.990356023444, 28591.251851526566, 10980.732679735944, 2777.0369752703577, 1684.5469202736613, 1560.645456404088, 1285.6045835551438, 1174.6031495863454, 948.6707057727518, 873.2439963551079, 858.4722086838312, 854.2199595692756, 789.1377103028979, 748.6054782722256, 623.5524067235535, 595.7317293841055, 576.1366897593331, 531.3081659019284, 468.30245001886954, 465.95159838516463, 410.51453059447266, 407.2285475366895, 405.4158391988319, 402.628240252209, 397.6584284118482, 371.06539855156933, 363.26966600523065, 358.29442069711433, 355.797267913104, 355.58461520946696, 343.9202536212147, 7040.067699769237, 1198.4070280806425, 760.6662817670825, 641.4493870549599, 623.1815509878609, 3674.8590474036546, 7556.767139529567, 1094.1253850485678, 2678.9928382275666, 1750.8658153017873, 1605.6590631472593, 772.4827229554753, 1141.451291678036, 1366.3301602201825, 1214.409711812339, 1237.6922073901617, 949.7770058053816, 908.9522864681251, 792.1443441216326, 14584.95054948982, 6954.796354587365, 2611.8377313009455, 2596.6228805672463, 2379.99857275685, 1999.7794193977466, 1426.6007334309243, 1420.6949634875866, 1148.8511357519833, 983.7096831099249, 892.4555693444016, 866.4187118338457, 834.4899653959967, 818.354305677199, 791.4351917393141, 728.7464280333938, 703.291263666903, 614.5104850545961, 607.7000395334873, 573.8698558034669, 556.1814603917811, 535.7149760482054, 528.3144563922119, 518.0618331791541, 513.3816783807813, 459.02765290126433, 457.6555799417289, 2957.3084586233686, 415.12726346149157, 390.2190635083575, 2928.6217937216534, 2150.1406804424814, 1539.7277665619185, 2282.263229265846, 3166.672314086842, 4971.1603997061175, 9521.559022013398, 1177.0199601834393, 1705.179315864298, 921.678617658564, 977.735922378564, 698.8150288514069, 3634.2281987560905, 3508.3555165957328, 2989.410464266088, 2966.6611592576023, 2713.79015921629, 2562.6305234827623, 2405.532484694726, 2032.2805911146572, 2020.2458487541899, 13035.819721378213, 1809.9565539745975, 957.6323405368378, 783.1215685426117, 736.3911603578765, 716.6846384348538, 680.2083198206486, 675.2295102356268, 662.7593972482325, 654.4417525514375, 618.186910766666, 520.8773657583912, 514.8585825653134, 503.3098341070718, 496.0961742672646, 494.9277074903968, 479.2958885580044, 439.8623966741056, 436.85739800641494, 420.5805768365209, 418.4310749136448, 10091.908076316184, 3545.0584371230275, 1426.4664167459155, 1614.0450015347603, 1076.7855150560467, 655.9580451588987, 694.8445128076439, 5468.83870617553, 2770.075083052468, 1500.2660524936898, 1139.3205307078729, 751.7573116884927, 725.9224971318174, 688.7468137856132, 6135.648802200104, 5410.0735124164175, 3741.807094722445, 3234.1296513435377, 2834.192563940437, 1841.075432667779, 1580.0857499551387, 1091.5759042771635, 960.2815735280847, 950.2591665993923, 908.907738207429, 895.2192353850734, 847.0631103072935, 835.2008407599845, 812.1552997598959, 693.6373922109209, 647.2919945607927, 618.1025331296438, 532.1854228204135, 522.5667111224687, 498.89165247081195, 474.8492928862744, 386.71282175068484, 385.6795594866895, 383.9028807271237, 383.67972491700164, 357.0418395617355, 346.82494288793015, 334.63603822089266, 333.1465139282133, 7357.272939923266, 2213.3919639823707, 2378.6459770304864, 1840.376780664768, 1353.9792857134541, 8535.521395444213, 1372.0803378983392, 531.2397636560324, 1455.2171608826095, 1504.9914248375924, 921.3614027496534, 753.9855083107134, 983.2918560089373, 1433.9898533254718, 997.435756680584, 707.2549335596883, 6650.881782931896, 5598.204361747568, 2411.1865984374485, 4440.292223864432, 1979.3682046670176, 1346.3340787247187, 1302.0818847859362, 1292.5166129257018, 1157.9817119083127, 1121.6301734473607, 1067.6143060164486, 1041.4284935025746, 1019.8288726124389, 998.8423394556621, 972.3066105210509, 953.8185144166878, 849.0644990708513, 808.3391388046964, 799.4086631971852, 797.4484906617968, 659.4130908969104, 658.2746392010666, 656.4569955510127, 620.6560438609056, 593.2005053875728, 592.6746965783796, 529.6843582005067, 466.8500275632295, 455.02471200155156, 453.71432705295547, 812.633422018458, 2139.8847335591777, 793.5788581157644, 9331.710256270977, 832.0083645204587, 988.1839902638291, 2086.271096521897, 1417.3293001641734, 1142.9794346100734, 726.3472622517576, 752.4462851728451, 805.1863322443951, 9133.598850034257, 1672.2187808973372, 1620.5520290979405, 1275.8877740286164, 1252.302554729689, 1122.4084570552297, 1118.7591887501212, 1100.362097479475, 1019.2810483876781, 982.0248653163774, 902.1999762509344, 898.1953567110119, 821.5269880950359, 760.1997779798091, 747.9470565646257, 738.6003088197524, 712.322414440905, 667.3546703266361, 664.243963392362, 651.235692336878, 627.5150969556645, 620.0327791876646, 557.9202384510244, 551.2512752955148, 550.5618763300757, 510.46363010103005, 501.4148678662899, 525.8503824932177, 450.86604490215217, 447.1699528125798, 510.0489804524958, 694.8265272845574, 686.8364833208577, 10667.267721843982, 2990.597338411992, 812.5514044953019, 2540.3241897975427, 1488.0298257273898, 732.4886629037135, 746.1281326296888, 1935.5545848910917, 1786.9560934215338, 1693.7515641346113, 1308.50313857949, 1198.8532849607304, 1122.4213065117435, 944.2721809105419, 941.1259573781817, 840.9795146505363, 836.6857629581934, 815.186310890941, 730.0687298866276, 671.1917742755763, 609.9077349831706, 593.2142395242046, 577.8403971503943, 572.1708067392289, 539.0756200151217, 524.0869093107985, 503.96613318640993, 503.2132800858713, 480.06071513212225, 463.6173682594655, 457.64501165249726, 446.71344535076855, 440.9143313632927, 411.7281515562289, 410.8710949545365, 400.8726744446991, 408.27825907496197, 2198.060915453534, 9214.512702519254, 3195.0702131732355, 1005.2496280535134, 1543.0715819365612, 7464.392546755573, 1540.0274984696885, 3199.6506964467235, 1056.4214569567278, 940.4212940981024, 862.9163291025818, 8570.132398689395, 1842.193557098804, 1832.9100687011044, 1771.5283832611356, 1286.999551044416, 1184.188242409837, 1069.9888994151497, 1041.9210455407926, 1025.5581003316654, 968.70710354049, 937.6962382361475, 886.1336421989341, 885.7205879631466, 848.2639357506396, 813.4627783668734, 829.4158176194493, 683.6149134287303, 647.4448448795806, 547.2651828585282, 489.186553932693, 480.9380229803987, 446.09145166865056, 424.0696712999338, 422.46896807578617, 420.16427026093714, 458.16829017214536, 408.943015993366, 398.08617504738316, 397.5158642637483, 396.6670488281825, 1082.843008708568, 866.5795224490294, 716.2327391622025, 1462.98237861659, 5961.011723097534, 1901.8392813679407, 620.206995472353, 794.032936939817, 482.6332532886128, 498.973845715163, 3492.833905216634, 2655.8324449354322, 1583.0530914560154, 1642.4880082712248, 1302.3003069289166, 1272.5805193372469, 1092.1169158030955, 1034.039237083145, 1007.6933101773429, 977.2859624766321, 853.2498483197509, 812.5496859651628, 810.6408820562801, 807.1477070383004, 785.755128154423, 752.4358495624444, 713.5481680853992, 710.0697195215089, 651.3901345581396, 614.7275376455348, 611.5847545594218, 574.5938929635691, 561.0593424682946, 540.2763335947604, 529.8638289339219, 515.9221220370636, 499.7127290478635, 496.7734865950575, 488.86049697601396, 450.3928199803958, 1899.0504881773409, 1040.1820468126677, 5629.315105658815, 2089.6346970144873, 1356.8948787168465, 1199.8801479212584, 691.7505365790938, 664.4700057834042, 4748.942936004927, 1858.3180388104681, 1710.7510608035657, 1584.6436498804235, 1473.8081675445899, 1331.8610143471635, 1274.588803882195, 1188.7795457971424, 1139.6796976903277, 1012.3623844064527, 993.764481680929, 908.9525784968889, 807.8081232391243, 782.3778693006786, 729.0631525867568, 728.8523544888449, 700.2985421514305, 680.5214237868962, 665.2001486185759, 612.0254537394012, 592.8278479189361, 584.6074874461641, 582.794310376798, 578.3511864987325, 559.3262208217337, 525.581104427825, 498.04957539719294, 490.2319690357668, 460.5469756189975, 458.7706080376831, 2273.919317496992, 4258.57349628705, 972.5164415958338, 5183.307723668169, 2156.7575597413907, 889.9854146496425, 662.825900194204, 683.3416865823341, 594.0632618060414], \"Total\": [28592.0, 14585.0, 20398.0, 13042.0, 16751.0, 10981.0, 12206.0, 9134.0, 10345.0, 8571.0, 8964.0, 6651.0, 10477.0, 6955.0, 8398.0, 6136.0, 5599.0, 5410.0, 4749.0, 5957.0, 8364.0, 4442.0, 3493.0, 5610.0, 3742.0, 5335.0, 5689.0, 3635.0, 4145.0, 3509.0, 5957.122556005861, 3063.2588051811877, 2786.5715001902213, 2561.3540732729252, 1724.0123015048598, 1601.7045387765706, 1381.1021010397112, 1280.7023668649745, 1135.692779160027, 1132.4316332983353, 1106.2822563837717, 1074.1035406108542, 971.459985500916, 883.1904949666306, 822.1364396528536, 683.0309400086022, 616.838603102272, 569.1527828530787, 1138.9572115513222, 497.451314866958, 491.51108723792686, 478.59759503029096, 443.18596258364255, 439.37914113588147, 417.42593776648437, 407.4790936476966, 403.9014420904212, 395.6635479468181, 391.1744035454696, 375.7829267712829, 395.1081404839148, 16751.840750024898, 4416.411412044843, 20398.316314081, 10477.497505490699, 5610.687524846847, 2867.4588131593523, 4847.2140731040945, 5689.283396773568, 2297.005035123952, 2290.1501909396156, 2172.4744600521276, 9672.75075888425, 5308.74017644636, 2934.5228998859743, 84271.79306372174, 7398.732183416312, 8850.759369067895, 5335.0377950975635, 3669.59709374549, 4809.632076301316, 28592.132438475164, 10981.612136199246, 2777.9164555065195, 1685.4264014394655, 1561.5249262318696, 1286.4840685676006, 1175.4826005775353, 949.5501780192442, 874.1234463176227, 859.3516698536546, 855.099427668388, 790.0171584210221, 749.4849383689545, 624.4318649526655, 596.6112088198415, 577.0161621835939, 532.1876091019349, 469.1819146972787, 466.8310553823263, 411.39399765412287, 408.108036424389, 406.2952967895974, 403.50771313894586, 398.5379159790684, 371.9449848985023, 364.14912524397323, 359.173894207571, 356.6767476513, 356.4640712389822, 344.79971797907655, 8398.30205469552, 1455.227452575446, 971.9284252001512, 795.4424320149874, 856.5986800275252, 20398.316314081, 84271.79306372174, 3397.223333186687, 24666.909054284242, 10477.497505490699, 8964.477985630485, 1761.4604924723712, 5308.74017644636, 8850.759369067895, 7398.732183416312, 9672.75075888425, 4145.644363628704, 4032.838086676515, 4605.510718630901, 14585.957176321466, 6955.679034764398, 2612.7204090788086, 2597.5055574251983, 2380.8812582209566, 2000.662100018722, 1427.4834223877976, 1421.5776471752263, 1149.7342763256104, 984.5923631423151, 893.3383653722, 867.301388425792, 835.3726530957115, 819.236989874152, 792.3178747672692, 729.6291152157785, 704.1739733557265, 615.3931667667123, 608.5827171456953, 574.752558510814, 557.0641555424125, 536.5976741763169, 529.1971571648131, 518.9448247111006, 514.2643704881492, 459.9103386364673, 458.53833437566476, 2963.577726879712, 416.009929590929, 391.1017560729679, 3815.2368626851026, 2826.0644072943423, 1955.498912699606, 3339.4850600657273, 9672.75075888425, 24666.909054284242, 84271.79306372174, 2704.591668997474, 8850.759369067895, 4605.510718630901, 7398.732183416312, 2165.200946635657, 3635.108693122158, 3509.2626056662007, 2990.290950756333, 2967.5416413621265, 2714.6706693581127, 2563.513447621587, 2406.4129770696977, 2033.1610879174452, 2021.1263189377598, 13042.305026598973, 1810.8951411026185, 958.5832697660387, 784.0020769971443, 737.2716679267426, 717.565165070602, 681.0888305399445, 676.1099885382597, 663.6399188369443, 655.3294184503312, 619.0674070982458, 521.7578782060792, 515.7390730060738, 504.1903379281597, 496.9766792213756, 495.8082012424427, 480.1763967794175, 440.7429933749244, 437.7378860928169, 421.4610817259828, 419.3115872319825, 10345.870564760413, 5335.0377950975635, 1808.088763456288, 2208.8954434731336, 1872.9059358545333, 857.5039667599708, 999.3798009555001, 84271.79306372174, 24666.909054284242, 8850.759369067895, 4605.510718630901, 5308.74017644636, 7398.732183416312, 4847.2140731040945, 6136.593288017055, 5410.951886681523, 3742.6854725750927, 3235.0080263323757, 2835.07095770926, 1841.9544068163236, 1580.9641282042257, 1092.4542896301248, 961.1599608159347, 951.1375430243016, 909.7861253572645, 896.0976401390045, 847.9414979003761, 836.0792311233724, 813.0336841343324, 694.5157990589221, 648.170385667331, 618.9809170045908, 533.0638365083125, 523.4450915629138, 499.7700593009371, 475.72769156483633, 387.5912235464245, 386.5579683324164, 384.7812892789472, 384.5581302888009, 357.92023398296436, 347.7053234120283, 335.51445945354783, 334.02488205501095, 8964.477985630485, 2904.2100187808187, 4066.9348321023913, 3539.5584309035203, 3014.5259992982055, 84271.79306372174, 3669.59709374549, 704.80078397191, 4809.632076301316, 5689.283396773568, 2305.5448807582975, 1415.9013791703478, 4032.838086676515, 24666.909054284242, 5206.880503887247, 9672.75075888425, 6651.766387775125, 5599.088943822935, 2412.0713405034526, 4442.080845135934, 1980.2527764378437, 1347.218663348078, 1302.966477508706, 1293.4012044873189, 1158.8663046148333, 1122.5147718214616, 1068.4988872381894, 1042.3130899664804, 1020.7134640674676, 999.7269387050529, 973.1911946942397, 954.70310876515, 849.9490930578185, 809.2237286178616, 800.2934820091097, 798.3330688457402, 660.2977033420846, 659.15954372568, 657.3415969705286, 621.5406362286143, 594.0851056096324, 593.5592961900342, 530.5691298808684, 467.7346294627122, 455.909310469256, 454.5989105018333, 818.8065294756597, 4032.838086676515, 1120.992663772587, 84271.79306372174, 1220.5064462756177, 1761.4604924723712, 24666.909054284242, 8364.812251173607, 5308.74017644636, 1029.2260274040884, 1416.0213383413293, 8850.759369067895, 9134.47947953255, 1673.0992872756024, 1621.432533223918, 1276.7682758770477, 1253.1832251447815, 1123.289244253393, 1119.639685331047, 1101.2425807731481, 1020.1615605783353, 982.9053787052143, 903.0804828237735, 899.0758545830121, 822.4075016123159, 761.0802926766613, 748.8275662850647, 739.4808320798962, 713.2030091516008, 668.2351765473643, 665.124461967893, 652.1161983382525, 628.3955988673815, 620.9132838035405, 558.8007432951958, 552.1317813864382, 551.4423890669473, 511.3441397047858, 502.29536875916097, 526.7744628641299, 451.7465332374292, 448.0504823412275, 529.8216324647655, 859.3648940902559, 861.0758366286723, 84271.79306372174, 12206.826190017086, 1262.8175062170342, 24666.909054284242, 8364.812251173607, 1699.0378663020301, 4066.9348321023913, 1936.4458950927728, 1787.8440290570406, 1694.6395013383622, 1309.3910697496378, 1199.741215488155, 1123.309241051409, 945.1601201039738, 942.0138828401074, 841.8674439108859, 837.5737181037409, 816.0742359315872, 730.9566662956828, 672.0797018039249, 610.795679805869, 594.1021697469237, 578.7283454225174, 573.0587360737263, 539.9635673966404, 524.9748436619016, 504.854062846373, 504.10122644369756, 480.9486592184741, 464.5053214112157, 458.5329388258725, 447.60137170267717, 441.80227492858825, 412.61608311950926, 411.7590334761796, 401.7606172549558, 409.19184868035063, 2471.9712219730222, 12206.826190017086, 4145.644363628704, 1488.962809660956, 2784.3591526834316, 84271.79306372174, 5206.880503887247, 24666.909054284242, 3339.4850600657273, 4066.9348321023913, 3815.2368626851026, 8571.01933291757, 1843.0805007014992, 1833.7970145950164, 1772.4153071310777, 1287.8864922339164, 1185.0759971533, 1070.8758347702264, 1042.807995253154, 1026.4450537535356, 969.5940668449372, 938.5831756010899, 887.0205817326201, 886.6075301312162, 849.1508660524506, 814.3497166965036, 830.3312128588199, 684.5018627788437, 648.3317977319651, 548.1521264163043, 490.07349575560335, 481.8249576050743, 446.9783904880108, 424.9566092817752, 423.35591944545735, 421.05120876492487, 459.15177243245824, 409.8299497734179, 398.9731336707406, 398.40279478595886, 397.5539883469411, 1390.4435563719503, 1343.5879166326015, 1065.8448326793066, 4809.632076301316, 84271.79306372174, 24666.909054284242, 1690.5264799159022, 5610.687524846847, 825.6536672665544, 3669.59709374549, 3493.714033532184, 2656.722600979418, 1583.9331989689072, 1643.5425693984462, 1303.1804280765862, 1273.46062819228, 1092.997025220948, 1034.9193425714216, 1008.5743890490754, 978.1660869072922, 854.1299787799268, 813.4298355752578, 811.521004026237, 808.0278271332127, 786.6352305651449, 753.3159677935248, 714.42828702721, 710.9498417049136, 652.2702558871716, 615.6076552227119, 612.4648801679097, 575.4740260092332, 561.9394661174248, 541.1564622528076, 530.7439378897899, 516.8022380234331, 500.5928569616819, 497.65360174065876, 489.7646784082632, 451.27295026511354, 3170.0488667532804, 2165.200946635657, 84271.79306372174, 24666.909054284242, 8398.30205469552, 8364.812251173607, 2784.3591526834316, 2826.0644072943423, 4749.820170769418, 1859.1949930393057, 1711.6280211313283, 1585.55709603961, 1474.6851246780714, 1332.7379726041293, 1275.4657700251053, 1189.6565114597195, 1140.5566547222465, 1013.2393442920211, 994.641442057338, 909.8295525916583, 808.6850982687688, 783.2548278884694, 729.9401245442895, 729.7293191146193, 701.17551010805, 681.4117905335991, 666.0771207420191, 612.9024139196887, 593.7048230702602, 585.4844560801863, 583.6712774937836, 579.2281592883929, 560.2031834747886, 526.4580851380662, 498.92654221921396, 491.10894585651647, 461.42394944667393, 459.6475655552891, 2309.8815777443124, 8364.812251173607, 1576.0411394291402, 84271.79306372174, 16751.840750024898, 2069.4867447439265, 4809.632076301316, 24666.909054284242, 2208.8954434731336], \"Category\": [\"Default\", \"Default\", \"Default\", \"Default\", \"Default\", \"Default\", \"Default\", \"Default\", \"Default\", \"Default\", \"Default\", \"Default\", \"Default\", \"Default\", \"Default\", \"Default\", \"Default\", \"Default\", \"Default\", \"Default\", \"Default\", \"Default\", \"Default\", \"Default\", \"Default\", \"Default\", \"Default\", \"Default\", \"Default\", \"Default\", \"Topic1\", \"Topic1\", \"Topic1\", \"Topic1\", \"Topic1\", \"Topic1\", \"Topic1\", \"Topic1\", \"Topic1\", \"Topic1\", \"Topic1\", \"Topic1\", \"Topic1\", \"Topic1\", \"Topic1\", \"Topic1\", \"Topic1\", \"Topic1\", \"Topic1\", \"Topic1\", \"Topic1\", \"Topic1\", \"Topic1\", \"Topic1\", \"Topic1\", \"Topic1\", \"Topic1\", \"Topic1\", \"Topic1\", \"Topic1\", \"Topic1\", \"Topic1\", \"Topic1\", \"Topic1\", \"Topic1\", \"Topic1\", \"Topic1\", \"Topic1\", \"Topic1\", \"Topic1\", \"Topic1\", \"Topic1\", \"Topic1\", \"Topic1\", \"Topic1\", \"Topic1\", \"Topic1\", \"Topic1\", \"Topic1\", \"Topic1\", \"Topic1\", \"Topic2\", \"Topic2\", \"Topic2\", \"Topic2\", \"Topic2\", \"Topic2\", \"Topic2\", \"Topic2\", \"Topic2\", \"Topic2\", \"Topic2\", \"Topic2\", \"Topic2\", \"Topic2\", \"Topic2\", \"Topic2\", \"Topic2\", \"Topic2\", \"Topic2\", \"Topic2\", \"Topic2\", \"Topic2\", \"Topic2\", \"Topic2\", \"Topic2\", \"Topic2\", \"Topic2\", \"Topic2\", \"Topic2\", \"Topic2\", \"Topic2\", \"Topic2\", \"Topic2\", \"Topic2\", \"Topic2\", \"Topic2\", \"Topic2\", \"Topic2\", \"Topic2\", \"Topic2\", \"Topic2\", \"Topic2\", \"Topic2\", \"Topic2\", \"Topic2\", \"Topic2\", \"Topic2\", \"Topic2\", \"Topic2\", \"Topic3\", \"Topic3\", \"Topic3\", \"Topic3\", \"Topic3\", \"Topic3\", \"Topic3\", \"Topic3\", \"Topic3\", \"Topic3\", \"Topic3\", \"Topic3\", \"Topic3\", \"Topic3\", \"Topic3\", \"Topic3\", \"Topic3\", \"Topic3\", \"Topic3\", \"Topic3\", \"Topic3\", \"Topic3\", \"Topic3\", \"Topic3\", \"Topic3\", \"Topic3\", \"Topic3\", \"Topic3\", \"Topic3\", \"Topic3\", \"Topic3\", \"Topic3\", \"Topic3\", \"Topic3\", \"Topic3\", \"Topic3\", \"Topic3\", \"Topic3\", \"Topic3\", \"Topic3\", \"Topic3\", \"Topic3\", \"Topic4\", \"Topic4\", \"Topic4\", \"Topic4\", \"Topic4\", \"Topic4\", \"Topic4\", \"Topic4\", \"Topic4\", \"Topic4\", \"Topic4\", \"Topic4\", \"Topic4\", \"Topic4\", \"Topic4\", \"Topic4\", \"Topic4\", \"Topic4\", \"Topic4\", \"Topic4\", \"Topic4\", \"Topic4\", \"Topic4\", \"Topic4\", \"Topic4\", \"Topic4\", \"Topic4\", \"Topic4\", \"Topic4\", \"Topic4\", \"Topic4\", \"Topic4\", \"Topic4\", \"Topic4\", \"Topic4\", \"Topic4\", \"Topic4\", \"Topic4\", \"Topic4\", \"Topic4\", \"Topic4\", \"Topic4\", \"Topic4\", \"Topic4\", \"Topic5\", \"Topic5\", \"Topic5\", \"Topic5\", \"Topic5\", \"Topic5\", \"Topic5\", \"Topic5\", \"Topic5\", \"Topic5\", \"Topic5\", \"Topic5\", \"Topic5\", \"Topic5\", \"Topic5\", \"Topic5\", \"Topic5\", \"Topic5\", \"Topic5\", \"Topic5\", \"Topic5\", \"Topic5\", \"Topic5\", \"Topic5\", \"Topic5\", \"Topic5\", \"Topic5\", \"Topic5\", \"Topic5\", \"Topic5\", \"Topic5\", \"Topic5\", \"Topic5\", \"Topic5\", \"Topic5\", \"Topic5\", \"Topic5\", \"Topic5\", \"Topic5\", \"Topic5\", \"Topic5\", \"Topic5\", \"Topic5\", \"Topic5\", \"Topic5\", \"Topic5\", \"Topic6\", \"Topic6\", \"Topic6\", \"Topic6\", \"Topic6\", \"Topic6\", \"Topic6\", \"Topic6\", \"Topic6\", \"Topic6\", \"Topic6\", \"Topic6\", \"Topic6\", \"Topic6\", \"Topic6\", \"Topic6\", \"Topic6\", \"Topic6\", \"Topic6\", \"Topic6\", \"Topic6\", \"Topic6\", \"Topic6\", \"Topic6\", \"Topic6\", \"Topic6\", \"Topic6\", \"Topic6\", \"Topic6\", \"Topic6\", \"Topic6\", \"Topic6\", \"Topic6\", \"Topic6\", \"Topic6\", \"Topic6\", \"Topic6\", \"Topic6\", \"Topic6\", \"Topic6\", \"Topic6\", \"Topic6\", \"Topic7\", \"Topic7\", \"Topic7\", \"Topic7\", \"Topic7\", \"Topic7\", \"Topic7\", \"Topic7\", \"Topic7\", \"Topic7\", \"Topic7\", \"Topic7\", \"Topic7\", \"Topic7\", \"Topic7\", \"Topic7\", \"Topic7\", \"Topic7\", \"Topic7\", \"Topic7\", \"Topic7\", \"Topic7\", \"Topic7\", \"Topic7\", \"Topic7\", \"Topic7\", \"Topic7\", \"Topic7\", \"Topic7\", \"Topic7\", \"Topic7\", \"Topic7\", \"Topic7\", \"Topic7\", \"Topic7\", \"Topic7\", \"Topic7\", \"Topic7\", \"Topic7\", \"Topic7\", \"Topic8\", \"Topic8\", \"Topic8\", \"Topic8\", \"Topic8\", \"Topic8\", \"Topic8\", \"Topic8\", \"Topic8\", \"Topic8\", \"Topic8\", \"Topic8\", \"Topic8\", \"Topic8\", \"Topic8\", \"Topic8\", \"Topic8\", \"Topic8\", \"Topic8\", \"Topic8\", \"Topic8\", \"Topic8\", \"Topic8\", \"Topic8\", \"Topic8\", \"Topic8\", \"Topic8\", \"Topic8\", \"Topic8\", \"Topic8\", \"Topic8\", \"Topic8\", \"Topic8\", \"Topic8\", \"Topic8\", \"Topic8\", \"Topic8\", \"Topic8\", \"Topic8\", \"Topic8\", \"Topic8\", \"Topic9\", \"Topic9\", \"Topic9\", \"Topic9\", \"Topic9\", \"Topic9\", \"Topic9\", \"Topic9\", \"Topic9\", \"Topic9\", \"Topic9\", \"Topic9\", \"Topic9\", \"Topic9\", \"Topic9\", \"Topic9\", \"Topic9\", \"Topic9\", \"Topic9\", \"Topic9\", \"Topic9\", \"Topic9\", \"Topic9\", \"Topic9\", \"Topic9\", \"Topic9\", \"Topic9\", \"Topic9\", \"Topic9\", \"Topic9\", \"Topic9\", \"Topic9\", \"Topic9\", \"Topic9\", \"Topic9\", \"Topic9\", \"Topic9\", \"Topic9\", \"Topic9\", \"Topic9\", \"Topic10\", \"Topic10\", \"Topic10\", \"Topic10\", \"Topic10\", \"Topic10\", \"Topic10\", \"Topic10\", \"Topic10\", \"Topic10\", \"Topic10\", \"Topic10\", \"Topic10\", \"Topic10\", \"Topic10\", \"Topic10\", \"Topic10\", \"Topic10\", \"Topic10\", \"Topic10\", \"Topic10\", \"Topic10\", \"Topic10\", \"Topic10\", \"Topic10\", \"Topic10\", \"Topic10\", \"Topic10\", \"Topic10\", \"Topic10\", \"Topic10\", \"Topic10\", \"Topic10\", \"Topic10\", \"Topic10\", \"Topic10\", \"Topic10\", \"Topic10\", \"Topic11\", \"Topic11\", \"Topic11\", \"Topic11\", \"Topic11\", \"Topic11\", \"Topic11\", \"Topic11\", \"Topic11\", \"Topic11\", \"Topic11\", \"Topic11\", \"Topic11\", \"Topic11\", \"Topic11\", \"Topic11\", \"Topic11\", \"Topic11\", \"Topic11\", \"Topic11\", \"Topic11\", \"Topic11\", \"Topic11\", \"Topic11\", \"Topic11\", \"Topic11\", \"Topic11\", \"Topic11\", \"Topic11\", \"Topic11\", \"Topic11\", \"Topic11\", \"Topic11\", \"Topic11\", \"Topic11\", \"Topic11\", \"Topic11\", \"Topic11\", \"Topic11\"], \"logprob\": [30.0, 29.0, 28.0, 27.0, 26.0, 25.0, 24.0, 23.0, 22.0, 21.0, 20.0, 19.0, 18.0, 17.0, 16.0, 15.0, 14.0, 13.0, 12.0, 11.0, 10.0, 9.0, 8.0, 7.0, 6.0, 5.0, 4.0, 3.0, 2.0, 1.0, -3.2498, -3.9151, -4.0098, -4.0941, -4.4901, -4.5637, -4.712, -4.7875, -4.9078, -4.9107, -4.934, -4.9636, -5.0641, -5.1595, -5.2312, -5.4168, -5.5188, -5.5994, -4.9058, -5.7343, -5.7463, -5.773, -5.85, -5.8587, -5.91, -5.9342, -5.943, -5.9637, -5.9751, -6.0153, -5.9654, -2.3536, -3.6692, -2.2175, -2.868, -3.4623, -4.1751, -3.7397, -3.6031, -4.4358, -4.5502, -4.6168, -3.7995, -4.2136, -4.5706, -2.8424, -4.194, -4.2352, -4.4525, -4.8355, -4.8289, -1.4629, -2.4199, -3.7946, -4.2945, -4.3709, -4.5648, -4.6551, -4.8687, -4.9516, -4.9686, -4.9736, -5.0528, -5.1056, -5.2884, -5.334, -5.3674, -5.4484, -5.5747, -5.5797, -5.7064, -5.7144, -5.7189, -5.7258, -5.7382, -5.8074, -5.8286, -5.8424, -5.8494, -5.85, -5.8834, -2.8644, -4.635, -5.0896, -5.2601, -5.2889, -3.5145, -2.7936, -4.7261, -3.8306, -4.2559, -4.3425, -5.0742, -4.6837, -4.5039, -4.6218, -4.6028, -4.8676, -4.9115, -5.049, -2.0429, -2.7834, -3.7628, -3.7686, -3.8557, -4.0298, -4.3675, -4.3717, -4.5841, -4.7393, -4.8366, -4.8662, -4.9038, -4.9233, -4.9568, -5.0393, -5.0748, -5.2098, -5.2209, -5.2782, -5.3095, -5.347, -5.3609, -5.3805, -5.3896, -5.5015, -5.5045, -3.6386, -5.602, -5.6639, -3.6483, -3.9573, -4.2912, -3.8977, -3.5702, -3.1192, -2.4693, -4.5599, -4.1892, -4.8044, -4.7454, -5.0812, -3.4308, -3.4661, -3.6262, -3.6338, -3.7229, -3.7802, -3.8435, -4.0121, -4.018, -2.1535, -4.1279, -4.7645, -4.9657, -5.0272, -5.0544, -5.1066, -5.1139, -5.1326, -5.1452, -5.2022, -5.3735, -5.3851, -5.4078, -5.4222, -5.4246, -5.4567, -5.5425, -5.5494, -5.5874, -5.5925, -2.4095, -3.4557, -4.366, -4.2425, -4.6473, -5.1429, -5.0853, -3.0222, -3.7024, -4.3156, -4.5908, -5.0066, -5.0415, -5.0941, -2.8498, -2.9756, -3.3443, -3.4901, -3.6221, -4.0535, -4.2064, -4.5763, -4.7044, -4.7149, -4.7594, -4.7746, -4.8299, -4.844, -4.8719, -5.0297, -5.0988, -5.145, -5.2946, -5.3129, -5.3592, -5.4086, -5.6139, -5.6166, -5.6212, -5.6218, -5.6938, -5.7228, -5.7586, -5.763, -2.6682, -3.8694, -3.7973, -4.0539, -4.3608, -2.5196, -4.3475, -5.2964, -4.2887, -4.2551, -4.7458, -4.9463, -4.6807, -4.3034, -4.6664, -5.0102, -2.6647, -2.837, -3.6793, -3.0687, -3.8767, -4.2621, -4.2955, -4.3029, -4.4128, -4.4447, -4.494, -4.5188, -4.5398, -4.5606, -4.5875, -4.6067, -4.7231, -4.7722, -4.7833, -4.7858, -4.9758, -4.9776, -4.9803, -5.0364, -5.0817, -5.0826, -5.1949, -5.3212, -5.3468, -5.3497, -4.7669, -3.7987, -4.7906, -2.326, -4.7434, -4.5713, -3.8241, -4.2107, -4.4258, -4.8792, -4.8439, -4.7761, -2.3348, -4.0326, -4.064, -4.3031, -4.3218, -4.4313, -4.4346, -4.4511, -4.5277, -4.5649, -4.6497, -4.6541, -4.7434, -4.8209, -4.8372, -4.8498, -4.886, -4.9512, -4.9559, -4.9757, -5.0128, -5.0248, -5.1303, -5.1423, -5.1436, -5.2192, -5.2371, -5.1895, -5.3434, -5.3516, -5.22, -4.9109, -4.9224, -2.1796, -3.4513, -4.7544, -3.6145, -4.1493, -4.8581, -4.8396, -3.8648, -3.9447, -3.9983, -4.2563, -4.3439, -4.4097, -4.5826, -4.5859, -4.6984, -4.7035, -4.7296, -4.8398, -4.9239, -5.0197, -5.0474, -5.0737, -5.0835, -5.1431, -5.1713, -5.2105, -5.212, -5.2591, -5.2939, -5.3069, -5.3311, -5.3441, -5.4126, -5.4147, -5.4393, -5.421, -3.7376, -2.3044, -3.3636, -4.52, -4.0914, -2.5151, -4.0934, -3.3622, -4.4703, -4.5867, -4.6727, -2.2886, -3.8259, -3.831, -3.865, -4.1846, -4.2678, -4.3692, -4.3958, -4.4116, -4.4687, -4.5012, -4.5578, -4.5582, -4.6014, -4.6433, -4.6239, -4.8172, -4.8716, -5.0397, -5.1519, -5.1689, -5.2441, -5.2947, -5.2985, -5.304, -5.2174, -5.3311, -5.358, -5.3594, -5.3615, -4.3573, -4.5801, -4.7706, -4.0564, -2.6516, -3.7941, -4.9146, -4.6675, -5.1654, -5.1321, -3.1397, -3.4137, -3.9311, -3.8942, -4.1263, -4.1494, -4.3023, -4.357, -4.3828, -4.4134, -4.5491, -4.598, -4.6004, -4.6047, -4.6315, -4.6749, -4.7279, -4.7328, -4.8191, -4.877, -4.8821, -4.9445, -4.9684, -5.0061, -5.0256, -5.0522, -5.0842, -5.0901, -5.1061, -5.1881, -3.7491, -4.351, -2.6624, -3.6534, -4.0852, -4.2082, -4.759, -4.7992, -2.8022, -3.7404, -3.8232, -3.8997, -3.9723, -4.0735, -4.1175, -4.1872, -4.2294, -4.3478, -4.3664, -4.4556, -4.5735, -4.6055, -4.6761, -4.6764, -4.7164, -4.745, -4.7678, -4.8511, -4.883, -4.8969, -4.9, -4.9077, -4.9411, -5.0034, -5.0572, -5.073, -5.1354, -5.1393, -3.5386, -2.9112, -4.388, -2.7147, -3.5915, -4.4767, -4.7713, -4.7409, -4.8809], \"loglift\": [30.0, 29.0, 28.0, 27.0, 26.0, 25.0, 24.0, 23.0, 22.0, 21.0, 20.0, 19.0, 18.0, 17.0, 16.0, 15.0, 14.0, 13.0, 12.0, 11.0, 10.0, 9.0, 8.0, 7.0, 6.0, 5.0, 4.0, 3.0, 2.0, 1.0, 1.9987, 1.9986, 1.9985, 1.9985, 1.9983, 1.9983, 1.9982, 1.9982, 1.9981, 1.9981, 1.998, 1.998, 1.9979, 1.9978, 1.9978, 1.9975, 1.9974, 1.9973, 1.9972, 1.9971, 1.997, 1.997, 1.9968, 1.9968, 1.9967, 1.9967, 1.9966, 1.9966, 1.9966, 1.9965, 1.9962, 1.861, 1.8786, 1.8002, 1.8159, 1.8461, 1.8045, 1.715, 1.6914, 1.7657, 1.6542, 1.6404, 0.9642, 1.1501, 1.386, -0.2433, 0.8378, 0.6174, 0.9063, 0.8975, 0.6336, 2.217, 2.217, 2.2167, 2.2165, 2.2165, 2.2164, 2.2163, 2.2161, 2.2161, 2.216, 2.216, 2.2159, 2.2159, 2.2156, 2.2156, 2.2155, 2.2154, 2.2152, 2.2152, 2.2149, 2.2149, 2.2149, 2.2149, 2.2148, 2.2147, 2.2146, 2.2146, 2.2146, 2.2146, 2.2145, 2.0406, 2.0229, 1.972, 2.0019, 1.8989, 0.5031, -0.1945, 1.0841, -0.003, 0.4279, 0.4973, 1.3928, 0.68, 0.3487, 0.41, 0.161, 0.7435, 0.7271, 0.4568, 2.3102, 2.3101, 2.3099, 2.3099, 2.3099, 2.3098, 2.3096, 2.3096, 2.3095, 2.3093, 2.3093, 2.3092, 2.3092, 2.3092, 2.3091, 2.309, 2.309, 2.3088, 2.3088, 2.3087, 2.3087, 2.3086, 2.3086, 2.3085, 2.3085, 2.3083, 2.3083, 2.3081, 2.3081, 2.308, 2.0458, 2.0369, 2.0712, 1.9296, 1.1936, 0.7084, 0.1298, 1.4783, 0.6634, 0.7014, 0.2864, 1.1794, 2.3116, 2.3116, 2.3116, 2.3116, 2.3115, 2.3115, 2.3115, 2.3114, 2.3114, 2.3114, 2.3113, 2.3109, 2.3107, 2.3107, 2.3106, 2.3106, 2.3106, 2.3105, 2.3105, 2.3104, 2.3102, 2.3101, 2.3101, 2.3101, 2.3101, 2.31, 2.3099, 2.3098, 2.3098, 2.3098, 2.287, 1.9031, 2.0748, 1.9981, 1.7583, 2.0439, 1.9484, -0.4231, 0.1253, 0.537, 0.915, 0.3572, -0.0098, 0.3606, 2.3691, 2.369, 2.369, 2.3689, 2.3689, 2.3687, 2.3687, 2.3684, 2.3683, 2.3683, 2.3682, 2.3682, 2.3682, 2.3682, 2.3681, 2.3679, 2.3679, 2.3678, 2.3676, 2.3675, 2.3675, 2.3674, 2.3669, 2.3669, 2.3669, 2.3669, 2.3668, 2.3667, 2.3666, 2.3666, 2.1716, 2.0976, 1.8329, 1.7152, 1.5688, 0.0794, 1.3855, 2.0865, 1.1737, 1.0394, 1.452, 1.7391, 0.9579, -0.4758, 0.7167, -0.2465, 2.4735, 2.4735, 2.4733, 2.4732, 2.4732, 2.473, 2.473, 2.473, 2.4729, 2.4729, 2.4728, 2.4728, 2.4728, 2.4728, 2.4727, 2.4727, 2.4726, 2.4726, 2.4725, 2.4725, 2.4723, 2.4723, 2.4723, 2.4722, 2.4722, 2.4722, 2.472, 2.4718, 2.4717, 2.4717, 2.4661, 1.8399, 2.1282, 0.273, 2.0905, 1.8956, 0.0036, 0.6984, 0.9379, 2.1251, 1.8414, 0.0765, 2.4862, 2.4858, 2.4858, 2.4856, 2.4856, 2.4855, 2.4855, 2.4855, 2.4854, 2.4854, 2.4853, 2.4853, 2.4852, 2.4852, 2.4851, 2.4851, 2.4851, 2.485, 2.485, 2.485, 2.4849, 2.4849, 2.4847, 2.4847, 2.4847, 2.4846, 2.4846, 2.4846, 2.4844, 2.4843, 2.4483, 2.2738, 2.2602, 0.4194, 1.0798, 2.0454, 0.2131, 0.7597, 1.6449, 0.7906, 2.5074, 2.5074, 2.5073, 2.5072, 2.5071, 2.5071, 2.5069, 2.5069, 2.5068, 2.5068, 2.5068, 2.5066, 2.5065, 2.5064, 2.5064, 2.5063, 2.5063, 2.5062, 2.5062, 2.5061, 2.5061, 2.506, 2.5059, 2.5059, 2.5059, 2.5059, 2.5057, 2.5057, 2.5057, 2.5056, 2.3904, 2.2266, 2.2474, 2.115, 1.9176, 0.084, 1.2897, 0.4654, 1.3569, 1.0435, 1.0214, 2.5961, 2.5957, 2.5957, 2.5957, 2.5955, 2.5955, 2.5954, 2.5954, 2.5953, 2.5953, 2.5953, 2.5952, 2.5952, 2.5952, 2.5951, 2.5951, 2.5949, 2.5948, 2.5946, 2.5944, 2.5944, 2.5942, 2.5941, 2.5941, 2.5941, 2.5941, 2.594, 2.594, 2.594, 2.594, 2.3462, 2.1577, 2.1987, 1.4061, -0.0526, 0.0336, 1.5935, 0.6409, 2.0593, 0.6009, 2.6424, 2.6423, 2.6421, 2.642, 2.642, 2.642, 2.6418, 2.6418, 2.6418, 2.6418, 2.6416, 2.6416, 2.6416, 2.6416, 2.6415, 2.6415, 2.6414, 2.6414, 2.6413, 2.6412, 2.6412, 2.6411, 2.6411, 2.641, 2.641, 2.6409, 2.6409, 2.6409, 2.6408, 2.6407, 2.1303, 1.9095, -0.0634, 0.1742, 0.8198, 0.7008, 1.2501, 1.195, 2.6728, 2.6725, 2.6725, 2.6724, 2.6724, 2.6723, 2.6723, 2.6722, 2.6722, 2.6721, 2.6721, 2.672, 2.6719, 2.6719, 2.6718, 2.6718, 2.6717, 2.6717, 2.6717, 2.6716, 2.6715, 2.6715, 2.6715, 2.6715, 2.6714, 2.6713, 2.6712, 2.6712, 2.6711, 2.6711, 2.6573, 1.9979, 2.1902, -0.1156, 0.6231, 1.8291, 0.6911, -0.9132, 1.3597]}, \"token.table\": {\"Topic\": [5, 6, 3, 7, 1, 4, 4, 2, 7, 1, 4, 9, 6, 1, 3, 8, 3, 1, 9, 9, 11, 3, 5, 6, 3, 4, 4, 11, 10, 1, 9, 1, 10, 8, 4, 9, 11, 7, 9, 1, 6, 8, 9, 3, 7, 2, 8, 2, 6, 1, 11, 5, 11, 10, 1, 5, 8, 7, 8, 10, 6, 4, 11, 1, 2, 5, 2, 8, 6, 1, 1, 7, 9, 11, 5, 1, 1, 2, 5, 6, 5, 1, 1, 9, 9, 1, 2, 3, 4, 5, 6, 9, 10, 11, 6, 7, 11, 3, 9, 2, 6, 6, 11, 7, 5, 6, 5, 11, 3, 4, 3, 1, 1, 5, 6, 1, 2, 3, 4, 5, 6, 9, 10, 9, 8, 10, 9, 4, 7, 10, 8, 6, 2, 8, 4, 2, 2, 1, 9, 2, 1, 5, 5, 5, 11, 5, 1, 1, 9, 7, 8, 11, 6, 9, 9, 6, 8, 1, 5, 5, 5, 1, 2, 5, 6, 4, 2, 3, 8, 9, 1, 1, 6, 7, 10, 11, 11, 9, 1, 2, 4, 5, 7, 9, 1, 5, 3, 5, 11, 5, 10, 8, 8, 9, 6, 6, 8, 2, 2, 4, 3, 2, 4, 5, 7, 9, 10, 1, 2, 3, 4, 5, 7, 8, 9, 10, 4, 11, 3, 4, 10, 1, 2, 3, 4, 6, 9, 8, 5, 7, 10, 10, 11, 8, 1, 10, 6, 1, 11, 2, 4, 11, 6, 7, 2, 11, 1, 4, 6, 8, 10, 3, 7, 7, 8, 5, 8, 11, 7, 2, 7, 8, 7, 8, 9, 8, 2, 7, 6, 1, 4, 4, 10, 4, 1, 3, 2, 9, 11, 5, 5, 9, 5, 4, 5, 4, 3, 7, 6, 10, 4, 3, 2, 1, 2, 5, 3, 7, 10, 7, 3, 6, 3, 10, 6, 4, 10, 2, 5, 6, 1, 9, 9, 7, 8, 2, 5, 7, 2, 6, 8, 7, 8, 11, 6, 3, 6, 7, 8, 4, 5, 1, 2, 3, 4, 5, 6, 7, 8, 9, 10, 11, 11, 3, 5, 1, 3, 5, 11, 1, 5, 7, 1, 3, 1, 4, 7, 10, 1, 5, 9, 11, 5, 6, 7, 8, 7, 1, 6, 11, 11, 2, 4, 10, 1, 3, 5, 11, 10, 11, 8, 7, 10, 3, 8, 6, 7, 3, 3, 10, 7, 5, 10, 11, 11, 2, 4, 11, 4, 4, 10, 6, 3, 6, 10, 4, 7, 10, 7, 10, 8, 1, 2, 3, 4, 5, 6, 7, 8, 9, 10, 11, 9, 1, 11, 9, 9, 11, 7, 2, 2, 6, 3, 4, 1, 2, 4, 5, 6, 3, 2, 5, 1, 5, 8, 2, 3, 5, 10, 4, 5, 10, 11, 1, 2, 9, 8, 3, 8, 7, 6, 10, 11, 7, 2, 8, 7, 1, 2, 9, 8, 9, 6, 8, 9, 1, 2, 3, 4, 5, 7, 9, 10, 11, 2, 11, 9, 4, 8, 10, 11, 11, 3, 2, 11, 4, 10, 11, 2, 7, 4, 5, 9, 2, 5, 6, 6, 3, 11, 5, 9, 9, 2, 6, 5, 2, 5, 2, 1, 3, 1, 2, 8, 4, 1, 2, 10, 3, 8, 10, 4, 5, 10, 2, 6, 4, 2, 4, 6, 10, 10, 11, 8, 9, 1, 2, 4, 6, 2, 9, 3, 1, 1, 7, 7, 1, 2, 3, 4, 5, 6, 7, 8, 9, 10, 11, 3, 9, 1, 11, 1, 2, 3, 4, 5, 6, 9, 5, 8, 1, 3, 5, 7, 8, 10, 2, 3, 5, 8, 9, 2, 1, 2, 3, 5, 9, 5, 3, 8, 3, 6, 7, 11, 4, 2, 7, 5], \"Freq\": [0.2934243712838313, 0.7053844157353031, 0.9986906391286646, 0.9993497707323342, 0.3353303329254641, 0.6644751426611348, 0.9983143197875716, 0.9995894447290855, 0.9988522597719255, 0.9997949091956972, 0.9990357439045171, 0.9997656829472151, 0.9984293883402303, 0.9989601714972516, 0.9997242685913482, 0.9981840860173978, 0.9996298604905584, 0.998652051880749, 0.9990920437542531, 0.9979458084014634, 0.9991298734866119, 0.0036638691705611023, 0.0036638691705611023, 0.9929085452220587, 0.9980897073850024, 0.9995682859034146, 0.7306819364262186, 0.26891268292266035, 0.9993579907067689, 0.9998115606997662, 0.9992668204337585, 0.997916545123511, 0.9992409684490281, 0.9987414726991027, 0.9982757821103052, 0.9975033707467356, 0.9987120525195455, 0.8087367831516361, 0.1908386078228321, 0.5418257257633879, 0.22218262465265973, 0.12812985716165654, 0.107342832462558, 0.7875228106744374, 0.21222205612330616, 0.9996237275070654, 0.9989696193656614, 0.99842710510601, 0.9992635315013697, 0.9988409319806293, 0.9998273259323658, 0.9998168500719294, 0.9995354095144745, 0.9985983110937682, 0.9992020133494247, 0.9985565726795816, 0.9993821871928829, 0.1971728393842081, 0.5541670148812989, 0.24853115638228052, 0.9981734845742027, 0.9997529463276401, 0.9983979314984215, 0.8198225648876755, 0.1801619282402803, 0.9987931656922642, 0.9997470067876584, 0.9993150237509364, 0.9993010143467448, 0.9994713447519596, 0.9994515768197619, 0.9983474510981208, 0.9993786639093372, 0.9988128392378298, 0.9979695237249938, 0.9986176994498219, 0.9989796087690108, 0.22539957728605764, 0.24374893781319545, 0.5306436692983095, 0.9981943240647658, 0.9995265008257866, 0.9977681632287428, 0.9994137528441716, 0.9986065078877849, 0.3131617610370297, 0.16408216568793874, 0.13218480893146958, 0.0981249195135449, 0.08582551500151656, 0.040547487402291284, 0.05663132407186683, 0.03378957283524273, 0.07555348485960275, 0.011255988294166143, 0.00389630364028828, 0.9844660531128387, 0.9984900707738527, 0.9995664124914353, 0.9999603933537451, 0.9998847843218708, 0.9990954227541285, 0.9996486433437171, 0.9991977601364744, 0.00022511972088373787, 0.9995315607237961, 0.9988896664419569, 0.9990882329670483, 0.9993983671166974, 0.9982751704940479, 0.9975413997921944, 0.998640482132515, 0.3047915077672552, 0.013109312162032483, 0.6816842324256891, 0.20062921496677819, 0.17196789854295272, 0.2001949525967202, 0.24731241974800902, 0.05189435322192639, 0.10378870644385278, 0.0008685247401159228, 0.023233036798100935, 0.9978095208883961, 0.9986973061005902, 0.9990941944406513, 0.9993147699398331, 0.695431305831392, 0.30418865751473834, 0.9994715763346032, 0.9980275249752943, 0.9992728627419057, 0.22915617372650365, 0.7706883947959781, 0.9983582722381318, 0.9974809031203998, 0.9986981261887931, 0.9996188438351213, 0.9983425834517646, 0.9982389363588214, 0.9979745634427016, 0.9991496881524194, 0.9996884006703629, 0.997971490901816, 0.9981429285860546, 0.9980042981056811, 0.9987513622373027, 0.9973240068870216, 0.9978111011430718, 0.24502683608668746, 0.7549054812901455, 8.192137615736793e-05, 0.998927321909972, 0.9989889760031044, 0.9993873035476896, 0.9995330952197069, 0.9986564569711001, 0.9984906393719306, 0.9974289411561791, 0.9984746209137172, 0.9987091760168204, 0.12600441798220363, 0.18702897915744127, 0.519838854455728, 0.16668745876569538, 0.999212385023531, 0.001687149945368362, 0.9977804776908492, 0.9986912133922645, 0.9967972115584602, 0.9990927456547608, 0.9971953488921854, 0.16940009619477003, 0.17788803326592648, 0.14345809134348908, 0.5091566758599334, 0.9994462732965526, 0.9995653746905065, 0.3324615669876631, 0.0013625474056871438, 0.00027250948113742877, 0.37388300812055225, 0.15587542321060927, 0.13598223108757695, 0.4668404238629354, 0.5325229645879778, 0.9985018382462032, 0.9987750886847172, 0.9985911694006108, 0.9984703611378125, 0.998686633155326, 0.99850688534763, 0.9983082975671073, 0.9975609042599252, 0.9995558421156694, 0.9990577248244208, 0.9986836541526631, 0.9999442580750755, 0.782979466665239, 0.21606529303508565, 0.9999343768592013, 0.15320670990784147, 0.053237852863728695, 0.11002489591837263, 0.08222290608953653, 0.36674965306124213, 0.23365502090192036, 0.15287464335041653, 0.10851026820726802, 0.0017284821484343578, 0.0032649107248204534, 0.19147741133211718, 0.09160955386702097, 0.29576250095432344, 0.08200687526460786, 0.07259625023424303, 0.9754616527269214, 0.024454201163288853, 0.997737786099935, 0.9998283847894635, 0.9987279805240628, 0.7528035578720018, 0.0004126081435308314, 0.10067638702152286, 0.14214350544637142, 0.0022693447894195726, 0.0018567366458887413, 0.9970873107951823, 0.9969317194314818, 0.9974211015276511, 0.9980525619929673, 0.9986639821135119, 0.9993551022205437, 0.998144814472916, 0.9969977495080833, 0.9996382862712184, 0.999258248369863, 0.9988242497463912, 0.9991725551803207, 0.9981026303066955, 0.9987218439509977, 0.9994481504086302, 0.9996898066230904, 0.9990788750119498, 0.9972849433838721, 0.9990812149061999, 0.9995601318723185, 0.9975500737076881, 0.9982408754652538, 0.9997697353208252, 0.999012918020826, 0.9996613464085005, 0.9988716557143335, 0.99905582430323, 0.9988377305516215, 0.7534043833032443, 0.0979000046100261, 0.1475594272383002, 0.99852912825774, 0.998650276529532, 0.9993982652204293, 0.9982154955355856, 0.32170044603670833, 0.6749664890749308, 0.0026864337873629086, 0.9989121299844737, 0.9987417510931915, 0.9988948506674638, 0.9983301846087028, 0.9982815758735516, 0.0008779961089477147, 0.9976391099975238, 0.9991924712491094, 0.9998174780921093, 0.9983229490048771, 0.99849949689559, 0.27220101637409577, 0.11040320943844445, 0.617369671170152, 0.9987286084764951, 0.9985486451986291, 0.9991821322866863, 0.998466654896526, 0.9994427270936971, 0.9994818510095625, 0.9983142253283823, 0.9996690595484786, 0.9994286685802335, 0.9980346693082283, 0.9983281720290696, 0.999695004134469, 0.9993613512785259, 0.9989755324559682, 0.0001115513922397868, 0.1791515359370976, 0.8206835927081114, 0.9981793349386872, 0.9997332400731729, 0.9971792010481335, 0.9985670325159663, 0.9975723425834521, 0.9987759910891776, 0.9999023769266804, 0.9997280103767131, 0.9983837404174998, 0.9994289247790815, 0.9991116770809044, 0.14840524521740095, 0.7619972335640564, 0.08918087821648919, 0.8583618279707104, 0.14151563359816113, 0.9978981630084395, 0.9973713599112296, 0.9996226328149102, 0.015099421219898984, 0.020761704177361104, 0.9625881027685602, 0.43827267389711777, 0.5608981888735134, 0.9989237071145378, 0.7978391342274535, 0.20091145592627283, 0.9996330855048089, 0.9980055014267638, 0.7677111816168123, 0.005766352337169638, 0.00026210692441680175, 0.2261982757716999, 0.9979713737657697, 0.9984152710081311, 0.2511648896216814, 0.15433703968655724, 0.1926388379689459, 0.16947698355039229, 0.05445860404752605, 0.09095264783871053, 0.005762217440713337, 0.00033895396710078456, 0.00892578780032066, 0.03163570359607323, 0.04010955277359284, 0.9993956803517055, 0.9983568374058874, 0.9995841568526601, 0.8233771272197147, 0.0006974816833712111, 0.0017437042084280277, 0.17402168000111715, 0.7352419818587712, 0.26453243669554166, 0.9985805798848607, 0.996861159288727, 0.9995936576687358, 0.9995890633925353, 0.9993915293700243, 0.999342963514501, 0.999176286004565, 0.2553209851644934, 0.3025179425198191, 0.3041812714133989, 0.13784838205542274, 0.584961426286288, 0.0002458854250888138, 0.18343052711625507, 0.23113229958348497, 0.9988613954659527, 0.8866927545110325, 0.00045285636083300943, 0.11253480566700284, 0.9983235151668818, 0.9977684390210833, 0.998547452299743, 0.99844768856555, 0.28364520888614536, 0.1570437698262304, 0.12901749705724158, 0.43005832352413864, 0.9997956233608901, 0.9988499048699707, 0.9978154656526698, 0.9999475088281029, 0.9988078845475219, 0.9988861782205182, 0.9983934914251585, 0.9992524550835731, 0.99950450158648, 0.9983366842914451, 0.9990425013243421, 0.9978629798709354, 0.9981515840669355, 0.9988040183750032, 0.9990878060983318, 0.9991528244180146, 0.9985276384964492, 0.9993083873887534, 0.9995165711439723, 0.00046004137978397007, 0.9995056913664955, 0.9997997094097308, 0.9994304941159402, 0.9987402154121247, 0.9993611128820653, 0.9979590566355278, 0.9994005178196511, 0.9980347584459983, 0.9993704620654655, 0.9986770411904511, 0.9988035586591407, 0.9984386819997955, 0.9988344785179694, 0.10622771480880899, 0.08967413324510383, 0.11299154383483904, 0.0648971595497516, 0.10129130625647828, 0.11073693415949569, 0.12657853372046085, 0.08857056114085682, 0.07073541197221966, 0.06679577822372496, 0.06150337867002424, 0.9993116689714023, 0.998972593824403, 0.9987768494196334, 0.9982878479164409, 0.9986446860052081, 0.9993572524432458, 0.9988033772928858, 0.996731682824107, 0.9987142692033067, 0.998487774672708, 0.9998053681064307, 0.9989059921639868, 0.3735247266940599, 0.00033172711074072814, 0.1768105500248081, 0.44915850794294593, 0.9986825518319608, 0.9983328362022074, 0.7272950735576443, 0.27200602269491353, 0.698742391642927, 0.30103921220979857, 0.9981067899084964, 0.0007076979543841282, 0.7607753009629379, 0.003184640794728577, 0.2349557208555306, 0.9968720462970252, 0.9996222465944468, 0.9994108343902921, 0.9978796623252886, 0.8328324578867394, 0.16712005887688297, 0.9977489248057774, 0.9995279067730054, 0.11043817888061942, 0.8891689273978076, 0.9983132304040166, 0.9995414119846046, 0.9990614362979289, 0.999634823578922, 0.9976554375396756, 0.9987147738430363, 0.9997013346442689, 0.9982883444068759, 0.7086871448086584, 0.16680128731787278, 0.12444598661150193, 0.9981566075921355, 0.9983967688577712, 0.999367365392565, 0.22079285318207914, 0.7788881433100707, 0.09007356007794864, 0.32202769518063995, 0.07623873222283889, 0.1804414781953677, 0.04827471847314895, 0.054456237302027775, 0.054161879262557354, 0.11156169695928934, 0.06269826240719954, 0.8058408430340344, 0.1923457862468132, 0.9998810721481334, 0.7886780941407442, 0.007189912499179295, 0.20352983074599848, 0.9978522373483749, 0.9977419554950635, 0.998825977382245, 0.8232390049265442, 0.17591751691251697, 0.5750422268316466, 0.20876649089245483, 0.21570757626739578, 0.9994205908945308, 0.9983093961623872, 0.7650110383496628, 0.23440124803091802, 0.9974915213190696, 0.9996700924879498, 0.4682132832663466, 0.5310654434634882, 0.9988833530554119, 0.9980206171507988, 0.9995119446982823, 0.4142172602857083, 0.5849910430350793, 0.9988494272245334, 0.2917057448882089, 0.7083007995144889, 0.9998240814737483, 0.9982197941359199, 0.999257325665419, 0.9990422863328839, 0.7919007456167123, 0.20766171284176568, 0.9994128223424066, 0.9968443553360087, 0.9981430659513099, 0.9985669633255321, 0.0001190716877634684, 0.8382646818548175, 0.1615802802950266, 0.3228337772002749, 0.1962866313449454, 0.48032493317351344, 0.19747329656818205, 0.20315144247589337, 0.5990443932635428, 0.99768063041419, 0.999805514105266, 0.9984013384288194, 0.9974593422767613, 0.9983699316783841, 0.9991301675271069, 0.9982530998282443, 0.9988156903291026, 0.9990005621324024, 0.9987725676535674, 0.997974892333084, 0.427973478543993, 0.2149285823145669, 0.14165319360258924, 0.21530531953159507, 0.9996638374302892, 0.9992251735153239, 0.9971829426591419, 0.9993899942196169, 0.3555541460183342, 0.6437984871111485, 0.9979501607685103, 0.012648524357607369, 0.10860704087830174, 0.20152504673610971, 0.11229619381593722, 0.058134563874387715, 0.08456673657041337, 0.10297196111641897, 0.12972845494981916, 0.07710735041079878, 0.08472889713910065, 0.02768891710335203, 0.32743978232055454, 0.671767576336725, 0.8711878424452136, 0.12876196903894244, 0.3553280846033561, 0.12798841103839245, 0.32741461854490217, 0.056757380985522986, 0.07309192779009972, 0.058308129099881534, 0.0010338320762390343, 0.9999033196450849, 0.998152482447122, 0.24332642781409927, 0.10930171088975582, 0.39947172908517903, 0.06506054219628322, 0.08371123095921776, 0.09845828719037529, 0.9993529711617556, 0.9991377602638671, 0.998459172800359, 0.3542752908890295, 0.6452871369764466, 0.9968119326021434, 0.23663461192174431, 0.05694020349366973, 0.43518584098733293, 0.15418223933026154, 0.11683833963636127, 0.9993901644021987, 0.6833388857727323, 0.31621641690447205, 0.3878665761783867, 0.1806904990694457, 0.4308320694424569, 0.9983828888450347, 0.999640207699429, 0.9987124856591025, 0.9985298018056551, 0.9991359228995103], \"Term\": [\"access\", \"access\", \"accord\", \"across\", \"add\", \"add\", \"adjust\", \"aggregate\", \"analysis\", \"another\", \"api\", \"app\", \"appear\", \"append\", \"apply\", \"area\", \"argument\", \"array\", \"assign\", \"attribute\", \"automatically\", \"average\", \"average\", \"average\", \"avoid\", \"axis\", \"bar\", \"bar\", \"barplot\", \"base\", \"binary\", \"blank\", \"box\", \"boxplot\", \"break\", \"build\", \"button\", \"c\", \"c\", \"calculate\", \"calculate\", \"calculate\", \"calculate\", \"call\", \"call\", \"cannot\", \"caret\", \"categorical\", \"cell\", \"certain\", \"change\", \"character\", \"chart\", \"chunk\", \"class\", \"click\", \"cluster\", \"code\", \"code\", \"code\", \"coefficient\", \"color\", \"colour\", \"column\", \"column\", \"combination\", \"combine\", \"command\", \"compare\", \"condition\", \"conditional\", \"confidence\", \"connect\", \"connection\", \"console\", \"contain\", \"continuous\", \"convert\", \"convert\", \"convert\", \"coordinate\", \"correlation\", \"correspond\", \"count\", \"counting\", \"create\", \"create\", \"create\", \"create\", \"create\", \"create\", \"create\", \"create\", \"create\", \"csv\", \"csv\", \"csv\", \"curve\", \"custom\", \"data\", \"dataframe\", \"dataframes\", \"dataset\", \"datatable\", \"date\", \"date\", \"day\", \"default\", \"define\", \"delete\", \"density\", \"df\", \"difference\", \"difference\", \"difference\", \"different\", \"different\", \"different\", \"different\", \"different\", \"different\", \"different\", \"different\", \"dimension\", \"directory\", \"display\", \"distance\", \"distribution\", \"distribution\", \"document\", \"double\", \"download\", \"dplyr\", \"dplyr\", \"draw\", \"dt\", \"dummy\", \"duplicate\", \"dynamic\", \"dynamically\", \"effect\", \"efficient\", \"element\", \"embed\", \"encode\", \"end\", \"entry\", \"equal\", \"equivalent\", \"error\", \"error\", \"error\", \"estimate\", \"event\", \"every\", \"excel\", \"execute\", \"exist\", \"expand\", \"expect\", \"expression\", \"extract\", \"extract\", \"extract\", \"extract\", \"facet\", \"factor\", \"factor\", \"fail\", \"fails\", \"feature\", \"field\", \"file\", \"file\", \"file\", \"file\", \"fill\", \"filter\", \"find\", \"find\", \"find\", \"find\", \"find\", \"find\", \"first\", \"first\", \"fit\", \"fix\", \"folder\", \"follow\", \"font\", \"foreach\", \"forecast\", \"form\", \"format\", \"formula\", \"found\", \"frame\", \"frequency\", \"frequency\", \"function\", \"generate\", \"generate\", \"generate\", \"generate\", \"generate\", \"generate\", \"get\", \"get\", \"get\", \"get\", \"get\", \"get\", \"get\", \"get\", \"get\", \"ggplot\", \"ggplot\", \"glm\", \"graph\", \"grid\", \"group\", \"group\", \"group\", \"group\", \"group\", \"group\", \"group_by\", \"gsub\", \"handle\", \"header\", \"heatmap\", \"histogram\", \"ho\", \"hour\", \"html\", \"id\", \"identify\", \"ifelse\", \"ignore\", \"igraph\", \"image\", \"import\", \"include\", \"incorrect\", \"increase\", \"index\", \"individual\", \"information\", \"input\", \"insert\", \"inside\", \"instal\", \"install\", \"installation\", \"instead\", \"instead\", \"instead\", \"integer\", \"interactive\", \"interval\", \"invalid\", \"issue\", \"issue\", \"issue\", \"item\", \"java\", \"join\", \"json\", \"keep\", \"keep\", \"key\", \"knitr\", \"label\", \"language\", \"lapply\", \"large\", \"large\", \"large\", \"last\", \"latex\", \"leaflet\", \"left\", \"legend\", \"length\", \"letter\", \"level\", \"library\", \"like\", \"limit\", \"line\", \"linear\", \"link\", \"list\", \"list\", \"list\", \"lm\", \"load\", \"local\", \"log\", \"logistic\", \"long\", \"loop\", \"make\", \"many\", \"map\", \"markdown\", \"match\", \"match\", \"match\", \"matrix\", \"matrix\", \"max\", \"maximum\", \"mean\", \"memory\", \"memory\", \"memory\", \"merge\", \"merge\", \"message\", \"method\", \"method\", \"miss\", \"mixed\", \"model\", \"model\", \"model\", \"model\", \"modify\", \"month\", \"multiple\", \"multiple\", \"multiple\", \"multiple\", \"multiple\", \"multiple\", \"multiple\", \"multiple\", \"multiple\", \"multiple\", \"multiple\", \"must\", \"mutate\", \"n\", \"na\", \"na\", \"na\", \"na\", \"name\", \"name\", \"need\", \"negative\", \"nest\", \"new\", \"node\", \"non\", \"null\", \"number\", \"number\", \"number\", \"number\", \"object\", \"object\", \"object\", \"object\", \"observation\", \"one\", \"one\", \"one\", \"open\", \"operation\", \"operator\", \"option\", \"order\", \"order\", \"order\", \"order\", \"output\", \"overlap\", \"p\", \"package\", \"page\", \"pair\", \"parallel\", \"parameter\", \"part\", \"pas\", \"passing\", \"paste\", \"path\", \"pattern\", \"pdf\", \"per\", \"percentage\", \"perform\", \"plot\", \"plot\", \"plotly\", \"point\", \"possible\", \"predict\", \"prediction\", \"previous\", \"print\", \"probability\", \"problem\", \"produce\", \"program\", \"put\", \"python\", \"r\", \"r\", \"r\", \"r\", \"r\", \"r\", \"r\", \"r\", \"r\", \"r\", \"r\", \"random\", \"range\", \"raster\", \"rcpp\", \"reactive\", \"read\", \"reading\", \"record\", \"reference\", \"regex\", \"regression\", \"regular\", \"remove\", \"remove\", \"remove\", \"remove\", \"rename\", \"render\", \"repeat\", \"repeat\", \"replace\", \"replace\", \"replacement\", \"result\", \"result\", \"result\", \"result\", \"retrieve\", \"return\", \"rmarkdown\", \"roll\", \"row\", \"row\", \"rselenium\", \"rstudio\", \"run\", \"run\", \"rvest\", \"sample\", \"save\", \"scale\", \"scatter\", \"scrap\", \"script\", \"search\", \"select\", \"select\", \"select\", \"selection\", \"sequence\", \"series\", \"server\", \"server\", \"set\", \"set\", \"set\", \"set\", \"set\", \"set\", \"set\", \"set\", \"set\", \"several\", \"several\", \"shiny\", \"show\", \"show\", \"show\", \"side\", \"similar\", \"simple\", \"single\", \"single\", \"size\", \"size\", \"size\", \"sort\", \"source\", \"space\", \"space\", \"sparklyr\", \"specific\", \"split\", \"split\", \"sql\", \"square\", \"stack\", \"start\", \"start\", \"statement\", \"store\", \"store\", \"string\", \"structure\", \"studio\", \"sub\", \"subset\", \"subset\", \"sum\", \"summarise\", \"summary\", \"symbol\", \"table\", \"table\", \"table\", \"test\", \"test\", \"test\", \"text\", \"text\", \"text\", \"tidyr\", \"time\", \"title\", \"together\", \"top\", \"transform\", \"tree\", \"trouble\", \"true\", \"try\", \"twitter\", \"two\", \"two\", \"two\", \"two\", \"type\", \"unable\", \"unexpected\", \"unique\", \"update\", \"update\", \"url\", \"use\", \"use\", \"use\", \"use\", \"use\", \"use\", \"use\", \"use\", \"use\", \"use\", \"use\", \"user\", \"user\", \"value\", \"value\", \"variable\", \"variable\", \"variable\", \"variable\", \"variable\", \"variable\", \"variable\", \"vector\", \"warn\", \"way\", \"way\", \"way\", \"way\", \"way\", \"way\", \"web\", \"weight\", \"width\", \"window\", \"window\", \"wise\", \"within\", \"within\", \"within\", \"within\", \"within\", \"word\", \"work\", \"work\", \"write\", \"write\", \"write\", \"wrong\", \"x\", \"xml\", \"xt\", \"year\"]}, \"R\": 30, \"lambda.step\": 0.01, \"plot.opts\": {\"xlab\": \"PC1\", \"ylab\": \"PC2\"}, \"topic.order\": [4, 7, 2, 9, 5, 10, 1, 8, 6, 11, 3]};\n",
              "\n",
              "function LDAvis_load_lib(url, callback){\n",
              "  var s = document.createElement('script');\n",
              "  s.src = url;\n",
              "  s.async = true;\n",
              "  s.onreadystatechange = s.onload = callback;\n",
              "  s.onerror = function(){console.warn(\"failed to load library \" + url);};\n",
              "  document.getElementsByTagName(\"head\")[0].appendChild(s);\n",
              "}\n",
              "\n",
              "if(typeof(LDAvis) !== \"undefined\"){\n",
              "   // already loaded: just create the visualization\n",
              "   !function(LDAvis){\n",
              "       new LDAvis(\"#\" + \"ldavis_el19201406269738518566687922197\", ldavis_el19201406269738518566687922197_data);\n",
              "   }(LDAvis);\n",
              "}else if(typeof define === \"function\" && define.amd){\n",
              "   // require.js is available: use it to load d3/LDAvis\n",
              "   require.config({paths: {d3: \"https://d3js.org/d3.v5\"}});\n",
              "   require([\"d3\"], function(d3){\n",
              "      window.d3 = d3;\n",
              "      LDAvis_load_lib(\"https://cdn.jsdelivr.net/gh/bmabey/pyLDAvis@3.3.1/pyLDAvis/js/ldavis.v3.0.0.js\", function(){\n",
              "        new LDAvis(\"#\" + \"ldavis_el19201406269738518566687922197\", ldavis_el19201406269738518566687922197_data);\n",
              "      });\n",
              "    });\n",
              "}else{\n",
              "    // require.js not available: dynamically load d3 & LDAvis\n",
              "    LDAvis_load_lib(\"https://d3js.org/d3.v5.js\", function(){\n",
              "         LDAvis_load_lib(\"https://cdn.jsdelivr.net/gh/bmabey/pyLDAvis@3.3.1/pyLDAvis/js/ldavis.v3.0.0.js\", function(){\n",
              "                 new LDAvis(\"#\" + \"ldavis_el19201406269738518566687922197\", ldavis_el19201406269738518566687922197_data);\n",
              "            })\n",
              "         });\n",
              "}\n",
              "</script>"
            ]
          },
          "metadata": {},
          "execution_count": 36
        }
      ]
    },
    {
      "cell_type": "markdown",
      "source": [
        "> As we can see from the LDA virtualization, These results have little overlap with respect to the previous results, but the overlap it's not a huge overlap which is so good"
      ],
      "metadata": {
        "id": "lCs7MdQ0jzCb"
      }
    },
    {
      "cell_type": "markdown",
      "source": [
        "> ### 12 Topics"
      ],
      "metadata": {
        "id": "rYcc3N1T2Sj-"
      }
    },
    {
      "cell_type": "code",
      "execution_count": 37,
      "metadata": {
        "colab": {
          "base_uri": "https://localhost:8080/"
        },
        "id": "ax4l1eckhS28",
        "outputId": "1305f3b6-77fa-47ff-8ec4-86ca1b854218"
      },
      "outputs": [
        {
          "output_type": "stream",
          "name": "stdout",
          "text": [
            "CPU times: user 1min 3s, sys: 1.43 s, total: 1min 4s\n",
            "Wall time: 1min 5s\n"
          ]
        }
      ],
      "source": [
        "# TODO code for task 3, hint, popularity of each topic is the ratio of documents discussing one topic, you need to read the topic assignment for each document and then calculate this value.\n",
        "%%time\n",
        "%%capture\n",
        "# Set training parameters.\n",
        "num_topics = 12\n",
        "passes = 2\n",
        "iterations = 500\n",
        "\n",
        "# Make an index to word dictionary.\n",
        "temp = dictionary[0]  # This is only to \"load\" the dictionary. \n",
        "id2word = dictionary.id2token\n",
        "\n",
        "model_3 = LdaModel(\n",
        "    corpus=corpus,\n",
        "    id2word=id2word,\n",
        "    # iterations=iterations,\n",
        "    num_topics=num_topics,\n",
        "    passes=passes,\n",
        ")"
      ]
    },
    {
      "cell_type": "code",
      "source": [
        "# feed the LDA model into the pyLDAvis instance\n",
        "lda_viz = gensimvis.prepare(model_3, corpus, dictionary)\n",
        "lda_viz"
      ],
      "metadata": {
        "colab": {
          "base_uri": "https://localhost:8080/",
          "height": 897
        },
        "id": "vfwPiSG4hS29",
        "outputId": "b647a5c6-fea9-47a8-a356-fef5e67e5cfb"
      },
      "execution_count": 38,
      "outputs": [
        {
          "output_type": "stream",
          "name": "stderr",
          "text": [
            "/usr/local/lib/python3.7/dist-packages/pyLDAvis/_prepare.py:247: FutureWarning: In a future version of pandas all arguments of DataFrame.drop except for the argument 'labels' will be keyword-only\n",
            "  by='saliency', ascending=False).head(R).drop('saliency', 1)\n"
          ]
        },
        {
          "output_type": "execute_result",
          "data": {
            "text/plain": [
              "PreparedData(topic_coordinates=              x         y  topics  cluster       Freq\n",
              "topic                                                \n",
              "11    -0.242535 -0.037313       1        1  13.735194\n",
              "1     -0.015340  0.071214       2        1  10.236604\n",
              "2      0.095746 -0.245859       3        1   9.166183\n",
              "8     -0.217356 -0.116273       4        1   9.142398\n",
              "4      0.156321  0.199363       5        1   8.305640\n",
              "3      0.138772  0.139209       6        1   8.163731\n",
              "7     -0.111806  0.132836       7        1   7.573122\n",
              "9     -0.017816 -0.156749       8        1   7.510082\n",
              "6      0.158105 -0.180801       9        1   7.309315\n",
              "0     -0.061559  0.098619      10        1   7.007847\n",
              "5     -0.098462  0.108571      11        1   5.926497\n",
              "10     0.215929 -0.012816      12        1   5.923389, topic_info=          Term          Freq         Total Category  logprob  loglift\n",
              "73      column  20097.000000  20097.000000  Default  30.0000  30.0000\n",
              "19        data  27001.000000  27001.000000  Default  29.0000  29.0000\n",
              "12    function  14626.000000  14626.000000  Default  28.0000  28.0000\n",
              "269     ggplot  10126.000000  10126.000000  Default  27.0000  27.0000\n",
              "5041     shiny   8855.000000   8855.000000  Default  26.0000  26.0000\n",
              "...        ...           ...           ...      ...      ...      ...\n",
              "14           r   3721.843739  84285.613877  Topic12  -2.8926  -0.2937\n",
              "618       show    720.583131   1797.018524  Topic12  -4.5345   1.9124\n",
              "99         use   1583.167274  24705.379171  Topic12  -3.7474   0.0787\n",
              "556    cluster    454.712896   1300.691494  Topic12  -4.9949   1.7753\n",
              "166        get    471.787898   5286.012241  Topic12  -4.9581   0.4100\n",
              "\n",
              "[550 rows x 6 columns], token_table=      Topic      Freq    Term\n",
              "term                         \n",
              "0        11  0.998978  access\n",
              "1306     10  0.998315  accord\n",
              "530       1  0.998823  across\n",
              "147       3  0.593185     add\n",
              "147       4  0.132173     add\n",
              "...     ...       ...     ...\n",
              "441       6  0.999221     xml\n",
              "1320      8  0.998098      xt\n",
              "804      11  0.999419    year\n",
              "1543      1  0.013910    zero\n",
              "1543      8  0.985317    zero\n",
              "\n",
              "[664 rows x 3 columns], R=30, lambda_step=0.01, plot_opts={'xlab': 'PC1', 'ylab': 'PC2'}, topic_order=[12, 2, 3, 9, 5, 4, 8, 10, 7, 1, 6, 11])"
            ],
            "text/html": [
              "\n",
              "<link rel=\"stylesheet\" type=\"text/css\" href=\"https://cdn.jsdelivr.net/gh/bmabey/pyLDAvis@3.3.1/pyLDAvis/js/ldavis.v1.0.0.css\">\n",
              "\n",
              "\n",
              "<div id=\"ldavis_el19201406269738532645345936102\"></div>\n",
              "<script type=\"text/javascript\">\n",
              "\n",
              "var ldavis_el19201406269738532645345936102_data = {\"mdsDat\": {\"x\": [-0.2425352945448503, -0.01534001210079947, 0.09574571257337385, -0.21735581166032195, 0.15632056073458525, 0.1387722459279576, -0.11180575859176399, -0.017816149185051113, 0.15810534503952575, -0.061558712053629956, -0.09846159917500016, 0.2159294730359747], \"y\": [-0.03731335153028259, 0.07121360269656395, -0.24585895756505477, -0.11627332982495964, 0.1993629614965693, 0.13920938493047907, 0.13283564307142068, -0.156749032425592, -0.18080121319481834, 0.09861945457969172, 0.10857083161931926, -0.012815993853336798], \"topics\": [1, 2, 3, 4, 5, 6, 7, 8, 9, 10, 11, 12], \"cluster\": [1, 1, 1, 1, 1, 1, 1, 1, 1, 1, 1, 1], \"Freq\": [13.735194093025694, 10.236604226488394, 9.166183150151367, 9.142398200217992, 8.305639638988072, 8.163730596790748, 7.573121796402378, 7.510081868946315, 7.309314559471063, 7.00784667085639, 5.926496506814101, 5.923388691847488]}, \"tinfo\": {\"Term\": [\"column\", \"data\", \"function\", \"ggplot\", \"shiny\", \"table\", \"row\", \"frame\", \"value\", \"file\", \"error\", \"package\", \"plot\", \"loop\", \"two\", \"group\", \"vector\", \"time\", \"date\", \"string\", \"different\", \"list\", \"name\", \"dplyr\", \"dataframe\", \"x\", \"base\", \"axis\", \"character\", \"variable\", \"row\", \"frame\", \"name\", \"new\", \"condition\", \"subset\", \"duplicate\", \"aggregate\", \"every\", \"lapply\", \"pas\", \"several\", \"across\", \"operation\", \"correspond\", \"sapply\", \"spatial\", \"quote\", \"expand\", \"iteration\", \"daily\", \"normal\", \"forecasting\", \"measure\", \"differ\", \"id\", \"training\", \"digit\", \"unknown\", \"collapse\", \"column\", \"select\", \"base\", \"dataframe\", \"data\", \"create\", \"value\", \"multiple\", \"variable\", \"list\", \"index\", \"extract\", \"r\", \"single\", \"number\", \"matrix\", \"remove\", \"use\", \"change\", \"function\", \"loop\", \"argument\", \"call\", \"app\", \"inside\", \"nest\", \"first\", \"class\", \"assign\", \"unique\", \"custom\", \"define\", \"cell\", \"node\", \"json\", \"expression\", \"prediction\", \"passing\", \"empty\", \"program\", \"link\", \"avoid\", \"dynamically\", \"pair\", \"paste\", \"term\", \"efficient\", \"double\", \"item\", \"apply\", \"within\", \"r\", \"work\", \"use\", \"object\", \"result\", \"parameter\", \"list\", \"variable\", \"get\", \"return\", \"create\", \"multiple\", \"color\", \"bar\", \"level\", \"legend\", \"ggplot\", \"plotly\", \"chart\", \"scale\", \"stack\", \"found\", \"position\", \"categorical\", \"barplot\", \"grouped\", \"colour\", \"facet\", \"exist\", \"studio\", \"modify\", \"environment\", \"boxplot\", \"month\", \"summary\", \"handle\", \"installation\", \"case\", \"continuous\", \"arrange\", \"shape\", \"global\", \"grid\", \"factor\", \"plot\", \"add\", \"variable\", \"line\", \"label\", \"change\", \"use\", \"r\", \"multiple\", \"order\", \"point\", \"create\", \"make\", \"vector\", \"character\", \"na\", \"another\", \"replace\", \"rstudio\", \"numeric\", \"miss\", \"type\", \"keep\", \"observation\", \"separate\", \"pattern\", \"string\", \"mutate\", \"part\", \"last\", \"second\", \"network\", \"df\", \"null\", \"connection\", \"url\", \"trouble\", \"structure\", \"stop\", \"conditionally\", \"original\", \"period\", \"criterion\", \"purrr\", \"element\", \"value\", \"one\", \"list\", \"return\", \"n\", \"dataset\", \"remove\", \"r\", \"length\", \"convert\", \"matrix\", \"dataframe\", \"find\", \"code\", \"test\", \"generate\", \"random\", \"html\", \"install\", \"python\", \"sample\", \"instal\", \"compare\", \"markdown\", \"distribution\", \"scrap\", \"knitr\", \"version\", \"effect\", \"standard\", \"estimate\", \"chunk\", \"rcpp\", \"maximum\", \"equivalent\", \"best\", \"sparklyr\", \"confidence\", \"system\", \"want\", \"ubuntu\", \"divide\", \"example\", \"package\", \"run\", \"r\", \"error\", \"script\", \"use\", \"model\", \"parallel\", \"output\", \"work\", \"get\", \"file\", \"csv\", \"merge\", \"read\", \"write\", \"load\", \"excel\", \"unable\", \"message\", \"reading\", \"reference\", \"fail\", \"parse\", \"xml\", \"v\", \"join\", \"web\", \"binary\", \"rvest\", \"heatmap\", \"directory\", \"ho\", \"warn\", \"percentage\", \"forecast\", \"dimension\", \"append\", \"encode\", \"rename\", \"equal\", \"cannot\", \"save\", \"difference\", \"text\", \"r\", \"error\", \"cluster\", \"use\", \"package\", \"library\", \"multiple\", \"matrix\", \"table\", \"dplyr\", \"specific\", \"input\", \"issue\", \"large\", \"word\", \"import\", \"store\", \"analysis\", \"download\", \"dynamic\", \"start\", \"regex\", \"document\", \"calculation\", \"like\", \"query\", \"path\", \"perform\", \"invalid\", \"feature\", \"end\", \"option\", \"execute\", \"individual\", \"group_by\", \"identify\", \"determine\", \"correct\", \"number\", \"frequency\", \"way\", \"include\", \"data\", \"use\", \"r\", \"set\", \"extract\", \"result\", \"two\", \"calculate\", \"series\", \"sum\", \"dataframes\", \"fill\", \"certain\", \"correlation\", \"statement\", \"distance\", \"array\", \"produce\", \"sequence\", \"weight\", \"delete\", \"many\", \"wrong\", \"box\", \"log\", \"xt\", \"symbol\", \"multi\", \"lag\", \"event\", \"datasets\", \"layer\", \"tab\", \"obtain\", \"total\", \"iterate\", \"together\", \"different\", \"zero\", \"time\", \"histogram\", \"igraph\", \"contain\", \"matrix\", \"r\", \"combine\", \"index\", \"one\", \"plot\", \"multiple\", \"shiny\", \"window\", \"display\", \"image\", \"pdf\", \"raster\", \"page\", \"reactive\", \"default\", \"average\", \"source\", \"coordinate\", \"polygon\", \"break\", \"datatable\", \"control\", \"header\", \"font\", \"area\", \"move\", \"fails\", \"scatter\", \"folder\", \"next\", \"hour\", \"spark\", \"increase\", \"interactive\", \"linux\", \"console\", \"size\", \"graph\", \"command\", \"line\", \"output\", \"point\", \"plot\", \"r\", \"open\", \"change\", \"add\", \"use\", \"multiple\", \"create\", \"text\", \"date\", \"regression\", \"format\", \"linear\", \"predict\", \"long\", \"sort\", \"caret\", \"day\", \"button\", \"information\", \"subsetting\", \"transform\", \"coefficient\", \"accord\", \"limit\", \"p\", \"glm\", \"lm\", \"operator\", \"automatically\", \"probability\", \"reshape\", \"form\", \"counting\", \"logistic\", \"occurrence\", \"field\", \"expect\", \"wide\", \"model\", \"convert\", \"interval\", \"fit\", \"extract\", \"conditional\", \"r\", \"time\", \"give\", \"data\", \"use\", \"variable\", \"error\", \"result\", \"object\", \"group\", \"match\", \"count\", \"server\", \"update\", \"leaflet\", \"range\", \"access\", \"specify\", \"connect\", \"combination\", \"year\", \"per\", \"category\", \"render\", \"true\", \"attribute\", \"previous\", \"api\", \"search\", \"database\", \"ifelse\", \"roll\", \"key\", \"appear\", \"google\", \"twitter\", \"algorithm\", \"speed\", \"mac\", \"problem\", \"possible\", \"r\", \"use\", \"value\", \"number\", \"get\", \"within\", \"variable\", \"x\", \"axis\", \"map\", \"filter\", \"rmarkdown\", \"check\", \"fix\", \"c\", \"space\", \"curve\", \"compute\", \"instead\", \"must\", \"integer\", \"max\", \"side\", \"density\", \"similar\", \"build\", \"k\", \"retrieve\", \"classification\", \"score\", \"tick\", \"correctly\", \"efficiently\", \"ggplotly\", \"small\", \"ggmap\", \"partial\", \"mean\", \"error\", \"label\", \"export\", \"try\", \"plot\", \"r\", \"show\", \"use\", \"cluster\", \"get\"], \"Freq\": [20097.0, 27001.0, 14626.0, 10126.0, 8855.0, 7983.0, 10329.0, 10316.0, 16871.0, 8071.0, 12981.0, 8815.0, 12881.0, 6975.0, 5698.0, 5047.0, 5871.0, 6068.0, 4653.0, 5177.0, 4875.0, 8514.0, 5561.0, 4248.0, 6654.0, 3612.0, 5945.0, 3078.0, 3581.0, 9652.0, 10328.266178625552, 10315.189569503524, 5560.476261049445, 3047.5467916555713, 2548.071478916793, 2274.9199294556274, 1126.0638239972927, 1103.4042168171284, 991.7448170345542, 843.9004283822284, 770.8649767497336, 742.5638851476011, 701.9323503790633, 499.09878602963255, 401.0594886732393, 347.244117863865, 343.84874376750656, 332.22433802423, 331.4896270065182, 320.13433980456256, 306.3319371164874, 296.25298737151434, 271.7843699965656, 270.3029492761774, 270.1539988335201, 1293.1080660823757, 264.05721687936034, 262.7205778742248, 249.7165046090363, 244.31343514480892, 20000.30535413945, 2250.9561993440834, 5354.365678212143, 5604.204544032957, 20375.540120288115, 3630.457552156679, 6158.9048374407275, 3459.498548790425, 2916.512741887674, 2614.0626512307626, 882.7821851349311, 1362.7643835304882, 9265.419039480536, 737.854165675271, 1218.4502907432166, 1211.5063508808307, 936.4082594703319, 1684.5505543817792, 857.4956996929992, 14626.008418144189, 6974.334520019189, 2386.6771834433284, 1949.996910081425, 1867.2762864240037, 1430.6020647258208, 1424.6796472519077, 1398.0106136281372, 1414.0862099091453, 1248.1897910301814, 1162.6916698558905, 1080.9844837408086, 986.4666819873602, 977.76049920201, 936.9281950329143, 817.4642467038416, 798.3596846652919, 616.2298939868921, 609.4002672820195, 602.98269403726, 882.2799425898818, 576.1584244325159, 557.737052001843, 557.208558047822, 537.2129965918499, 526.4049413178564, 509.0219695423698, 499.5133469542215, 512.089190459859, 494.5759998489577, 2265.305015864669, 1535.452433889508, 11072.893368871124, 1582.3614729573899, 4964.932317548712, 1666.8595567018654, 1204.7477068816133, 789.7827481265441, 1448.6704954830793, 1416.504173761762, 1005.4868449300934, 857.525071813995, 1008.0801989651815, 944.0812615505637, 2658.7718585742477, 2141.2814186509, 2008.3002393400643, 1979.2863433096, 10122.237081162019, 1773.3163046512936, 1389.4172456422075, 1201.604139851851, 1074.4194887126046, 870.8883211632032, 862.6221505363899, 831.4761292078136, 790.9773119898687, 769.9865123033429, 737.5751403139352, 702.1494827159756, 699.918463342586, 664.0012383254375, 641.1752858623532, 631.6739069469679, 617.3225090550322, 591.6929772934913, 559.8953388387697, 491.31597471275916, 488.9129067426535, 471.55138414748575, 427.3906799523035, 394.6475967201833, 390.2140311452735, 385.95323990637974, 770.382427282794, 2480.487129201236, 7328.407848287542, 3163.67720491396, 3708.2115941118964, 1842.9447007441204, 1563.5756148859925, 1781.9884054598976, 2803.3805426537, 4242.22914996591, 1624.4116309768979, 941.6105515289652, 972.645389596784, 1101.2847125889175, 707.308715016939, 5870.926660969531, 3580.3224164808266, 2898.0148759679296, 2856.972427612538, 2182.227735727097, 1908.1912551007376, 1657.084605726434, 1612.051490384722, 1510.8797627619554, 1167.145976304522, 998.3031608711613, 985.0159616191128, 909.2434762359218, 5172.257269995744, 837.6563268753142, 804.617652031944, 777.0995864470027, 747.4134753012796, 708.9229092727671, 631.7104328032867, 560.3962737099425, 558.6211372451584, 539.9026525785388, 487.36440406979966, 451.0882586501227, 424.60347353232726, 413.7306239464366, 402.8372651041226, 399.438060944515, 399.0969316888521, 442.1884477892332, 2611.9293760926057, 8682.008155494048, 2844.569201440873, 4450.974228118337, 1762.8407553732454, 806.0438898521613, 960.9356817243919, 1392.6921082981519, 6519.040397060221, 965.8891738499095, 1367.9039936429185, 1132.6624364103945, 1049.1226854345489, 928.9793647923617, 2808.9868088845237, 2131.594248857597, 1662.963261014763, 1333.7789323803067, 1219.0971564292963, 1204.7421624410617, 1177.2769771426626, 1130.4790777153853, 1058.5708331337482, 1027.874000846152, 990.5799861749061, 960.4765767601126, 830.3771169245366, 752.7291193731294, 645.4009470710862, 572.4511436380866, 562.3396755787031, 533.8595863570342, 507.5908039988526, 498.4145819608564, 491.07272752361433, 462.30123154695735, 461.539549440569, 474.86302401581804, 433.7383717591056, 402.421461670614, 398.1883259028779, 380.5797647543173, 374.6504899849662, 372.1028400156765, 6951.078461046797, 1676.6858142255855, 11143.954064235118, 3047.4438999390422, 799.8411786930268, 2378.3466341127823, 953.9817177352926, 525.2410573129005, 590.2326110965123, 580.124913306563, 564.5045116793971, 8071.023824226345, 2171.85920710208, 1756.5260292875773, 1745.9057494454116, 1688.5786457695901, 1582.4901254544877, 1092.2442876727257, 1096.0515756917741, 1001.9883698878857, 877.0962748198558, 824.5216235632213, 777.2803815253842, 763.3083748038737, 761.7014143402121, 738.4010047126233, 730.37611339149, 722.5779684491989, 719.130277262427, 695.5880823950654, 690.4697849062528, 649.3478510718819, 631.5745029296277, 609.1701767205159, 574.9985666570711, 536.554067163823, 514.5988814918974, 501.68123250461593, 467.91679205988663, 464.1774159171314, 452.26659496893217, 1117.9858189957565, 1233.7788430140745, 1001.6173538632121, 1532.4109771038804, 9942.46278098312, 3108.101813766127, 845.1708845378464, 3078.1754285229804, 1856.5793556013232, 756.6293968990765, 856.5726680528901, 723.9027671324236, 7982.56657721892, 4247.76307582585, 2636.664907690037, 2027.0350140684181, 1516.8469054220884, 1485.7424665230005, 1482.7469873766709, 1300.7102294297233, 1108.631644906104, 1078.1121830784823, 1005.1725696664848, 841.7302796999686, 820.4598833938514, 813.4607050863964, 777.1998815790874, 734.7596631305684, 663.5819363799037, 653.6940090601094, 641.0182266823545, 592.0281358087967, 564.5478445269246, 499.45113711456736, 499.3962930157528, 493.47440950644, 467.8201628877937, 460.3098391783407, 427.5935354130009, 408.95509621631896, 405.4865267569647, 401.78035283452476, 2668.2002645083817, 699.5840492403267, 1203.4882713461016, 678.4344538574002, 4740.119177381535, 3537.7248299480857, 5016.066860828427, 741.5850352123342, 633.6255059894556, 607.7000768880414, 5697.560375819125, 3235.0819183074564, 2165.4990305535794, 1884.1849672142132, 1472.9340898632913, 1338.085586966128, 1208.7141340961534, 1061.2898143936584, 996.8297646505113, 996.3653297090746, 964.7583833975473, 887.2488058939499, 932.9923970565693, 779.9265961099957, 768.8535728032869, 874.435459712629, 668.3051521899388, 635.9520021111185, 582.600771573632, 549.1594737359828, 537.5528417960649, 536.8396194107517, 453.1784195516598, 447.169346534626, 439.66021525377295, 425.5806139227156, 399.4135343014817, 387.75889700870607, 380.87466777776837, 363.1425765978686, 382.81379068919375, 4705.567616251757, 850.3169520360492, 4783.506744542774, 820.5345262617843, 667.5922469332985, 674.4158253055473, 2056.643503636237, 6364.211781262148, 802.3950040193986, 780.5387337308274, 1051.1753125007374, 1243.7745323732051, 791.2078936726201, 8854.932665987133, 1393.2607838623496, 1243.8109572750739, 1096.9801103958127, 1043.0661356487992, 934.1851465838907, 933.391991036951, 876.4465247078163, 838.7602547277224, 821.6566759834398, 637.0892876152968, 606.5164168380181, 594.7164243988271, 592.825397743622, 528.053355818775, 502.8216881701246, 621.8846061231438, 474.45779301498993, 461.06585660372826, 448.8536609412906, 436.50137636986676, 428.8870754029735, 423.3392691050746, 409.4024867635725, 391.976406452169, 387.07344896308183, 424.88005419713545, 376.9949952757149, 368.55698232676286, 359.7163729125751, 1513.583383136878, 1784.8043074836662, 677.4282188284798, 1681.320001539433, 1548.1454891141993, 1121.4984859074934, 2588.9615599951453, 6408.537555429706, 495.8523903374729, 865.4525354076037, 788.6043356867705, 867.5432591690915, 624.1883375592427, 533.2336361053815, 504.4515961979492, 4652.53095385966, 2661.0449205821715, 2525.9550234020335, 1177.3508430937907, 1090.9943599187256, 1018.5822546719783, 937.639789713193, 916.8276088678754, 827.4650146791688, 701.3762871360284, 689.6022660223783, 675.7096742265987, 650.1925752798253, 621.4302613474636, 588.1019271191317, 558.6489341390917, 548.5951743681646, 541.4161367946111, 530.9093593342607, 520.7531739911924, 505.61952752913965, 495.9773935317004, 457.833244898092, 428.8018650171006, 427.27432206760835, 425.420378522748, 420.76654374203144, 412.75582087991774, 377.76160074802783, 375.2006655237398, 2974.420267894285, 2704.055227139902, 914.4000969150619, 664.804328496179, 1444.2504298389206, 748.7267154815794, 5783.843407265846, 1284.2966787838814, 791.6361870412397, 1840.3791291844843, 1336.849837924957, 988.8880862746898, 1047.0530126781512, 618.5056025222854, 596.7175489993839, 5046.717814807495, 2868.310746433644, 1990.508091671815, 1505.4335043073447, 1286.9879726793229, 1156.1304203938005, 1127.192026716008, 1059.1927827518186, 1031.8852612828898, 1013.1862575070752, 940.9684056747282, 890.6274654317925, 779.5369577199333, 744.1598502802657, 722.9653936743309, 703.3436867360379, 699.5655964273465, 689.826223047916, 664.6540323991246, 653.1953829887133, 627.8005248219357, 564.1457687613602, 558.1082819713439, 504.74694037070657, 490.5790235073266, 443.742891269468, 441.8611036121963, 433.99535320582913, 411.36287986284634, 400.08300888251244, 625.5815450915574, 628.9006612749477, 4805.111733077412, 1443.737771939712, 1284.9721403023868, 863.8691988491804, 738.148327811678, 607.3886891720249, 610.9922867277902, 3611.4723223956235, 3077.2504651568524, 2091.994333553328, 2032.8422319639083, 1622.951019666961, 980.3098019929048, 900.4081412738384, 896.8523943092152, 877.0569457116583, 863.4912923605277, 748.9824580862098, 714.4904681461181, 674.0814671306259, 638.3415296293261, 606.9549324755832, 554.0202448319376, 541.694910159795, 485.580479394065, 465.98950985273643, 431.1010681644832, 430.71971785120826, 426.1558953925611, 412.95283280826243, 398.11878399030076, 376.2467161333278, 356.3275170610687, 345.78393284416927, 342.98291369885783, 347.42720658075245, 336.38946464463436, 1375.246591715548, 5226.458163706539, 1411.0920829315003, 527.9362836075877, 622.3356344768932, 1719.5744398307243, 3721.843738701943, 720.5831311080464, 1583.1672743344132, 454.7128963585777, 471.7878980627958], \"Total\": [20097.0, 27001.0, 14626.0, 10126.0, 8855.0, 7983.0, 10329.0, 10316.0, 16871.0, 8071.0, 12981.0, 8815.0, 12881.0, 6975.0, 5698.0, 5047.0, 5871.0, 6068.0, 4653.0, 5177.0, 4875.0, 8514.0, 5561.0, 4248.0, 6654.0, 3612.0, 5945.0, 3078.0, 3581.0, 9652.0, 10329.160821048128, 10316.084182330102, 5561.370832752804, 3048.441424037583, 2548.966049302959, 2275.81450050135, 1126.9583936268473, 1104.2987876497984, 992.6393956287026, 844.7950041923652, 771.7595612668201, 743.4584604104045, 702.8269272687411, 499.9933570712838, 401.9540589055605, 348.13869521310863, 344.74333088745806, 333.1189173988217, 332.38420699545287, 321.02891923575953, 307.2265267384788, 297.1475763281755, 272.6789565943409, 271.19753999837974, 271.0485756354936, 1297.4387243127874, 264.95180258822876, 263.6151628355814, 250.61110375623537, 245.20800820845585, 20097.529591231, 2266.741109129124, 5945.868659894628, 6654.141493990826, 27001.898819971142, 7242.282744756818, 16871.184909289328, 8743.204210005057, 9652.447546171063, 8514.440868326425, 1664.129577255084, 3441.3736862890105, 84285.61387716151, 1379.317922267688, 4751.253013402457, 5865.491945450261, 2956.950797858723, 24705.379171465225, 4448.609782614114, 14626.933627088443, 6975.226777403975, 2387.57019412799, 1950.8891897917867, 1868.1685557132066, 1431.4943239998036, 1425.5719070818523, 1398.902879232917, 1415.0245709980352, 1249.0820557705792, 1163.583935438302, 1081.8767459528854, 987.3589448955018, 978.6527634715978, 937.8204609074353, 818.3565081669677, 799.251940699924, 617.1221578161188, 610.2925245982991, 603.8749566670166, 883.6408209552294, 577.0522603255363, 558.6293149119002, 558.1008237865879, 538.105257914487, 527.2972028753231, 509.9142339031219, 500.40560538837326, 513.009451445575, 495.4682620946009, 2609.9023950281926, 2732.7409413802925, 84285.61387716151, 3402.220758077725, 24705.379171465225, 4056.285510668173, 2815.8343335285463, 1181.2716575877519, 8514.440868326425, 9652.447546171063, 5286.01224125033, 2710.1698804690377, 7242.282744756818, 8743.204210005057, 2659.6640190139055, 2142.1735537352956, 2009.1923820573015, 1980.1784779518093, 10126.996549320984, 1774.208446091363, 1390.3093809907655, 1202.496430416953, 1075.3116283606257, 871.7804722252167, 863.5143192823285, 832.3682695300391, 791.8694479426034, 770.8786671186226, 738.4672785656287, 703.0416178523449, 700.8106112453677, 664.8933895381028, 642.0674326222135, 632.5660521129942, 618.2146487687558, 592.5851253324003, 560.7874853357416, 492.2093938217605, 489.805062815576, 472.44353563950193, 428.2828205993688, 395.5397365304, 391.10617314767995, 386.8453822865097, 788.0970268277194, 2975.794712868435, 12881.360989234454, 5333.919705515472, 9652.447546171063, 3525.078355305025, 2975.4752082273053, 4448.609782614114, 24705.379171465225, 84285.61387716151, 8743.204210005057, 2015.597258094026, 2513.090657062106, 7242.282744756818, 2581.207332875916, 5871.81949180437, 3581.2145938196363, 2898.907058742584, 2857.86460781639, 2183.1199100369327, 1909.0834433671055, 1657.9793885998813, 1612.9449067940375, 1511.7719456576694, 1168.038162525057, 999.1953449791398, 985.9081446677014, 910.1356581677999, 5177.402951662923, 838.5485128596667, 805.5098425473573, 777.9917672981057, 748.3056604688744, 709.8150937990122, 632.6026143870268, 561.2884546109574, 559.5133281374773, 540.7948414909387, 488.2565904204718, 451.98044138602563, 425.495661418944, 414.6228049388818, 403.72945183838647, 400.3302463363721, 399.9891111989499, 446.13695025720705, 3081.125670680026, 16871.184909289328, 4553.528787986063, 8514.440868326425, 2710.1698804690377, 1051.097480200038, 1515.5873876421633, 2956.950797858723, 84285.61387716151, 1787.550339503739, 4072.769237079529, 5865.491945450261, 6654.141493990826, 3674.5124550072046, 2809.880429248583, 2132.4878610031374, 1663.8568994326863, 1334.6725454403602, 1219.9907687344835, 1205.6357676361636, 1178.170586206191, 1131.3726865798014, 1059.4648423840883, 1028.7676192488207, 991.4735953066084, 961.3701844936829, 831.2707317750792, 753.6227267589956, 646.2945547538743, 573.3447530522428, 563.2332869755628, 534.7531974724757, 508.48441186016487, 499.30819060805015, 491.96634360354227, 463.1948397871084, 462.43316328095204, 475.81260771100114, 434.6319809926629, 403.315069795993, 399.0819463226871, 381.47505897568175, 375.54410992399653, 372.9964796048369, 8815.441975535321, 2590.0746796628287, 84285.61387716151, 12981.94405796289, 1377.5653790141628, 24705.379171465225, 3929.2133260896935, 707.9381068941459, 3361.9571773582925, 3402.220758077725, 5286.01224125033, 8071.916609808207, 2172.751620104952, 1757.4184493575156, 1746.7987472050736, 1689.4716514029276, 1583.3825395272954, 1093.1367029533824, 1096.947595706439, 1002.8807860929844, 877.9886879693064, 825.4140476479434, 778.1728017386207, 764.2011624805608, 762.5938302671467, 739.2934271876223, 731.2685370390052, 723.4704009710129, 720.0226969614589, 696.4804985892885, 691.3622070711689, 650.2402658771217, 632.4669201589112, 610.0625951260812, 575.8909913007298, 537.4464881671169, 515.4913031535023, 502.57365369928146, 468.80921150158116, 465.06983322229087, 453.15902057587215, 1242.1706056521314, 1591.7503020734407, 1247.8735937631234, 3058.3065245034763, 84285.61387716151, 12981.94405796289, 1300.6914939987755, 24705.379171465225, 8815.441975535321, 1088.3895170516942, 8743.204210005057, 5865.491945450261, 7983.460865861753, 4248.6568095478915, 2637.5591878231503, 2027.9287487863016, 1517.7406462102779, 1486.6362016747355, 1483.6408193751265, 1301.6039630776054, 1109.52538214659, 1079.01280491261, 1006.0663058770581, 842.624013450396, 821.353773041024, 814.3544370384238, 778.0936150239642, 735.6533960982077, 664.4837912656561, 654.5877392533238, 641.9119648079965, 592.9218684698723, 565.441588489073, 500.34487396409133, 500.2900252502117, 494.3681663589872, 468.71390109611303, 461.2035778645694, 428.48726496940986, 409.8488280847465, 406.3802633783666, 402.67408692856634, 4751.253013402457, 935.0922665350079, 2254.4947148748524, 944.5757333174963, 27001.898819971142, 24705.379171465225, 84285.61387716151, 3302.4391527586954, 3441.3736862890105, 2815.8343335285463, 5698.461399050223, 3235.968763777386, 2166.3858694820124, 1885.0718115687773, 1473.8215002634101, 1338.9724339166007, 1209.6009813828655, 1062.176659898213, 997.7166091184608, 997.2521729931298, 965.6557056502476, 888.1356618914559, 933.9374273939872, 780.8134435790705, 769.7404187458717, 875.4544243450041, 669.1920018956339, 636.8388535030612, 583.4876196661021, 550.0463147610138, 538.4396878961005, 537.7264667633289, 454.0654720688136, 448.0561916138597, 440.5470579911141, 426.46746364094884, 400.30038268835455, 388.6457461983791, 381.76151920919045, 364.02942259425026, 383.8783937049541, 4875.761022921453, 862.6664704215091, 6068.607998780616, 996.7884188369376, 812.607053650761, 880.9729992123313, 5865.491945450261, 84285.61387716151, 1662.3368060736825, 1664.129577255084, 4553.528787986063, 12881.360989234454, 8743.204210005057, 8855.826519953062, 1394.1546370221272, 1244.704804193678, 1097.8739578449301, 1043.9599823213757, 935.0789942638153, 934.2858405036486, 877.3403731421148, 839.6541134627981, 822.5505276401889, 637.9831383521071, 607.4102641881933, 595.6102697695324, 593.7192484908693, 528.9472019129347, 503.7155363554523, 623.0300626223786, 475.3516350802105, 461.9597037723278, 449.7475095255359, 437.3952275905582, 429.7809234145861, 424.2331201718057, 410.2963401161311, 392.87025926685465, 387.9673022150818, 425.8765615386655, 377.88884071337367, 369.4508318388751, 360.61021985862783, 1785.8609114163164, 2354.089901359839, 876.4209081909491, 3525.078355305025, 3361.9571773582925, 2513.090657062106, 12881.360989234454, 84285.61387716151, 650.2932430642693, 4448.609782614114, 5333.919705515472, 24705.379171465225, 8743.204210005057, 7242.282744756818, 3058.3065245034763, 4653.421448748808, 2661.9354101972967, 2526.8456651601564, 1178.241329998049, 1091.8848534794017, 1019.4727445579135, 938.5302814164016, 917.7180987815889, 828.3555102636193, 702.266783121673, 690.4927604285061, 676.6001644246729, 651.0830668689252, 622.3207512734554, 588.9924217876927, 559.5394283929002, 549.4856678871312, 542.3066247644877, 531.7998488359544, 521.6436653375162, 506.5101400647607, 496.8678832471121, 458.72373254307865, 429.6934385383653, 428.1648130890208, 426.3108632378478, 421.65703984965893, 413.6463148258157, 378.65209143024225, 376.0911498695487, 3929.2133260896935, 4072.769237079529, 1262.9792077713676, 906.0160491234304, 3441.3736862890105, 1311.618433297948, 84285.61387716151, 6068.607998780616, 1866.2648261446734, 27001.898819971142, 24705.379171465225, 9652.447546171063, 12981.94405796289, 2815.8343335285463, 4056.285510668173, 5047.608222308814, 2869.20098552354, 1991.3983266848454, 1506.323744713193, 1287.878211255298, 1157.0206566392078, 1128.0822628050105, 1060.0830198093963, 1032.7760903364192, 1014.0764929579169, 941.8586403457201, 891.517702947515, 780.4271956546111, 745.0500874034402, 723.8556327191055, 704.2339393713798, 700.4558503999907, 690.7164614365902, 665.544267459328, 654.085665262916, 628.6907613681414, 565.0360050962837, 558.9985199862059, 505.63717741620496, 491.4692639227935, 444.6331271543301, 442.75133740098687, 434.8856020544093, 412.253116081534, 400.9732479733353, 630.1917914217516, 991.51361270801, 84285.61387716151, 24705.379171465225, 16871.184909289328, 4751.253013402457, 5286.01224125033, 2732.7409413802925, 9652.447546171063, 3612.3603743051895, 3078.1385162441907, 2092.8823881825674, 2033.7302889574264, 1623.8390758684557, 981.197858267857, 901.2961989594119, 897.7404489950541, 877.9449982460089, 864.3795541663757, 749.8706547345549, 715.3785278146272, 674.9695196316226, 639.2295851669661, 607.8429879681677, 554.9082961629749, 542.5829620177294, 486.4685579630708, 466.87756404151855, 431.9891201904451, 431.6077749325693, 427.0439486753195, 413.84089179558435, 399.00683250717697, 377.13477159938776, 357.21557514809894, 346.67198844180916, 343.8709800400059, 348.33988511641303, 337.27752270521677, 1861.6472473740364, 12981.94405796289, 2975.4752082273053, 758.0696035371801, 1035.3930235648415, 12881.360989234454, 84285.61387716151, 1797.0185243946898, 24705.379171465225, 1300.6914939987755, 5286.01224125033], \"Category\": [\"Default\", \"Default\", \"Default\", \"Default\", \"Default\", \"Default\", \"Default\", \"Default\", \"Default\", \"Default\", \"Default\", \"Default\", \"Default\", \"Default\", \"Default\", \"Default\", \"Default\", \"Default\", \"Default\", \"Default\", \"Default\", \"Default\", \"Default\", \"Default\", \"Default\", \"Default\", \"Default\", \"Default\", \"Default\", \"Default\", \"Topic1\", \"Topic1\", \"Topic1\", \"Topic1\", \"Topic1\", \"Topic1\", \"Topic1\", \"Topic1\", \"Topic1\", \"Topic1\", \"Topic1\", \"Topic1\", \"Topic1\", \"Topic1\", \"Topic1\", \"Topic1\", \"Topic1\", \"Topic1\", \"Topic1\", \"Topic1\", \"Topic1\", \"Topic1\", \"Topic1\", \"Topic1\", \"Topic1\", \"Topic1\", \"Topic1\", \"Topic1\", \"Topic1\", \"Topic1\", \"Topic1\", \"Topic1\", \"Topic1\", \"Topic1\", \"Topic1\", \"Topic1\", \"Topic1\", \"Topic1\", \"Topic1\", \"Topic1\", \"Topic1\", \"Topic1\", \"Topic1\", \"Topic1\", \"Topic1\", \"Topic1\", \"Topic1\", \"Topic1\", \"Topic1\", \"Topic2\", \"Topic2\", \"Topic2\", \"Topic2\", \"Topic2\", \"Topic2\", \"Topic2\", \"Topic2\", \"Topic2\", \"Topic2\", \"Topic2\", \"Topic2\", \"Topic2\", \"Topic2\", \"Topic2\", \"Topic2\", \"Topic2\", \"Topic2\", \"Topic2\", \"Topic2\", \"Topic2\", \"Topic2\", \"Topic2\", \"Topic2\", \"Topic2\", \"Topic2\", \"Topic2\", \"Topic2\", \"Topic2\", \"Topic2\", \"Topic2\", \"Topic2\", \"Topic2\", \"Topic2\", \"Topic2\", \"Topic2\", \"Topic2\", \"Topic2\", \"Topic2\", \"Topic2\", \"Topic2\", \"Topic2\", \"Topic2\", \"Topic2\", \"Topic3\", \"Topic3\", \"Topic3\", \"Topic3\", \"Topic3\", \"Topic3\", \"Topic3\", \"Topic3\", \"Topic3\", \"Topic3\", \"Topic3\", \"Topic3\", \"Topic3\", \"Topic3\", \"Topic3\", \"Topic3\", \"Topic3\", \"Topic3\", \"Topic3\", \"Topic3\", \"Topic3\", \"Topic3\", \"Topic3\", \"Topic3\", \"Topic3\", \"Topic3\", \"Topic3\", \"Topic3\", \"Topic3\", \"Topic3\", \"Topic3\", \"Topic3\", \"Topic3\", \"Topic3\", \"Topic3\", \"Topic3\", \"Topic3\", \"Topic3\", \"Topic3\", \"Topic3\", \"Topic3\", \"Topic3\", \"Topic3\", \"Topic3\", \"Topic3\", \"Topic4\", \"Topic4\", \"Topic4\", \"Topic4\", \"Topic4\", \"Topic4\", \"Topic4\", \"Topic4\", \"Topic4\", \"Topic4\", \"Topic4\", \"Topic4\", \"Topic4\", \"Topic4\", \"Topic4\", \"Topic4\", \"Topic4\", \"Topic4\", \"Topic4\", \"Topic4\", \"Topic4\", \"Topic4\", \"Topic4\", \"Topic4\", \"Topic4\", \"Topic4\", \"Topic4\", \"Topic4\", \"Topic4\", \"Topic4\", \"Topic4\", \"Topic4\", \"Topic4\", \"Topic4\", \"Topic4\", \"Topic4\", \"Topic4\", \"Topic4\", \"Topic4\", \"Topic4\", \"Topic4\", \"Topic4\", \"Topic4\", \"Topic4\", \"Topic4\", \"Topic5\", \"Topic5\", \"Topic5\", \"Topic5\", \"Topic5\", \"Topic5\", \"Topic5\", \"Topic5\", \"Topic5\", \"Topic5\", \"Topic5\", \"Topic5\", \"Topic5\", \"Topic5\", \"Topic5\", \"Topic5\", \"Topic5\", \"Topic5\", \"Topic5\", \"Topic5\", \"Topic5\", \"Topic5\", \"Topic5\", \"Topic5\", \"Topic5\", \"Topic5\", \"Topic5\", \"Topic5\", \"Topic5\", \"Topic5\", \"Topic5\", \"Topic5\", \"Topic5\", \"Topic5\", \"Topic5\", \"Topic5\", \"Topic5\", \"Topic5\", \"Topic5\", \"Topic5\", \"Topic5\", \"Topic6\", \"Topic6\", \"Topic6\", \"Topic6\", \"Topic6\", \"Topic6\", \"Topic6\", \"Topic6\", \"Topic6\", \"Topic6\", \"Topic6\", \"Topic6\", \"Topic6\", \"Topic6\", \"Topic6\", \"Topic6\", \"Topic6\", \"Topic6\", \"Topic6\", \"Topic6\", \"Topic6\", \"Topic6\", \"Topic6\", \"Topic6\", \"Topic6\", \"Topic6\", \"Topic6\", \"Topic6\", \"Topic6\", \"Topic6\", \"Topic6\", \"Topic6\", \"Topic6\", \"Topic6\", \"Topic6\", \"Topic6\", \"Topic6\", \"Topic6\", \"Topic6\", \"Topic6\", \"Topic6\", \"Topic6\", \"Topic7\", \"Topic7\", \"Topic7\", \"Topic7\", \"Topic7\", \"Topic7\", \"Topic7\", \"Topic7\", \"Topic7\", \"Topic7\", \"Topic7\", \"Topic7\", \"Topic7\", \"Topic7\", \"Topic7\", \"Topic7\", \"Topic7\", \"Topic7\", \"Topic7\", \"Topic7\", \"Topic7\", \"Topic7\", \"Topic7\", \"Topic7\", \"Topic7\", \"Topic7\", \"Topic7\", \"Topic7\", \"Topic7\", \"Topic7\", \"Topic7\", \"Topic7\", \"Topic7\", \"Topic7\", \"Topic7\", \"Topic7\", \"Topic7\", \"Topic7\", \"Topic7\", \"Topic7\", \"Topic8\", \"Topic8\", \"Topic8\", \"Topic8\", \"Topic8\", \"Topic8\", \"Topic8\", \"Topic8\", \"Topic8\", \"Topic8\", \"Topic8\", \"Topic8\", \"Topic8\", \"Topic8\", \"Topic8\", \"Topic8\", \"Topic8\", \"Topic8\", \"Topic8\", \"Topic8\", \"Topic8\", \"Topic8\", \"Topic8\", \"Topic8\", \"Topic8\", \"Topic8\", \"Topic8\", \"Topic8\", \"Topic8\", \"Topic8\", \"Topic8\", \"Topic8\", \"Topic8\", \"Topic8\", \"Topic8\", \"Topic8\", \"Topic8\", \"Topic8\", \"Topic8\", \"Topic8\", \"Topic8\", \"Topic8\", \"Topic8\", \"Topic8\", \"Topic9\", \"Topic9\", \"Topic9\", \"Topic9\", \"Topic9\", \"Topic9\", \"Topic9\", \"Topic9\", \"Topic9\", \"Topic9\", \"Topic9\", \"Topic9\", \"Topic9\", \"Topic9\", \"Topic9\", \"Topic9\", \"Topic9\", \"Topic9\", \"Topic9\", \"Topic9\", \"Topic9\", \"Topic9\", \"Topic9\", \"Topic9\", \"Topic9\", \"Topic9\", \"Topic9\", \"Topic9\", \"Topic9\", \"Topic9\", \"Topic9\", \"Topic9\", \"Topic9\", \"Topic9\", \"Topic9\", \"Topic9\", \"Topic9\", \"Topic9\", \"Topic9\", \"Topic9\", \"Topic9\", \"Topic9\", \"Topic9\", \"Topic9\", \"Topic9\", \"Topic10\", \"Topic10\", \"Topic10\", \"Topic10\", \"Topic10\", \"Topic10\", \"Topic10\", \"Topic10\", \"Topic10\", \"Topic10\", \"Topic10\", \"Topic10\", \"Topic10\", \"Topic10\", \"Topic10\", \"Topic10\", \"Topic10\", \"Topic10\", \"Topic10\", \"Topic10\", \"Topic10\", \"Topic10\", \"Topic10\", \"Topic10\", \"Topic10\", \"Topic10\", \"Topic10\", \"Topic10\", \"Topic10\", \"Topic10\", \"Topic10\", \"Topic10\", \"Topic10\", \"Topic10\", \"Topic10\", \"Topic10\", \"Topic10\", \"Topic10\", \"Topic10\", \"Topic10\", \"Topic10\", \"Topic10\", \"Topic10\", \"Topic10\", \"Topic10\", \"Topic11\", \"Topic11\", \"Topic11\", \"Topic11\", \"Topic11\", \"Topic11\", \"Topic11\", \"Topic11\", \"Topic11\", \"Topic11\", \"Topic11\", \"Topic11\", \"Topic11\", \"Topic11\", \"Topic11\", \"Topic11\", \"Topic11\", \"Topic11\", \"Topic11\", \"Topic11\", \"Topic11\", \"Topic11\", \"Topic11\", \"Topic11\", \"Topic11\", \"Topic11\", \"Topic11\", \"Topic11\", \"Topic11\", \"Topic11\", \"Topic11\", \"Topic11\", \"Topic11\", \"Topic11\", \"Topic11\", \"Topic11\", \"Topic11\", \"Topic11\", \"Topic11\", \"Topic12\", \"Topic12\", \"Topic12\", \"Topic12\", \"Topic12\", \"Topic12\", \"Topic12\", \"Topic12\", \"Topic12\", \"Topic12\", \"Topic12\", \"Topic12\", \"Topic12\", \"Topic12\", \"Topic12\", \"Topic12\", \"Topic12\", \"Topic12\", \"Topic12\", \"Topic12\", \"Topic12\", \"Topic12\", \"Topic12\", \"Topic12\", \"Topic12\", \"Topic12\", \"Topic12\", \"Topic12\", \"Topic12\", \"Topic12\", \"Topic12\", \"Topic12\", \"Topic12\", \"Topic12\", \"Topic12\", \"Topic12\", \"Topic12\", \"Topic12\", \"Topic12\", \"Topic12\", \"Topic12\"], \"logprob\": [30.0, 29.0, 28.0, 27.0, 26.0, 25.0, 24.0, 23.0, 22.0, 21.0, 20.0, 19.0, 18.0, 17.0, 16.0, 15.0, 14.0, 13.0, 12.0, 11.0, 10.0, 9.0, 8.0, 7.0, 6.0, 5.0, 4.0, 3.0, 2.0, 1.0, -2.713, -2.7143, -3.3322, -3.9335, -4.1125, -4.2259, -4.9291, -4.9495, -5.0562, -5.2176, -5.3081, -5.3455, -5.4018, -5.7428, -5.9615, -6.1056, -6.1154, -6.1498, -6.152, -6.1869, -6.231, -6.2644, -6.3506, -6.3561, -6.3566, -4.7908, -6.3795, -6.3845, -6.4353, -6.4572, -2.0521, -4.2365, -3.37, -3.3244, -2.0335, -3.7585, -3.23, -3.8068, -3.9775, -4.087, -5.1726, -4.7384, -2.8216, -5.3519, -4.8503, -4.856, -5.1136, -4.5264, -5.2016, -2.0711, -2.8116, -3.884, -4.0861, -4.1294, -4.3958, -4.3999, -4.4188, -4.4074, -4.5322, -4.6031, -4.676, -4.7675, -4.7764, -4.819, -4.9554, -4.9791, -5.238, -5.2492, -5.2598, -4.8791, -5.3053, -5.3378, -5.3387, -5.3752, -5.3956, -5.4292, -5.448, -5.4231, -5.4579, -3.9362, -4.3251, -2.3494, -4.295, -3.1515, -4.2429, -4.5676, -4.9899, -4.3832, -4.4057, -4.7484, -4.9076, -4.7458, -4.8114, -3.6656, -3.882, -3.9461, -3.9607, -2.3287, -4.0706, -4.3146, -4.4598, -4.5717, -4.7817, -4.7912, -4.828, -4.8779, -4.9048, -4.9478, -4.997, -5.0002, -5.0529, -5.0879, -5.1028, -5.1258, -5.1682, -5.2234, -5.3541, -5.359, -5.3952, -5.4935, -5.5732, -5.5845, -5.5955, -4.9043, -3.735, -2.6517, -3.4917, -3.3329, -4.0321, -4.1965, -4.0657, -3.6126, -3.1983, -4.1583, -4.7036, -4.6712, -4.547, -4.9897, -2.8708, -3.3654, -3.5768, -3.5911, -3.8605, -3.9947, -4.1358, -4.1633, -4.2281, -4.4863, -4.6425, -4.6559, -4.736, -2.9975, -4.818, -4.8582, -4.893, -4.932, -4.9848, -5.1002, -5.22, -5.2231, -5.2572, -5.3596, -5.4369, -5.4974, -5.5234, -5.5501, -5.5585, -5.5594, -5.4569, -3.6808, -2.4796, -3.5954, -3.1477, -4.0739, -4.8565, -4.6807, -4.3096, -2.7661, -4.6755, -4.3276, -4.5163, -4.5929, -4.7145, -3.512, -3.788, -4.0363, -4.2568, -4.3467, -4.3586, -4.3816, -4.4222, -4.4879, -4.5174, -4.5543, -4.5852, -4.7307, -4.8289, -4.9827, -5.1027, -5.1205, -5.1725, -5.2229, -5.2412, -5.256, -5.3164, -5.318, -5.2896, -5.3802, -5.4551, -5.4657, -5.5109, -5.5266, -5.5334, -2.606, -4.028, -2.134, -3.4305, -4.7682, -3.6784, -4.592, -5.1887, -5.0721, -5.0894, -5.1167, -2.4393, -3.752, -3.9643, -3.9703, -4.0037, -4.0686, -4.4394, -4.4359, -4.5256, -4.6588, -4.7206, -4.7796, -4.7977, -4.7998, -4.8309, -4.8418, -4.8525, -4.8573, -4.8906, -4.898, -4.9594, -4.9872, -5.0233, -5.081, -5.1502, -5.192, -5.2174, -5.2871, -5.2951, -5.3211, -4.4161, -4.3175, -4.526, -4.1008, -2.2308, -3.3936, -4.6958, -3.4033, -3.9089, -4.8065, -4.6824, -4.8507, -2.3753, -3.0061, -3.483, -3.7459, -4.0359, -4.0566, -4.0586, -4.1896, -4.3494, -4.3773, -4.4474, -4.6248, -4.6504, -4.659, -4.7046, -4.7607, -4.8626, -4.8776, -4.8972, -4.9767, -5.0243, -5.1468, -5.1469, -5.1588, -5.2122, -5.2284, -5.3021, -5.3467, -5.3552, -5.3644, -3.4711, -4.8098, -4.2673, -4.8405, -2.8965, -3.189, -2.8399, -4.7515, -4.9088, -4.9506, -2.7041, -3.2701, -3.6715, -3.8107, -4.0569, -4.1529, -4.2546, -4.3847, -4.4473, -4.4478, -4.48, -4.5638, -4.5135, -4.6927, -4.707, -4.5783, -4.8472, -4.8968, -4.9844, -5.0435, -5.0649, -5.0662, -5.2356, -5.249, -5.2659, -5.2985, -5.3619, -5.3915, -5.4094, -5.4571, -5.4044, -2.8954, -4.6063, -2.879, -4.642, -4.8482, -4.8381, -3.7231, -2.5935, -4.6643, -4.6919, -4.3943, -4.226, -4.6784, -2.2361, -4.0854, -4.1989, -4.3245, -4.3749, -4.4851, -4.486, -4.5489, -4.5929, -4.6135, -4.8679, -4.9171, -4.9367, -4.9399, -5.0556, -5.1046, -4.8921, -5.1626, -5.1913, -5.2181, -5.246, -5.2636, -5.2766, -5.3101, -5.3536, -5.3662, -5.273, -5.3926, -5.4152, -5.4395, -4.0026, -3.8378, -4.8065, -3.8975, -3.98, -4.3024, -3.4658, -2.5594, -5.1185, -4.5616, -4.6546, -4.5592, -4.8884, -5.0459, -5.1013, -2.8375, -3.3962, -3.4483, -4.2117, -4.2879, -4.3565, -4.4393, -4.4618, -4.5643, -4.7297, -4.7466, -4.7669, -4.8054, -4.8507, -4.9058, -4.9572, -4.9753, -4.9885, -5.0081, -5.0274, -5.0569, -5.0762, -5.1562, -5.2217, -5.2253, -5.2296, -5.2406, -5.2598, -5.3484, -5.3552, -3.2849, -3.3802, -4.4644, -4.7832, -4.0074, -4.6643, -2.6199, -4.1247, -4.6086, -3.765, -4.0846, -4.3861, -4.329, -4.8554, -4.8913, -2.5886, -3.1536, -3.519, -3.7983, -3.955, -4.0623, -4.0876, -4.1498, -4.176, -4.1942, -4.2682, -4.3232, -4.4564, -4.5028, -4.5317, -4.5593, -4.5646, -4.5787, -4.6158, -4.6332, -4.6729, -4.7798, -4.7906, -4.891, -4.9195, -5.0199, -5.0241, -5.0421, -5.0956, -5.1234, -4.6764, -4.6711, -2.6377, -3.8401, -3.9566, -4.3537, -4.511, -4.7059, -4.7, -2.9227, -3.0828, -3.4687, -3.4974, -3.7226, -4.2267, -4.3117, -4.3157, -4.338, -4.3536, -4.4959, -4.543, -4.6012, -4.6557, -4.7061, -4.7974, -4.8199, -4.9292, -4.9704, -5.0482, -5.0491, -5.0598, -5.0912, -5.1278, -5.1843, -5.2387, -5.2688, -5.2769, -5.264, -5.2963, -3.8882, -2.5531, -3.8625, -4.8456, -4.6811, -3.6647, -2.8926, -4.5345, -3.7474, -4.9949, -4.9581], \"loglift\": [30.0, 29.0, 28.0, 27.0, 26.0, 25.0, 24.0, 23.0, 22.0, 21.0, 20.0, 19.0, 18.0, 17.0, 16.0, 15.0, 14.0, 13.0, 12.0, 11.0, 10.0, 9.0, 8.0, 7.0, 6.0, 5.0, 4.0, 3.0, 2.0, 1.0, 1.9851, 1.9851, 1.985, 1.9849, 1.9849, 1.9848, 1.9844, 1.9844, 1.9843, 1.9841, 1.984, 1.984, 1.9839, 1.9834, 1.983, 1.9826, 1.9826, 1.9825, 1.9825, 1.9824, 1.9823, 1.9822, 1.9819, 1.9819, 1.9819, 1.9819, 1.9818, 1.9818, 1.9816, 1.9816, 1.9804, 1.9782, 1.8804, 1.8135, 1.7036, 1.2946, 0.9775, 1.0581, 0.7884, 0.8044, 1.3512, 1.0589, -0.2227, 1.3596, 0.6244, 0.408, 0.8353, -0.7003, 0.3389, 2.2791, 2.2791, 2.2788, 2.2787, 2.2787, 2.2786, 2.2786, 2.2786, 2.2785, 2.2785, 2.2784, 2.2784, 2.2783, 2.2783, 2.2782, 2.2781, 2.2781, 2.2778, 2.2777, 2.2777, 2.2777, 2.2777, 2.2776, 2.2776, 2.2775, 2.2775, 2.2774, 2.2774, 2.2774, 2.2774, 2.1376, 1.7027, 0.2495, 1.5137, 0.6746, 1.3899, 1.4302, 1.8766, 0.5081, 0.3602, 0.6196, 1.1285, 0.3073, 0.0534, 2.3893, 2.3892, 2.3892, 2.3892, 2.3892, 2.3891, 2.389, 2.3889, 2.3888, 2.3886, 2.3886, 2.3886, 2.3885, 2.3885, 2.3884, 2.3884, 2.3884, 2.3883, 2.3883, 2.3882, 2.3882, 2.3881, 2.3881, 2.3878, 2.3878, 2.3878, 2.3876, 2.3874, 2.3874, 2.3873, 2.3669, 2.2076, 1.8256, 1.8673, 1.433, 1.7411, 1.7462, 1.4748, 0.2135, -0.5995, 0.7065, 1.6286, 1.4404, 0.5062, 1.0951, 2.3921, 2.392, 2.3919, 2.3919, 2.3918, 2.3918, 2.3917, 2.3917, 2.3917, 2.3915, 2.3914, 2.3913, 2.3913, 2.3913, 2.3912, 2.3911, 2.3911, 2.3911, 2.391, 2.3908, 2.3907, 2.3907, 2.3906, 2.3904, 2.3903, 2.3901, 2.3901, 2.39, 2.39, 2.39, 2.3834, 2.227, 1.7279, 1.9218, 1.7436, 1.9622, 2.1268, 1.9366, 1.6393, -0.1672, 1.7767, 1.3012, 0.7477, 0.545, 1.0172, 2.4879, 2.4878, 2.4877, 2.4876, 2.4875, 2.4875, 2.4875, 2.4874, 2.4874, 2.4874, 2.4873, 2.4873, 2.4872, 2.487, 2.4869, 2.4867, 2.4866, 2.4866, 2.4865, 2.4864, 2.4864, 2.4863, 2.4863, 2.4862, 2.4862, 2.486, 2.486, 2.4859, 2.4859, 2.4858, 2.2506, 2.0534, 0.4649, 1.039, 1.9446, 0.1476, 1.0727, 2.1897, 0.7485, 0.7193, 0.2514, 2.5054, 2.5051, 2.505, 2.505, 2.5049, 2.5049, 2.5047, 2.5047, 2.5046, 2.5045, 2.5044, 2.5043, 2.5043, 2.5043, 2.5043, 2.5042, 2.5042, 2.5042, 2.5042, 2.5042, 2.5041, 2.5041, 2.504, 2.5039, 2.5038, 2.5037, 2.5037, 2.5036, 2.5035, 2.5035, 2.4001, 2.2507, 2.2856, 1.8144, 0.3681, 1.0759, 2.0744, 0.4228, 0.9477, 2.1419, 0.1824, 0.4133, 2.5805, 2.5804, 2.5802, 2.5801, 2.58, 2.58, 2.58, 2.5799, 2.5798, 2.5797, 2.5797, 2.5795, 2.5795, 2.5795, 2.5794, 2.5793, 2.5792, 2.5792, 2.5792, 2.5791, 2.579, 2.5788, 2.5788, 2.5788, 2.5787, 2.5786, 2.5785, 2.5784, 2.5784, 2.5783, 2.0036, 2.2904, 1.9529, 2.2496, 0.8407, 0.637, -0.241, 1.0869, 0.8884, 1.0472, 2.5888, 2.5886, 2.5885, 2.5885, 2.5883, 2.5883, 2.5882, 2.5881, 2.588, 2.588, 2.588, 2.5879, 2.5879, 2.5878, 2.5878, 2.5878, 2.5876, 2.5875, 2.5874, 2.5873, 2.5873, 2.5873, 2.587, 2.5869, 2.5869, 2.5868, 2.5867, 2.5866, 2.5866, 2.5865, 2.5861, 2.5534, 2.5745, 2.351, 2.3943, 2.3924, 2.3217, 1.5409, 0.0054, 1.8605, 1.8319, 1.1229, 0.2513, 0.1865, 2.6159, 2.6154, 2.6153, 2.6152, 2.6152, 2.6151, 2.6151, 2.615, 2.615, 2.6149, 2.6146, 2.6145, 2.6145, 2.6145, 2.6143, 2.6142, 2.6142, 2.6141, 2.6141, 2.614, 2.614, 2.6139, 2.6139, 2.6138, 2.6137, 2.6137, 2.6137, 2.6137, 2.6136, 2.6135, 2.4506, 2.3392, 2.3585, 1.8757, 1.8406, 1.8092, 1.0115, 0.0394, 2.3449, 0.9789, 0.7044, -0.7331, -0.0236, 0.0073, 0.8139, 2.6579, 2.6578, 2.6578, 2.6574, 2.6573, 2.6573, 2.6572, 2.6572, 2.6571, 2.6569, 2.6568, 2.6568, 2.6568, 2.6567, 2.6566, 2.6565, 2.6565, 2.6565, 2.6565, 2.6564, 2.6564, 2.6563, 2.6562, 2.6561, 2.6561, 2.656, 2.656, 2.656, 2.6558, 2.6558, 2.3797, 2.2486, 2.3352, 2.3486, 1.7899, 2.0975, -0.021, 1.1052, 1.8005, -0.0278, -0.2586, 0.3798, 0.1406, 1.1424, 0.7416, 2.8256, 2.8254, 2.8253, 2.8251, 2.825, 2.825, 2.8249, 2.8249, 2.8249, 2.8249, 2.8248, 2.8247, 2.8246, 2.8245, 2.8245, 2.8245, 2.8245, 2.8244, 2.8244, 2.8244, 2.8243, 2.8242, 2.8241, 2.824, 2.8239, 2.8237, 2.8237, 2.8237, 2.8236, 2.8235, 2.8184, 2.3705, -0.0388, -0.014, 0.2509, 1.121, 0.8571, 1.3218, 0.0659, 2.826, 2.826, 2.8258, 2.8258, 2.8257, 2.8254, 2.8253, 2.8253, 2.8252, 2.8252, 2.8251, 2.825, 2.8249, 2.8249, 2.8248, 2.8247, 2.8246, 2.8244, 2.8244, 2.8242, 2.8242, 2.8242, 2.8241, 2.824, 2.8239, 2.8238, 2.8237, 2.8237, 2.8236, 2.8236, 2.5234, 1.9164, 2.0802, 2.4645, 2.3172, 0.8126, -0.2937, 1.9124, 0.0787, 1.7753, 0.41]}, \"token.table\": {\"Topic\": [11, 10, 1, 3, 4, 8, 9, 12, 1, 11, 7, 4, 11, 2, 11, 6, 1, 2, 9, 2, 3, 8, 2, 11, 10, 9, 2, 12, 3, 3, 1, 3, 4, 5, 6, 8, 3, 9, 12, 10, 12, 8, 7, 2, 4, 6, 10, 3, 3, 11, 2, 8, 1, 3, 4, 9, 10, 12, 4, 3, 12, 5, 2, 12, 6, 12, 5, 10, 1, 3, 3, 1, 4, 11, 1, 3, 4, 8, 5, 7, 9, 5, 12, 1, 1, 10, 4, 5, 11, 4, 9, 7, 8, 3, 9, 4, 10, 9, 7, 12, 8, 1, 11, 10, 1, 2, 3, 6, 7, 9, 11, 12, 4, 6, 12, 2, 1, 1, 6, 7, 10, 11, 1, 4, 8, 4, 8, 10, 8, 9, 10, 10, 9, 2, 8, 12, 7, 4, 1, 2, 6, 3, 8, 1, 6, 6, 9, 8, 5, 5, 7, 2, 7, 7, 1, 7, 2, 5, 2, 12, 1, 4, 2, 6, 7, 3, 6, 5, 3, 5, 6, 9, 10, 12, 5, 8, 1, 5, 6, 7, 3, 1, 10, 9, 12, 2, 1, 7, 10, 3, 3, 4, 6, 9, 7, 10, 6, 8, 12, 1, 2, 4, 5, 6, 7, 8, 11, 2, 5, 10, 12, 9, 9, 6, 1, 10, 10, 3, 1, 7, 11, 2, 5, 1, 2, 3, 4, 5, 6, 8, 9, 10, 11, 12, 12, 3, 12, 12, 1, 5, 6, 8, 10, 10, 3, 11, 8, 9, 3, 9, 11, 7, 3, 3, 9, 6, 8, 12, 6, 9, 5, 1, 2, 7, 11, 8, 11, 9, 7, 5, 7, 9, 1, 8, 7, 10, 7, 2, 5, 5, 3, 12, 12, 9, 5, 10, 7, 7, 2, 8, 1, 6, 2, 12, 4, 11, 5, 3, 12, 8, 1, 7, 4, 8, 11, 3, 1, 4, 8, 3, 5, 6, 7, 10, 3, 9, 10, 2, 9, 1, 2, 4, 10, 6, 8, 10, 10, 2, 11, 1, 2, 3, 5, 7, 8, 9, 8, 12, 5, 11, 1, 2, 4, 6, 8, 12, 12, 5, 1, 12, 1, 6, 6, 4, 5, 10, 3, 3, 9, 8, 1, 2, 3, 4, 6, 8, 9, 12, 4, 4, 11, 4, 1, 2, 4, 1, 9, 2, 1, 4, 1, 7, 11, 4, 2, 3, 4, 6, 8, 10, 12, 4, 8, 10, 3, 4, 6, 8, 4, 9, 1, 10, 7, 1, 3, 4, 10, 4, 2, 5, 6, 9, 10, 5, 6, 9, 10, 12, 9, 2, 2, 5, 2, 5, 6, 4, 12, 1, 2, 2, 7, 4, 9, 11, 6, 7, 4, 3, 8, 9, 12, 3, 3, 8, 9, 9, 3, 5, 9, 11, 10, 2, 11, 10, 6, 11, 8, 2, 5, 2, 4, 5, 7, 1, 1, 2, 3, 4, 5, 6, 7, 8, 9, 10, 11, 12, 5, 11, 9, 5, 9, 6, 6, 6, 7, 10, 1, 3, 4, 7, 12, 6, 11, 4, 10, 2, 6, 7, 10, 11, 12, 2, 4, 7, 12, 11, 1, 4, 2, 5, 6, 9, 6, 5, 1, 6, 9, 3, 9, 12, 5, 5, 6, 9, 11, 4, 1, 11, 4, 8, 8, 11, 1, 2, 3, 4, 7, 8, 9, 10, 1, 3, 9, 3, 9, 12, 12, 12, 1, 3, 4, 6, 3, 8, 9, 12, 10, 9, 12, 9, 5, 1, 7, 11, 11, 3, 5, 7, 8, 4, 7, 4, 7, 4, 3, 1, 10, 8, 3, 8, 5, 8, 7, 2, 5, 3, 6, 7, 9, 12, 8, 10, 8, 8, 1, 10, 4, 11, 5, 6, 12, 11, 8, 4, 5, 6, 2, 1, 11, 4, 1, 2, 3, 4, 5, 6, 7, 8, 9, 10, 11, 12, 6, 1, 4, 8, 10, 11, 1, 2, 3, 4, 7, 10, 11, 4, 5, 5, 6, 2, 5, 7, 8, 6, 8, 10, 9, 2, 4, 11, 7, 2, 5, 6, 9, 10, 6, 8, 12, 6, 8, 11, 1, 8], \"Freq\": [0.9989783632138631, 0.9983150516866065, 0.998823426882697, 0.5931847824271345, 0.1321729682715328, 0.12429883399152658, 0.1479212368315452, 0.002437232039049541, 0.9988238802176334, 0.9979635976674655, 0.9990613596910076, 0.9996974636887886, 0.9991822220009411, 0.9993744912847221, 0.9990451815459466, 0.9988585679033133, 0.13180569536060527, 0.8678485464877062, 0.9979225379086294, 0.9997611822557543, 0.9986354429642532, 0.9993209736695896, 0.9991337192255862, 0.9993492089476725, 0.998992833460954, 0.999330706598939, 0.9988734660084936, 0.9996301283265251, 0.9994521668268898, 0.9989020312062015, 0.9004571587854218, 0.014127456357485139, 0.08526929015767816, 0.9990632953789932, 0.9985796323285714, 0.9986827852941966, 0.9980352313372469, 0.9987885713783113, 0.9981203550799873, 0.9981961511606144, 0.9991752081619103, 0.9997006263508381, 0.9991118152900901, 0.9995442130714346, 0.09902021464710624, 0.9000373981745103, 0.999217517032145, 0.9990611880446166, 0.9983561728862975, 0.9985905814639928, 0.9993329978763027, 0.9995031573286437, 0.19264445340863443, 0.4005745810667288, 0.1027287225294585, 0.19444276802621793, 0.05754606776267259, 0.05170154525552616, 0.9996608430498043, 0.9990582089075509, 0.9987791878490526, 0.9990473417692535, 0.9992759341293187, 0.9975554069351462, 0.6496544368120513, 0.34981392751418144, 0.9996866666497911, 0.9978777000915481, 0.9950735368829027, 0.999750337257203, 0.999367231860921, 0.995147185091169, 0.004776706488437611, 0.9990883553975733, 0.37958613302341276, 0.13475006940926224, 0.003007814049313889, 0.48245337350994777, 0.22477784151297184, 0.0011410042716394509, 0.7724598918999083, 0.999253845830236, 0.9988389267814952, 0.9996210034640425, 0.42847827213506057, 0.5710502238953031, 0.9984978999431215, 0.998545939966913, 0.9989384499439713, 0.9990825452913051, 0.9983078131871386, 0.2338323651056076, 0.7650631751513569, 0.9970047348675496, 0.9985794832523344, 0.33588939622342934, 0.6639217305468955, 0.9993245682327386, 0.9983259739068188, 0.9969910714024716, 0.9988922182696748, 0.9976264478877059, 0.9997999763886974, 0.9972795216855462, 0.5012231816864654, 0.13918263557574576, 0.15202389064374613, 0.04156148145664631, 0.07967101262619575, 0.07359558012090525, 0.0009665460803871234, 0.011598552964645481, 0.9975271546868236, 0.9996540699369421, 0.9984039949120429, 0.9991896064351461, 0.9960077446713353, 0.7546135972085601, 0.0016665494637998237, 0.17554321018691477, 0.06814335585314835, 0.9989012700510532, 0.8421822717567427, 0.15764618184739884, 0.9994426053200721, 0.634077591193901, 0.16033387581698016, 0.20520096863819273, 0.9987582302930164, 0.9982092694516407, 0.9999094324996243, 0.9983636129091628, 0.9992209727168482, 0.9986236566726545, 0.9990380929364758, 0.9989255799416157, 0.9966035176834327, 0.9990474045264407, 0.9961314106409336, 0.19633398865438845, 0.8029659454354988, 0.034661255792790835, 0.9651826613069449, 0.99766643606929, 0.9990469225174183, 0.9980926037001897, 0.9994337579550562, 0.9987443767714523, 0.9985747586977596, 0.9985511424367522, 0.9985944942834025, 0.9980322946434407, 0.9989401236570302, 0.9998454077188782, 0.9991495749689898, 0.9992594402243051, 0.9980275539119993, 0.9976545472072711, 0.9991894467527828, 0.9965970824547755, 0.15189253864374483, 0.8477421173877382, 0.9985510962868112, 0.9982739001672145, 0.9974214451915835, 0.999105149397279, 0.9974423535155512, 0.9974204380436156, 0.04167326538956701, 0.23471060931979792, 0.2394094433101188, 0.0008473307195660575, 0.08065047848960566, 0.40255912185929243, 0.9985915044995791, 0.9976427251009401, 0.9993558631346707, 0.9973284476950222, 0.99896014565213, 0.9984768936990271, 0.9988433233852907, 0.995835521164001, 0.9982778612742395, 0.302083079088619, 0.6965059640121869, 0.9984336094338068, 0.39606277151197283, 0.18422875798869462, 0.4195998841256704, 0.998518412244887, 0.8333908213747288, 0.16600607490286934, 0.9984928774997014, 0.9990964062577103, 0.9973121060411066, 0.9984375182307913, 0.9998864445889972, 0.9992737461265305, 0.9996409115990494, 0.11865519721014121, 0.17009059233105106, 0.25282265644087426, 0.06395406271647519, 0.07320699093928437, 0.04953038048680206, 0.11620589268057407, 0.15566691010137793, 0.999354580474227, 0.26489596981444175, 0.7339825830275156, 0.9985618501876427, 0.9970932958480321, 0.9971565574188412, 0.9991692416325213, 0.9975100513702237, 0.9983862017052807, 0.9996653277357551, 0.9991047376603601, 0.9998949036949545, 0.7485892302305694, 0.2513120987202626, 0.9999361706894797, 0.9994849921090098, 0.11975000645293114, 0.19012441782811343, 0.012864139713742999, 0.09307583439943463, 0.10688586673918815, 0.10121051098312506, 0.003972749029244161, 0.06242891331669396, 0.08077923026129795, 0.13961375159915196, 0.08929226389539258, 0.9961535122055711, 0.9995066109387271, 0.00039498384150908004, 0.9980616015593601, 0.17146548309601667, 0.14413817172758903, 0.004822466712075469, 0.25559073573999985, 0.4243770706626413, 0.9975906162587354, 0.9978146765472218, 0.9985760684131159, 0.24128220407890752, 0.7582548138747358, 0.9770370573524882, 0.02157094801947052, 0.9998795028690765, 0.9988628250843239, 0.9988601745565137, 0.9975429281989721, 0.9983466887327346, 0.9980296766915571, 0.8236452034203515, 0.1755638375134732, 0.9992617476993202, 0.9977848685505524, 0.9991878883349985, 0.9965788563038779, 0.0030829972352788178, 0.9979289239676171, 0.9981664795040678, 0.8220455347992713, 0.17720742067529202, 0.999203954298501, 0.9995359855265212, 0.28054923565448686, 0.7177825727311022, 0.9979417474032886, 0.5306077195361635, 0.4693144155806837, 0.9973903544501062, 0.9992863640913479, 0.9995420209971098, 0.9996546797346549, 0.9995612479381172, 0.9994726702265891, 0.9983563607714706, 0.998073009237727, 0.998076457667952, 0.9976478778476344, 0.2755389778855308, 0.7236857062855606, 0.9992190378315593, 0.9995120073959097, 0.9990549100105397, 0.997172144529104, 0.9967949328733094, 0.9982652924681518, 0.9983423994879613, 0.997710312264325, 0.9991111912620965, 0.9987398525174496, 0.9991736889866981, 0.5256303247546741, 0.4742099668982386, 0.9976534836177718, 0.9990589383360224, 0.9995720528842101, 0.9987252213457861, 0.9989038703282124, 0.9991178578935899, 0.9994048627611445, 0.15663894538362136, 0.5404043615734937, 0.30264881947335415, 0.9994065366423097, 0.30411906290372587, 0.6955230532269501, 0.9992719291696572, 0.9990359421239545, 0.5228252578347369, 0.4768688325665723, 0.998946455224032, 0.9981764904188355, 0.9987797243908447, 0.3070078282796038, 0.17018146257733205, 0.5227589302496238, 0.9984959588880944, 0.9991268442762365, 0.9991643016069799, 0.9969251000833248, 0.9995362852411336, 0.9998241236531622, 0.9975727857699873, 0.11932400628074855, 0.1538039951086272, 0.27390283259899095, 0.06159908116441239, 0.1216484999095943, 0.10847636934613504, 0.16116489159997205, 0.9983386635505415, 0.9995783861589405, 0.9995223319018779, 0.9995814216119402, 0.20663228443099696, 0.1259911371241805, 0.1931636784326069, 0.12343380687132162, 0.3506952220087135, 0.0003409773670478498, 0.9986131484859511, 0.9980357526157907, 0.26105912421675576, 0.7385932012305333, 0.9955842519869949, 0.9997618954338003, 0.9991217439747592, 0.9994141729267644, 0.242796692575969, 0.7568945112378741, 0.9983375069845015, 0.9990125885592015, 0.9983379351531607, 0.99864900314894, 0.39562154982515263, 0.1079695701170697, 0.18574426045563686, 0.050667923264684195, 0.09801898473551773, 0.0904702647908921, 0.07136971584009692, 0.9985636097580352, 0.9993458782035208, 0.7668175551582592, 0.2321383169461728, 0.99968710319986, 0.9997535081198451, 0.9995988227047606, 0.9988516815067292, 0.999855196811688, 0.9968404784801049, 0.9991251407474716, 0.996138025615568, 0.9977044697777536, 0.25635342857225957, 0.5615360816344734, 0.18184676706603636, 0.9994092878315524, 0.410967126356301, 0.10921321954159648, 0.07346622894671727, 0.1227724228706886, 0.13460590941244172, 0.14717898886305442, 0.0014791858177191396, 0.9988036924059481, 0.9983384709476546, 0.9984417671530086, 0.14340526444520604, 0.62479016438991, 0.0008784395984392407, 0.2308100044899105, 0.23681623889298198, 0.7627328213696043, 0.9980132594618808, 0.9987660823272919, 0.9972324950268062, 0.22276275590123595, 0.4673552696190741, 0.16421931448398464, 0.14536634182419184, 0.9981932161870656, 0.23587450944961513, 0.17549301459681327, 0.12760424281700491, 0.46044607897604567, 0.9991161409377634, 0.788502722755191, 0.21065307957939716, 0.00011343730725869528, 0.0005671865362934764, 0.00011343730725869528, 0.9986237183012905, 0.9979460191138615, 0.25708462113795133, 0.7415902532825519, 0.6687708072275611, 0.33099922231136253, 0.9984282116548189, 0.9993670560923937, 0.9962122506861113, 0.999015805822252, 0.9978821228407642, 0.9975399018461514, 0.9985792992528668, 0.9987522100056094, 0.9990804414559636, 0.9994526130598861, 0.9984528473023735, 0.998445210880396, 0.996677127575181, 0.5688839871908214, 0.0965736462971318, 0.20098807898977028, 0.13352626336902468, 0.9993188815586888, 0.38717266218221996, 0.1663290573403576, 0.44606429014004995, 0.9989753874294872, 0.9994043882413485, 0.22390010298867838, 0.1411982631460134, 0.6343836251345887, 0.9991896091638399, 0.9981816277346288, 0.998962727144073, 0.998253291717226, 0.0063472740433126755, 0.9933483877784337, 0.9987212968241391, 0.9981431132239278, 0.0011316815342674918, 0.006724392584542569, 0.9907271741226051, 0.9990064374209507, 0.9991021230339661, 0.9966410871902478, 0.10992385976452496, 0.13137473277631784, 0.05032887351550079, 0.07734415993577315, 0.1322171066611836, 0.11795607272303368, 0.059511935302628945, 0.07550517469416479, 0.0760390736352769, 0.06862381056427548, 0.057008542489858864, 0.044159374640427615, 0.999496097044434, 0.9990406171245708, 0.9988460929285822, 0.9973799936939607, 0.9984722313219049, 0.9995427365594625, 0.9988739171895333, 0.999498375816206, 0.998336796636917, 0.9996485977106306, 0.31654229778791204, 0.1230997824730769, 0.4710933983104289, 0.00608735188053677, 0.08285562281841714, 0.9976996288602974, 0.9988179511487789, 0.9994870139602576, 0.9984222910398238, 0.42793710753927916, 0.13566139010788766, 0.2159217936795699, 0.21982827349943054, 0.00035513452907824, 0.9985918350690872, 0.31658532041965926, 0.6505127271560132, 0.03283926983374088, 0.9994832764644447, 0.9982137341146617, 0.9998876170999523, 0.9994324798264477, 0.19420289459201218, 0.6474716783912613, 0.15752441549411722, 0.000772178507324104, 0.9993101047477112, 0.9987867069833981, 0.9967291908978645, 0.7752472221255877, 0.22428140867004442, 0.9995871668269478, 0.9981829732962978, 0.9979680794908017, 0.9984713382457654, 0.5807346875779572, 0.24245673206379711, 0.1763981613518045, 0.9983401787860928, 0.9982551776127735, 0.9930556211003859, 0.006617429727457036, 0.9990788749716562, 0.998996263168719, 0.9993602850251494, 0.9991212083605274, 0.20136631418159262, 0.05087148989850761, 0.20742244393141496, 0.1014401733095241, 0.2246824137184086, 0.01665435681201142, 0.11355243280916877, 0.08418020352253044, 0.9993833409197449, 0.9971716806748988, 0.9999066693604263, 0.3700573983921504, 0.22871216652507342, 0.40122012667780516, 0.998363159878388, 0.9990368175796752, 0.5350470606418861, 0.23707369760148614, 0.09787446231254014, 0.12904929104912702, 0.15062763190592687, 0.001119908043910237, 0.8477703892400494, 0.9974671313063271, 0.9994349874192644, 0.9984589900688496, 0.9989236247738789, 0.9975067429405544, 0.9982921686020252, 0.9978438135828631, 0.9997879904171508, 0.9992485395976136, 0.9969603235666358, 0.998780234188832, 0.9978103443030059, 0.9983517783865389, 0.9992817508379519, 0.998835096420746, 0.9995264802815296, 0.9989564359364402, 0.0007725881175069144, 0.9978307880247671, 0.9986563416749812, 0.9996421059356242, 0.9991129703239383, 0.9994314213590169, 0.9985957508747362, 0.999183403627213, 0.9967393487263985, 0.9967514827749567, 0.9999422724217609, 0.9982070829909494, 0.9997712244875767, 0.18245391543628633, 0.5009308215920979, 0.15139097284408704, 0.1647970849101941, 0.997476653467685, 0.7883191665965678, 0.21158064588419587, 0.9977117917565602, 0.9980052489031165, 0.996407638751913, 0.9983365150715197, 0.9974263728434476, 0.9982478274584703, 0.185436829909233, 0.21344551776010673, 0.6007380635601194, 0.9983030262417787, 0.9999190309422294, 0.9994893769130412, 0.9987546788066372, 0.9991361522554515, 0.9994981578719699, 0.9975615455697056, 0.9993180944846934, 0.9985302347027806, 0.0682037700496489, 0.20096837881098328, 0.11345707267012813, 0.015502696693777764, 0.09625434135196742, 0.12458825175834977, 0.1432076785968296, 0.02606719757387175, 0.0351340489039141, 0.05411776887619026, 0.058448809466880136, 0.06407511453329034, 0.9982504549072717, 0.36506031041179776, 0.5146052305561338, 0.018670887770695938, 0.025427970963900183, 0.07616536757252153, 0.30220314444051205, 0.14680214455680687, 0.3841512717125193, 0.0008288053327130944, 0.0002072013331782736, 0.1024610592566563, 0.06330000728596259, 0.9998604364787587, 0.9979969585936442, 0.9972889118822422, 0.9982582195096528, 0.28875649860910724, 0.17431843925250254, 0.5336007186278895, 0.0031049085871947017, 0.9993497992863544, 0.9989582100746859, 0.9970987089966696, 0.999171801325717, 0.5617071039396365, 0.2155345174074566, 0.22212131080870315, 0.9995680764732555, 0.4649904025904067, 0.17047688590545884, 0.1255062591062602, 0.14784460967318241, 0.09111695625981421, 0.9997208290517713, 0.9982187445572313, 0.999623411242448, 0.9992213020305466, 0.9980977697096863, 0.9994193015508236, 0.013910358651283454, 0.9853170711325779], \"Term\": [\"access\", \"accord\", \"across\", \"add\", \"add\", \"add\", \"add\", \"add\", \"aggregate\", \"algorithm\", \"analysis\", \"another\", \"api\", \"app\", \"appear\", \"append\", \"apply\", \"apply\", \"area\", \"argument\", \"arrange\", \"array\", \"assign\", \"attribute\", \"automatically\", \"average\", \"avoid\", \"axis\", \"bar\", \"barplot\", \"base\", \"base\", \"base\", \"best\", \"binary\", \"box\", \"boxplot\", \"break\", \"build\", \"button\", \"c\", \"calculate\", \"calculation\", \"call\", \"cannot\", \"cannot\", \"caret\", \"case\", \"categorical\", \"category\", \"cell\", \"certain\", \"change\", \"change\", \"change\", \"change\", \"change\", \"change\", \"character\", \"chart\", \"check\", \"chunk\", \"class\", \"classification\", \"cluster\", \"cluster\", \"code\", \"coefficient\", \"collapse\", \"color\", \"colour\", \"column\", \"column\", \"combination\", \"combine\", \"combine\", \"combine\", \"combine\", \"command\", \"command\", \"command\", \"compare\", \"compute\", \"condition\", \"conditional\", \"conditional\", \"conditionally\", \"confidence\", \"connect\", \"connection\", \"console\", \"contain\", \"contain\", \"continuous\", \"control\", \"convert\", \"convert\", \"coordinate\", \"correct\", \"correctly\", \"correlation\", \"correspond\", \"count\", \"counting\", \"create\", \"create\", \"create\", \"create\", \"create\", \"create\", \"create\", \"create\", \"criterion\", \"csv\", \"curve\", \"custom\", \"daily\", \"data\", \"data\", \"data\", \"data\", \"database\", \"dataframe\", \"dataframe\", \"dataframes\", \"dataset\", \"dataset\", \"dataset\", \"datasets\", \"datatable\", \"date\", \"day\", \"default\", \"define\", \"delete\", \"density\", \"determine\", \"df\", \"differ\", \"difference\", \"difference\", \"different\", \"different\", \"digit\", \"dimension\", \"directory\", \"display\", \"distance\", \"distribution\", \"divide\", \"document\", \"double\", \"download\", \"dplyr\", \"duplicate\", \"dynamic\", \"dynamically\", \"effect\", \"efficient\", \"efficiently\", \"element\", \"element\", \"empty\", \"encode\", \"end\", \"environment\", \"equal\", \"equivalent\", \"error\", \"error\", \"error\", \"error\", \"error\", \"error\", \"estimate\", \"event\", \"every\", \"example\", \"excel\", \"execute\", \"exist\", \"expand\", \"expect\", \"export\", \"export\", \"expression\", \"extract\", \"extract\", \"extract\", \"facet\", \"factor\", \"factor\", \"fail\", \"fails\", \"feature\", \"field\", \"file\", \"fill\", \"filter\", \"find\", \"find\", \"find\", \"find\", \"find\", \"find\", \"find\", \"find\", \"first\", \"fit\", \"fit\", \"fix\", \"folder\", \"font\", \"forecast\", \"forecasting\", \"form\", \"format\", \"found\", \"frame\", \"frequency\", \"frequency\", \"function\", \"generate\", \"get\", \"get\", \"get\", \"get\", \"get\", \"get\", \"get\", \"get\", \"get\", \"get\", \"get\", \"ggmap\", \"ggplot\", \"ggplot\", \"ggplotly\", \"give\", \"give\", \"give\", \"give\", \"give\", \"glm\", \"global\", \"google\", \"graph\", \"graph\", \"grid\", \"grid\", \"group\", \"group_by\", \"grouped\", \"handle\", \"header\", \"heatmap\", \"histogram\", \"histogram\", \"ho\", \"hour\", \"html\", \"id\", \"id\", \"identify\", \"ifelse\", \"igraph\", \"igraph\", \"image\", \"import\", \"include\", \"include\", \"increase\", \"index\", \"index\", \"individual\", \"information\", \"input\", \"inside\", \"instal\", \"install\", \"installation\", \"instead\", \"integer\", \"interactive\", \"interval\", \"interval\", \"invalid\", \"issue\", \"item\", \"iterate\", \"iteration\", \"join\", \"json\", \"k\", \"keep\", \"key\", \"knitr\", \"label\", \"label\", \"lag\", \"lapply\", \"large\", \"last\", \"layer\", \"leaflet\", \"legend\", \"length\", \"length\", \"length\", \"level\", \"library\", \"library\", \"like\", \"limit\", \"line\", \"line\", \"linear\", \"link\", \"linux\", \"list\", \"list\", \"list\", \"lm\", \"load\", \"log\", \"logistic\", \"long\", \"loop\", \"mac\", \"make\", \"make\", \"make\", \"make\", \"make\", \"make\", \"make\", \"many\", \"map\", \"markdown\", \"match\", \"matrix\", \"matrix\", \"matrix\", \"matrix\", \"matrix\", \"matrix\", \"max\", \"maximum\", \"mean\", \"mean\", \"measure\", \"merge\", \"message\", \"miss\", \"model\", \"model\", \"modify\", \"month\", \"move\", \"multi\", \"multiple\", \"multiple\", \"multiple\", \"multiple\", \"multiple\", \"multiple\", \"multiple\", \"must\", \"mutate\", \"n\", \"n\", \"na\", \"name\", \"nest\", \"network\", \"new\", \"next\", \"node\", \"normal\", \"null\", \"number\", \"number\", \"number\", \"numeric\", \"object\", \"object\", \"object\", \"object\", \"object\", \"object\", \"object\", \"observation\", \"obtain\", \"occurrence\", \"one\", \"one\", \"one\", \"one\", \"open\", \"open\", \"operation\", \"operator\", \"option\", \"order\", \"order\", \"order\", \"order\", \"original\", \"output\", \"output\", \"output\", \"output\", \"p\", \"package\", \"package\", \"package\", \"package\", \"package\", \"page\", \"pair\", \"parallel\", \"parallel\", \"parameter\", \"parameter\", \"parse\", \"part\", \"partial\", \"pas\", \"passing\", \"paste\", \"path\", \"pattern\", \"pdf\", \"per\", \"percentage\", \"perform\", \"period\", \"plot\", \"plot\", \"plot\", \"plot\", \"plotly\", \"point\", \"point\", \"point\", \"polygon\", \"position\", \"possible\", \"possible\", \"possible\", \"predict\", \"prediction\", \"previous\", \"probability\", \"problem\", \"problem\", \"produce\", \"program\", \"program\", \"purrr\", \"purrr\", \"python\", \"query\", \"quote\", \"r\", \"r\", \"r\", \"r\", \"r\", \"r\", \"r\", \"r\", \"r\", \"r\", \"r\", \"r\", \"random\", \"range\", \"raster\", \"rcpp\", \"reactive\", \"read\", \"reading\", \"reference\", \"regex\", \"regression\", \"remove\", \"remove\", \"remove\", \"remove\", \"remove\", \"rename\", \"render\", \"replace\", \"reshape\", \"result\", \"result\", \"result\", \"result\", \"result\", \"retrieve\", \"return\", \"return\", \"return\", \"rmarkdown\", \"roll\", \"row\", \"rstudio\", \"run\", \"run\", \"run\", \"run\", \"rvest\", \"sample\", \"sapply\", \"save\", \"save\", \"scale\", \"scatter\", \"score\", \"scrap\", \"script\", \"script\", \"script\", \"search\", \"second\", \"select\", \"select\", \"separate\", \"sequence\", \"series\", \"server\", \"set\", \"set\", \"set\", \"set\", \"set\", \"set\", \"set\", \"set\", \"several\", \"shape\", \"shiny\", \"show\", \"show\", \"show\", \"side\", \"similar\", \"single\", \"single\", \"single\", \"single\", \"size\", \"size\", \"size\", \"small\", \"sort\", \"source\", \"space\", \"spark\", \"sparklyr\", \"spatial\", \"specific\", \"specify\", \"speed\", \"stack\", \"standard\", \"start\", \"statement\", \"stop\", \"store\", \"string\", \"string\", \"structure\", \"studio\", \"subset\", \"subsetting\", \"sum\", \"summary\", \"symbol\", \"system\", \"tab\", \"table\", \"term\", \"test\", \"text\", \"text\", \"text\", \"text\", \"tick\", \"time\", \"time\", \"together\", \"total\", \"training\", \"transform\", \"trouble\", \"true\", \"try\", \"try\", \"try\", \"twitter\", \"two\", \"type\", \"ubuntu\", \"unable\", \"unique\", \"unknown\", \"update\", \"url\", \"use\", \"use\", \"use\", \"use\", \"use\", \"use\", \"use\", \"use\", \"use\", \"use\", \"use\", \"use\", \"v\", \"value\", \"value\", \"value\", \"value\", \"value\", \"variable\", \"variable\", \"variable\", \"variable\", \"variable\", \"variable\", \"variable\", \"vector\", \"version\", \"want\", \"warn\", \"way\", \"way\", \"way\", \"way\", \"web\", \"weight\", \"wide\", \"window\", \"within\", \"within\", \"within\", \"word\", \"work\", \"work\", \"work\", \"work\", \"work\", \"write\", \"wrong\", \"x\", \"xml\", \"xt\", \"year\", \"zero\", \"zero\"]}, \"R\": 30, \"lambda.step\": 0.01, \"plot.opts\": {\"xlab\": \"PC1\", \"ylab\": \"PC2\"}, \"topic.order\": [12, 2, 3, 9, 5, 4, 8, 10, 7, 1, 6, 11]};\n",
              "\n",
              "function LDAvis_load_lib(url, callback){\n",
              "  var s = document.createElement('script');\n",
              "  s.src = url;\n",
              "  s.async = true;\n",
              "  s.onreadystatechange = s.onload = callback;\n",
              "  s.onerror = function(){console.warn(\"failed to load library \" + url);};\n",
              "  document.getElementsByTagName(\"head\")[0].appendChild(s);\n",
              "}\n",
              "\n",
              "if(typeof(LDAvis) !== \"undefined\"){\n",
              "   // already loaded: just create the visualization\n",
              "   !function(LDAvis){\n",
              "       new LDAvis(\"#\" + \"ldavis_el19201406269738532645345936102\", ldavis_el19201406269738532645345936102_data);\n",
              "   }(LDAvis);\n",
              "}else if(typeof define === \"function\" && define.amd){\n",
              "   // require.js is available: use it to load d3/LDAvis\n",
              "   require.config({paths: {d3: \"https://d3js.org/d3.v5\"}});\n",
              "   require([\"d3\"], function(d3){\n",
              "      window.d3 = d3;\n",
              "      LDAvis_load_lib(\"https://cdn.jsdelivr.net/gh/bmabey/pyLDAvis@3.3.1/pyLDAvis/js/ldavis.v3.0.0.js\", function(){\n",
              "        new LDAvis(\"#\" + \"ldavis_el19201406269738532645345936102\", ldavis_el19201406269738532645345936102_data);\n",
              "      });\n",
              "    });\n",
              "}else{\n",
              "    // require.js not available: dynamically load d3 & LDAvis\n",
              "    LDAvis_load_lib(\"https://d3js.org/d3.v5.js\", function(){\n",
              "         LDAvis_load_lib(\"https://cdn.jsdelivr.net/gh/bmabey/pyLDAvis@3.3.1/pyLDAvis/js/ldavis.v3.0.0.js\", function(){\n",
              "                 new LDAvis(\"#\" + \"ldavis_el19201406269738532645345936102\", ldavis_el19201406269738532645345936102_data);\n",
              "            })\n",
              "         });\n",
              "}\n",
              "</script>"
            ]
          },
          "metadata": {},
          "execution_count": 38
        }
      ]
    },
    {
      "cell_type": "markdown",
      "source": [
        "> As we can see from the LDA virtualization, These results have little overlap with respect to the previous results"
      ],
      "metadata": {
        "id": "IPj4XYuokK0z"
      }
    },
    {
      "cell_type": "markdown",
      "source": [
        "> so we will choose `model_2` with `11` topic to make a Topic Modeling"
      ],
      "metadata": {
        "id": "5xE0PcfTkL11"
      }
    },
    {
      "cell_type": "markdown",
      "source": [
        "#conclusion and my findings"
      ],
      "metadata": {
        "id": "LRzOsY5pwdjY"
      }
    },
    {
      "cell_type": "markdown",
      "source": [
        "> From all of this I learned a lot of things like \n",
        "* I have learned new things in text preprocessing like in cleaning i used new approaches I didn't use them before like WordNetLemmatizer with another method to improve the performance of WordNetLemmatizer\n",
        "* I have learned how to deal with `Word2Vec` or `doc2bow`\n",
        "* and the important thing I have learned is how to deal with `Topic Modeling` and how to select the best `number of topic` for the model and how to virtualize all topics in good way\n",
        "* I have learned that when the number of Topics increases it is not necessary for an overlap as in my task when I used `K = 10` I had a lot of overlap but when I used `K = 11` the overlap decreased because of this is `K` with `the highest coherence score`\n",
        "\n",
        "> * I learned to be patient when I run codes like this 😀😀😀"
      ],
      "metadata": {
        "id": "zJWuLn5lwu0i"
      }
    },
    {
      "cell_type": "markdown",
      "source": [
        "#Refrence"
      ],
      "metadata": {
        "id": "BDo-XNfeOrM3"
      }
    },
    {
      "cell_type": "markdown",
      "source": [
        "[Ref.](https://www.machinelearningplus.com/nlp/lemmatization-examples-python/)\n",
        "[Ref.](https://stackoverflow.com/questions/35861482/nltk-lookup-error)\n",
        "[Ref.](https://radimrehurek.com/gensim/models/word2vec.html)\n",
        "[Ref.](https://www.machinelearningplus.com/nlp/topic-modeling-gensim-python/)"
      ],
      "metadata": {
        "id": "2460xyIwOuKu"
      }
    },
    {
      "cell_type": "code",
      "source": [
        ""
      ],
      "metadata": {
        "id": "yQMp73HUO8Ay"
      },
      "execution_count": 32,
      "outputs": []
    }
  ],
  "metadata": {
    "language_info": {
      "name": "python"
    },
    "orig_nbformat": 4,
    "colab": {
      "name": "Ahmed_Mohamed_Gaber_lab4_DA_21AMGA.ipynb",
      "provenance": [],
      "collapsed_sections": [
        "Q7DmDszThiyj",
        "0M7XdFmUz5Cg",
        "C8STQ4R58nQY",
        "FTVGzGOtQVsB",
        "nTLTtS2qCf5D",
        "02gtMxT71kbI",
        "GePlarQ78Bkt",
        "unAbDdG2QVsB",
        "29oZOoc_wIti",
        "Zfk__pMxwOhE",
        "CDXHpfuIwT1D",
        "khsHfx1CQVsC",
        "2s0fHz8avCcC",
        "jt31kDJnvV_L",
        "i4Yic4_E19jZ",
        "lR1ZL_5O2QS0",
        "rYcc3N1T2Sj-",
        "LRzOsY5pwdjY",
        "BDo-XNfeOrM3"
      ]
    },
    "kernelspec": {
      "name": "python3",
      "display_name": "Python 3"
    }
  },
  "nbformat": 4,
  "nbformat_minor": 0
}